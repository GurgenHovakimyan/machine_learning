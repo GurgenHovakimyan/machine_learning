{
 "cells": [
  {
   "cell_type": "markdown",
   "metadata": {},
   "source": [
    "# EuroSciPy 2017: NumPy tutorial"
   ]
  },
  {
   "cell_type": "markdown",
   "metadata": {},
   "source": [
    "## Getting started"
   ]
  },
  {
   "cell_type": "markdown",
   "metadata": {},
   "source": [
    "Import the NumPy package"
   ]
  },
  {
   "cell_type": "code",
   "execution_count": 1,
   "metadata": {
    "ExecuteTime": {
     "end_time": "2021-02-17T19:22:37.360143Z",
     "start_time": "2021-02-17T19:22:37.079990Z"
    }
   },
   "outputs": [],
   "source": [
    "import numpy as np"
   ]
  },
  {
   "cell_type": "code",
   "execution_count": 5,
   "metadata": {
    "ExecuteTime": {
     "end_time": "2021-02-17T19:24:22.193680Z",
     "start_time": "2021-02-17T19:23:56.125088Z"
    }
   },
   "outputs": [
    {
     "name": "stdout",
     "output_type": "stream",
     "text": [
      "Collecting jupyter_contrib_nbextensions\n",
      "  Using cached jupyter_contrib_nbextensions-0.5.1-py2.py3-none-any.whl (20.9 MB)\n",
      "Requirement already satisfied: traitlets>=4.1 in c:\\users\\gurgen\\anaconda3\\lib\\site-packages (from jupyter_contrib_nbextensions) (5.0.5)\n",
      "Requirement already satisfied: nbconvert>=4.2 in c:\\users\\gurgen\\anaconda3\\lib\\site-packages (from jupyter_contrib_nbextensions) (6.0.7)\n",
      "Requirement already satisfied: pyyaml in c:\\users\\gurgen\\anaconda3\\lib\\site-packages (from jupyter_contrib_nbextensions) (5.3.1)\n",
      "Requirement already satisfied: tornado in c:\\users\\gurgen\\anaconda3\\lib\\site-packages (from jupyter_contrib_nbextensions) (6.0.4)\n",
      "Requirement already satisfied: ipython-genutils in c:\\users\\gurgen\\anaconda3\\lib\\site-packages (from jupyter_contrib_nbextensions) (0.2.0)\n",
      "Collecting jupyter-nbextensions-configurator>=0.4.0\n",
      "  Using cached jupyter_nbextensions_configurator-0.4.1.tar.gz (479 kB)\n",
      "Collecting jupyter-highlight-selected-word>=0.1.1\n",
      "  Using cached jupyter_highlight_selected_word-0.2.0-py2.py3-none-any.whl (11 kB)\n",
      "Collecting jupyter-latex-envs>=1.3.8\n",
      "  Using cached jupyter_latex_envs-1.4.6.tar.gz (861 kB)\n",
      "Requirement already satisfied: lxml in c:\\users\\gurgen\\anaconda3\\lib\\site-packages (from jupyter_contrib_nbextensions) (4.6.1)\n",
      "Requirement already satisfied: notebook>=4.0 in c:\\users\\gurgen\\anaconda3\\lib\\site-packages (from jupyter_contrib_nbextensions) (6.1.4)\n",
      "Requirement already satisfied: jupyter-core in c:\\users\\gurgen\\anaconda3\\lib\\site-packages (from jupyter_contrib_nbextensions) (4.6.3)\n",
      "Collecting jupyter-contrib-core>=0.3.3\n",
      "  Using cached jupyter_contrib_core-0.3.3-py2.py3-none-any.whl (18 kB)\n",
      "Requirement already satisfied: pygments>=2.4.1 in c:\\users\\gurgen\\anaconda3\\lib\\site-packages (from nbconvert>=4.2->jupyter_contrib_nbextensions) (2.7.2)Note: you may need to restart the kernel to use updated packages.\n"
     ]
    },
    {
     "name": "stderr",
     "output_type": "stream",
     "text": [
      "[I 23:24:20 InstallContribNbextensionsApp] jupyter contrib nbextension install \n"
     ]
    },
    {
     "name": "stdout",
     "output_type": "stream",
     "text": [
      "\n",
      "Requirement already satisfied: jupyterlab-pygments in c:\\users\\gurgen\\anaconda3\\lib\\site-packages (from nbconvert>=4.2->jupyter_contrib_nbextensions) (0.1.2)\n",
      "Requirement already satisfied: defusedxml in c:\\users\\gurgen\\anaconda3\\lib\\site-packages (from nbconvert>=4.2->jupyter_contrib_nbextensions) (0.6.0)\n",
      "Requirement already satisfied: mistune<2,>=0.8.1 in c:\\users\\gurgen\\anaconda3\\lib\\site-packages (from nbconvert>=4.2->jupyter_contrib_nbextensions) (0.8.4)\n",
      "Requirement already satisfied: entrypoints>=0.2.2 in c:\\users\\gurgen\\anaconda3\\lib\\site-packages (from nbconvert>=4.2->jupyter_contrib_nbextensions) (0.3)\n",
      "Requirement already satisfied: bleach in c:\\users\\gurgen\\anaconda3\\lib\\site-packages (from nbconvert>=4.2->jupyter_contrib_nbextensions) (3.2.1)\n",
      "Requirement already satisfied: pandocfilters>=1.4.1 in c:\\users\\gurgen\\anaconda3\\lib\\site-packages (from nbconvert>=4.2->jupyter_contrib_nbextensions) (1.4.3)\n",
      "Requirement already satisfied: testpath in c:\\users\\gurgen\\anaconda3\\lib\\site-packages (from nbconvert>=4.2->jupyter_contrib_nbextensions) (0.4.4)\n",
      "Requirement already satisfied: nbclient<0.6.0,>=0.5.0 in c:\\users\\gurgen\\anaconda3\\lib\\site-packages (from nbconvert>=4.2->jupyter_contrib_nbextensions) (0.5.1)\n",
      "Requirement already satisfied: jinja2>=2.4 in c:\\users\\gurgen\\anaconda3\\lib\\site-packages (from nbconvert>=4.2->jupyter_contrib_nbextensions) (2.11.2)\n",
      "Requirement already satisfied: nbformat>=4.4 in c:\\users\\gurgen\\anaconda3\\lib\\site-packages (from nbconvert>=4.2->jupyter_contrib_nbextensions) (5.0.8)\n",
      "Requirement already satisfied: ipython in c:\\users\\gurgen\\anaconda3\\lib\\site-packages (from jupyter-latex-envs>=1.3.8->jupyter_contrib_nbextensions) (7.19.0)\n",
      "Requirement already satisfied: jupyter-client>=5.3.4 in c:\\users\\gurgen\\anaconda3\\lib\\site-packages (from notebook>=4.0->jupyter_contrib_nbextensions) (6.1.7)\n",
      "Requirement already satisfied: pyzmq>=17 in c:\\users\\gurgen\\anaconda3\\lib\\site-packages (from notebook>=4.0->jupyter_contrib_nbextensions) (19.0.2)\n",
      "Requirement already satisfied: ipykernel in c:\\users\\gurgen\\anaconda3\\lib\\site-packages (from notebook>=4.0->jupyter_contrib_nbextensions) (5.3.4)\n",
      "Requirement already satisfied: argon2-cffi in c:\\users\\gurgen\\anaconda3\\lib\\site-packages (from notebook>=4.0->jupyter_contrib_nbextensions) (20.1.0)\n",
      "Requirement already satisfied: prometheus-client in c:\\users\\gurgen\\anaconda3\\lib\\site-packages (from notebook>=4.0->jupyter_contrib_nbextensions) (0.8.0)\n",
      "Requirement already satisfied: terminado>=0.8.3 in c:\\users\\gurgen\\anaconda3\\lib\\site-packages (from notebook>=4.0->jupyter_contrib_nbextensions) (0.9.1)\n",
      "Requirement already satisfied: Send2Trash in c:\\users\\gurgen\\anaconda3\\lib\\site-packages (from notebook>=4.0->jupyter_contrib_nbextensions) (1.5.0)\n",
      "Requirement already satisfied: pywin32>=1.0; sys_platform == \"win32\" in c:\\users\\gurgen\\anaconda3\\lib\\site-packages (from jupyter-core->jupyter_contrib_nbextensions) (227)\n",
      "Requirement already satisfied: setuptools in c:\\users\\gurgen\\anaconda3\\lib\\site-packages (from jupyter-contrib-core>=0.3.3->jupyter_contrib_nbextensions) (50.3.1.post20201107)\n",
      "Requirement already satisfied: packaging in c:\\users\\gurgen\\anaconda3\\lib\\site-packages (from bleach->nbconvert>=4.2->jupyter_contrib_nbextensions) (20.4)\n",
      "Requirement already satisfied: webencodings in c:\\users\\gurgen\\anaconda3\\lib\\site-packages (from bleach->nbconvert>=4.2->jupyter_contrib_nbextensions) (0.5.1)\n",
      "Requirement already satisfied: six>=1.9.0 in c:\\users\\gurgen\\anaconda3\\lib\\site-packages (from bleach->nbconvert>=4.2->jupyter_contrib_nbextensions) (1.15.0)\n",
      "Requirement already satisfied: nest-asyncio in c:\\users\\gurgen\\anaconda3\\lib\\site-packages (from nbclient<0.6.0,>=0.5.0->nbconvert>=4.2->jupyter_contrib_nbextensions) (1.4.2)\n",
      "Requirement already satisfied: async-generator in c:\\users\\gurgen\\anaconda3\\lib\\site-packages (from nbclient<0.6.0,>=0.5.0->nbconvert>=4.2->jupyter_contrib_nbextensions) (1.10)\n",
      "Requirement already satisfied: MarkupSafe>=0.23 in c:\\users\\gurgen\\anaconda3\\lib\\site-packages (from jinja2>=2.4->nbconvert>=4.2->jupyter_contrib_nbextensions) (1.1.1)\n",
      "Requirement already satisfied: jsonschema!=2.5.0,>=2.4 in c:\\users\\gurgen\\anaconda3\\lib\\site-packages (from nbformat>=4.4->nbconvert>=4.2->jupyter_contrib_nbextensions) (3.2.0)\n",
      "Requirement already satisfied: decorator in c:\\users\\gurgen\\anaconda3\\lib\\site-packages (from ipython->jupyter-latex-envs>=1.3.8->jupyter_contrib_nbextensions) (4.4.2)\n",
      "Requirement already satisfied: pickleshare in c:\\users\\gurgen\\anaconda3\\lib\\site-packages (from ipython->jupyter-latex-envs>=1.3.8->jupyter_contrib_nbextensions) (0.7.5)\n",
      "Requirement already satisfied: backcall in c:\\users\\gurgen\\anaconda3\\lib\\site-packages (from ipython->jupyter-latex-envs>=1.3.8->jupyter_contrib_nbextensions) (0.2.0)\n",
      "Requirement already satisfied: jedi>=0.10 in c:\\users\\gurgen\\anaconda3\\lib\\site-packages (from ipython->jupyter-latex-envs>=1.3.8->jupyter_contrib_nbextensions) (0.17.1)\n",
      "Requirement already satisfied: colorama; sys_platform == \"win32\" in c:\\users\\gurgen\\anaconda3\\lib\\site-packages (from ipython->jupyter-latex-envs>=1.3.8->jupyter_contrib_nbextensions) (0.4.4)\n",
      "Requirement already satisfied: prompt-toolkit!=3.0.0,!=3.0.1,<3.1.0,>=2.0.0 in c:\\users\\gurgen\\anaconda3\\lib\\site-packages (from ipython->jupyter-latex-envs>=1.3.8->jupyter_contrib_nbextensions) (3.0.8)\n",
      "Requirement already satisfied: python-dateutil>=2.1 in c:\\users\\gurgen\\anaconda3\\lib\\site-packages (from jupyter-client>=5.3.4->notebook>=4.0->jupyter_contrib_nbextensions) (2.8.1)\n",
      "Requirement already satisfied: cffi>=1.0.0 in c:\\users\\gurgen\\anaconda3\\lib\\site-packages (from argon2-cffi->notebook>=4.0->jupyter_contrib_nbextensions) (1.14.3)\n",
      "Requirement already satisfied: pywinpty>=0.5 in c:\\users\\gurgen\\anaconda3\\lib\\site-packages (from terminado>=0.8.3->notebook>=4.0->jupyter_contrib_nbextensions) (0.5.7)\n",
      "Requirement already satisfied: pyparsing>=2.0.2 in c:\\users\\gurgen\\anaconda3\\lib\\site-packages (from packaging->bleach->nbconvert>=4.2->jupyter_contrib_nbextensions) (2.4.7)\n",
      "Requirement already satisfied: pyrsistent>=0.14.0 in c:\\users\\gurgen\\anaconda3\\lib\\site-packages (from jsonschema!=2.5.0,>=2.4->nbformat>=4.4->nbconvert>=4.2->jupyter_contrib_nbextensions) (0.17.3)\n",
      "Requirement already satisfied: attrs>=17.4.0 in c:\\users\\gurgen\\anaconda3\\lib\\site-packages (from jsonschema!=2.5.0,>=2.4->nbformat>=4.4->nbconvert>=4.2->jupyter_contrib_nbextensions) (20.3.0)\n",
      "Requirement already satisfied: parso<0.8.0,>=0.7.0 in c:\\users\\gurgen\\anaconda3\\lib\\site-packages (from jedi>=0.10->ipython->jupyter-latex-envs>=1.3.8->jupyter_contrib_nbextensions) (0.7.0)\n",
      "Requirement already satisfied: wcwidth in c:\\users\\gurgen\\anaconda3\\lib\\site-packages (from prompt-toolkit!=3.0.0,!=3.0.1,<3.1.0,>=2.0.0->ipython->jupyter-latex-envs>=1.3.8->jupyter_contrib_nbextensions) (0.2.5)\n",
      "Requirement already satisfied: pycparser in c:\\users\\gurgen\\anaconda3\\lib\\site-packages (from cffi>=1.0.0->argon2-cffi->notebook>=4.0->jupyter_contrib_nbextensions) (2.20)\n",
      "Building wheels for collected packages: jupyter-nbextensions-configurator, jupyter-latex-envs\n",
      "  Building wheel for jupyter-nbextensions-configurator (setup.py): started\n",
      "  Building wheel for jupyter-nbextensions-configurator (setup.py): finished with status 'done'\n",
      "  Created wheel for jupyter-nbextensions-configurator: filename=jupyter_nbextensions_configurator-0.4.1-py2.py3-none-any.whl size=465828 sha256=71051f5669da485540930c1d47cba41c141e5e72902381446bf2751958a84b81\n",
      "  Stored in directory: c:\\users\\gurgen\\appdata\\local\\pip\\cache\\wheels\\e3\\3a\\b3\\a709b437602c3807f079f0c35ccba3e1adf9af6f2e6b0ebfea\n",
      "  Building wheel for jupyter-latex-envs (setup.py): started\n",
      "  Building wheel for jupyter-latex-envs (setup.py): finished with status 'done'\n",
      "  Created wheel for jupyter-latex-envs: filename=jupyter_latex_envs-1.4.6-py2.py3-none-any.whl size=963398 sha256=869492f13195777f68d912fe85a760d43dce5ba5a37a95bd2c9fa85bef44f6f5\n",
      "  Stored in directory: c:\\users\\gurgen\\appdata\\local\\pip\\cache\\wheels\\4d\\ba\\f4\\b8c0941055519ebc0f27e85bfe2bb223f1a59a3b8bfc5c7515\n",
      "Successfully built jupyter-nbextensions-configurator jupyter-latex-envs\n",
      "Installing collected packages: jupyter-contrib-core, jupyter-nbextensions-configurator, jupyter-highlight-selected-word, jupyter-latex-envs, jupyter-contrib-nbextensions\n",
      "Successfully installed jupyter-contrib-core-0.3.3 jupyter-contrib-nbextensions-0.5.1 jupyter-highlight-selected-word-0.2.0 jupyter-latex-envs-1.4.6 jupyter-nbextensions-configurator-0.4.1\n"
     ]
    },
    {
     "name": "stderr",
     "output_type": "stream",
     "text": [
      "[I 23:24:20 InstallContribNbextensionsApp] Installing jupyter_contrib_nbextensions nbextension files to jupyter data directory\n",
      "[I 23:24:20 InstallContribNbextensionsApp] Installing c:\\users\\gurgen\\anaconda3\\lib\\site-packages\\jupyter_contrib_nbextensions\\nbextensions\\addbefore -> addbefore\n",
      "[W 23:24:20 InstallContribNbextensionsApp] Out of date: C:\\ProgramData\\jupyter\\nbextensions\\addbefore\\addbefore.yaml\n",
      "[I 23:24:20 InstallContribNbextensionsApp] Copying: c:\\users\\gurgen\\anaconda3\\lib\\site-packages\\jupyter_contrib_nbextensions\\nbextensions\\addbefore\\addbefore.yaml -> C:\\ProgramData\\jupyter\\nbextensions\\addbefore\\addbefore.yaml\n",
      "[W 23:24:20 InstallContribNbextensionsApp] Out of date: C:\\ProgramData\\jupyter\\nbextensions\\addbefore\\icon.png\n",
      "[I 23:24:20 InstallContribNbextensionsApp] Copying: c:\\users\\gurgen\\anaconda3\\lib\\site-packages\\jupyter_contrib_nbextensions\\nbextensions\\addbefore\\icon.png -> C:\\ProgramData\\jupyter\\nbextensions\\addbefore\\icon.png\n",
      "[W 23:24:20 InstallContribNbextensionsApp] Out of date: C:\\ProgramData\\jupyter\\nbextensions\\addbefore\\main.js\n",
      "[I 23:24:20 InstallContribNbextensionsApp] Copying: c:\\users\\gurgen\\anaconda3\\lib\\site-packages\\jupyter_contrib_nbextensions\\nbextensions\\addbefore\\main.js -> C:\\ProgramData\\jupyter\\nbextensions\\addbefore\\main.js\n",
      "[W 23:24:20 InstallContribNbextensionsApp] Out of date: C:\\ProgramData\\jupyter\\nbextensions\\addbefore\\readme.md\n",
      "[I 23:24:20 InstallContribNbextensionsApp] Copying: c:\\users\\gurgen\\anaconda3\\lib\\site-packages\\jupyter_contrib_nbextensions\\nbextensions\\addbefore\\readme.md -> C:\\ProgramData\\jupyter\\nbextensions\\addbefore\\readme.md\n",
      "[I 23:24:20 InstallContribNbextensionsApp] - Validating: ok\n",
      "[I 23:24:20 InstallContribNbextensionsApp] Installing c:\\users\\gurgen\\anaconda3\\lib\\site-packages\\jupyter_contrib_nbextensions\\nbextensions\\autosavetime -> autosavetime\n",
      "[W 23:24:20 InstallContribNbextensionsApp] Out of date: C:\\ProgramData\\jupyter\\nbextensions\\autosavetime\\autosavetime.yaml\n",
      "[I 23:24:20 InstallContribNbextensionsApp] Copying: c:\\users\\gurgen\\anaconda3\\lib\\site-packages\\jupyter_contrib_nbextensions\\nbextensions\\autosavetime\\autosavetime.yaml -> C:\\ProgramData\\jupyter\\nbextensions\\autosavetime\\autosavetime.yaml\n",
      "[W 23:24:20 InstallContribNbextensionsApp] Out of date: C:\\ProgramData\\jupyter\\nbextensions\\autosavetime\\icon.png\n",
      "[I 23:24:20 InstallContribNbextensionsApp] Copying: c:\\users\\gurgen\\anaconda3\\lib\\site-packages\\jupyter_contrib_nbextensions\\nbextensions\\autosavetime\\icon.png -> C:\\ProgramData\\jupyter\\nbextensions\\autosavetime\\icon.png\n",
      "[W 23:24:20 InstallContribNbextensionsApp] Out of date: C:\\ProgramData\\jupyter\\nbextensions\\autosavetime\\main.js\n",
      "[I 23:24:20 InstallContribNbextensionsApp] Copying: c:\\users\\gurgen\\anaconda3\\lib\\site-packages\\jupyter_contrib_nbextensions\\nbextensions\\autosavetime\\main.js -> C:\\ProgramData\\jupyter\\nbextensions\\autosavetime\\main.js\n",
      "[W 23:24:20 InstallContribNbextensionsApp] Out of date: C:\\ProgramData\\jupyter\\nbextensions\\autosavetime\\README.md\n",
      "[I 23:24:20 InstallContribNbextensionsApp] Copying: c:\\users\\gurgen\\anaconda3\\lib\\site-packages\\jupyter_contrib_nbextensions\\nbextensions\\autosavetime\\README.md -> C:\\ProgramData\\jupyter\\nbextensions\\autosavetime\\README.md\n",
      "[I 23:24:20 InstallContribNbextensionsApp] - Validating: ok\n",
      "[I 23:24:20 InstallContribNbextensionsApp] Installing c:\\users\\gurgen\\anaconda3\\lib\\site-packages\\jupyter_contrib_nbextensions\\nbextensions\\autoscroll -> autoscroll\n",
      "[W 23:24:20 InstallContribNbextensionsApp] Out of date: C:\\ProgramData\\jupyter\\nbextensions\\autoscroll\\autoscroll.yaml\n",
      "[I 23:24:20 InstallContribNbextensionsApp] Copying: c:\\users\\gurgen\\anaconda3\\lib\\site-packages\\jupyter_contrib_nbextensions\\nbextensions\\autoscroll\\autoscroll.yaml -> C:\\ProgramData\\jupyter\\nbextensions\\autoscroll\\autoscroll.yaml\n",
      "[W 23:24:20 InstallContribNbextensionsApp] Out of date: C:\\ProgramData\\jupyter\\nbextensions\\autoscroll\\icon.png\n",
      "[I 23:24:20 InstallContribNbextensionsApp] Copying: c:\\users\\gurgen\\anaconda3\\lib\\site-packages\\jupyter_contrib_nbextensions\\nbextensions\\autoscroll\\icon.png -> C:\\ProgramData\\jupyter\\nbextensions\\autoscroll\\icon.png\n",
      "[W 23:24:20 InstallContribNbextensionsApp] Out of date: C:\\ProgramData\\jupyter\\nbextensions\\autoscroll\\main.js\n",
      "[I 23:24:20 InstallContribNbextensionsApp] Copying: c:\\users\\gurgen\\anaconda3\\lib\\site-packages\\jupyter_contrib_nbextensions\\nbextensions\\autoscroll\\main.js -> C:\\ProgramData\\jupyter\\nbextensions\\autoscroll\\main.js\n",
      "[W 23:24:20 InstallContribNbextensionsApp] Out of date: C:\\ProgramData\\jupyter\\nbextensions\\autoscroll\\README.md\n",
      "[I 23:24:20 InstallContribNbextensionsApp] Copying: c:\\users\\gurgen\\anaconda3\\lib\\site-packages\\jupyter_contrib_nbextensions\\nbextensions\\autoscroll\\README.md -> C:\\ProgramData\\jupyter\\nbextensions\\autoscroll\\README.md\n",
      "[I 23:24:20 InstallContribNbextensionsApp] - Validating: ok\n",
      "[I 23:24:20 InstallContribNbextensionsApp] Installing c:\\users\\gurgen\\anaconda3\\lib\\site-packages\\jupyter_contrib_nbextensions\\nbextensions\\cell_filter -> cell_filter\n",
      "[W 23:24:20 InstallContribNbextensionsApp] Out of date: C:\\ProgramData\\jupyter\\nbextensions\\cell_filter\\cell_filter.js\n",
      "[I 23:24:20 InstallContribNbextensionsApp] Copying: c:\\users\\gurgen\\anaconda3\\lib\\site-packages\\jupyter_contrib_nbextensions\\nbextensions\\cell_filter\\cell_filter.js -> C:\\ProgramData\\jupyter\\nbextensions\\cell_filter\\cell_filter.js\n",
      "[W 23:24:20 InstallContribNbextensionsApp] Out of date: C:\\ProgramData\\jupyter\\nbextensions\\cell_filter\\cell_filter.yml\n",
      "[I 23:24:20 InstallContribNbextensionsApp] Copying: c:\\users\\gurgen\\anaconda3\\lib\\site-packages\\jupyter_contrib_nbextensions\\nbextensions\\cell_filter\\cell_filter.yml -> C:\\ProgramData\\jupyter\\nbextensions\\cell_filter\\cell_filter.yml\n",
      "[W 23:24:20 InstallContribNbextensionsApp] Out of date: C:\\ProgramData\\jupyter\\nbextensions\\cell_filter\\README.md\n",
      "[I 23:24:20 InstallContribNbextensionsApp] Copying: c:\\users\\gurgen\\anaconda3\\lib\\site-packages\\jupyter_contrib_nbextensions\\nbextensions\\cell_filter\\README.md -> C:\\ProgramData\\jupyter\\nbextensions\\cell_filter\\README.md\n",
      "[I 23:24:20 InstallContribNbextensionsApp] - Validating: ok\n",
      "[I 23:24:20 InstallContribNbextensionsApp] Installing c:\\users\\gurgen\\anaconda3\\lib\\site-packages\\jupyter_contrib_nbextensions\\nbextensions\\codefolding -> codefolding\n",
      "[W 23:24:20 InstallContribNbextensionsApp] Out of date: C:\\ProgramData\\jupyter\\nbextensions\\codefolding\\codefolding.yaml\n",
      "[I 23:24:20 InstallContribNbextensionsApp] Copying: c:\\users\\gurgen\\anaconda3\\lib\\site-packages\\jupyter_contrib_nbextensions\\nbextensions\\codefolding\\codefolding.yaml -> C:\\ProgramData\\jupyter\\nbextensions\\codefolding\\codefolding.yaml\n",
      "[W 23:24:20 InstallContribNbextensionsApp] Out of date: C:\\ProgramData\\jupyter\\nbextensions\\codefolding\\codefolding_editor.png\n",
      "[I 23:24:20 InstallContribNbextensionsApp] Copying: c:\\users\\gurgen\\anaconda3\\lib\\site-packages\\jupyter_contrib_nbextensions\\nbextensions\\codefolding\\codefolding_editor.png -> C:\\ProgramData\\jupyter\\nbextensions\\codefolding\\codefolding_editor.png\n",
      "[W 23:24:20 InstallContribNbextensionsApp] Out of date: C:\\ProgramData\\jupyter\\nbextensions\\codefolding\\codefolding_editor.yaml\n",
      "[I 23:24:20 InstallContribNbextensionsApp] Copying: c:\\users\\gurgen\\anaconda3\\lib\\site-packages\\jupyter_contrib_nbextensions\\nbextensions\\codefolding\\codefolding_editor.yaml -> C:\\ProgramData\\jupyter\\nbextensions\\codefolding\\codefolding_editor.yaml\n",
      "[W 23:24:20 InstallContribNbextensionsApp] Out of date: C:\\ProgramData\\jupyter\\nbextensions\\codefolding\\codefolding_firstline_folded.png\n",
      "[I 23:24:20 InstallContribNbextensionsApp] Copying: c:\\users\\gurgen\\anaconda3\\lib\\site-packages\\jupyter_contrib_nbextensions\\nbextensions\\codefolding\\codefolding_firstline_folded.png -> C:\\ProgramData\\jupyter\\nbextensions\\codefolding\\codefolding_firstline_folded.png\n",
      "[W 23:24:20 InstallContribNbextensionsApp] Out of date: C:\\ProgramData\\jupyter\\nbextensions\\codefolding\\codefolding_firstline_unfolded.png\n",
      "[I 23:24:20 InstallContribNbextensionsApp] Copying: c:\\users\\gurgen\\anaconda3\\lib\\site-packages\\jupyter_contrib_nbextensions\\nbextensions\\codefolding\\codefolding_firstline_unfolded.png -> C:\\ProgramData\\jupyter\\nbextensions\\codefolding\\codefolding_firstline_unfolded.png\n",
      "[W 23:24:20 InstallContribNbextensionsApp] Out of date: C:\\ProgramData\\jupyter\\nbextensions\\codefolding\\codefolding_indent_folded_1.png\n",
      "[I 23:24:20 InstallContribNbextensionsApp] Copying: c:\\users\\gurgen\\anaconda3\\lib\\site-packages\\jupyter_contrib_nbextensions\\nbextensions\\codefolding\\codefolding_indent_folded_1.png -> C:\\ProgramData\\jupyter\\nbextensions\\codefolding\\codefolding_indent_folded_1.png\n",
      "[W 23:24:20 InstallContribNbextensionsApp] Out of date: C:\\ProgramData\\jupyter\\nbextensions\\codefolding\\codefolding_indent_folded_2.png\n",
      "[I 23:24:20 InstallContribNbextensionsApp] Copying: c:\\users\\gurgen\\anaconda3\\lib\\site-packages\\jupyter_contrib_nbextensions\\nbextensions\\codefolding\\codefolding_indent_folded_2.png -> C:\\ProgramData\\jupyter\\nbextensions\\codefolding\\codefolding_indent_folded_2.png\n",
      "[W 23:24:20 InstallContribNbextensionsApp] Out of date: C:\\ProgramData\\jupyter\\nbextensions\\codefolding\\codefolding_indent_unfolded.png\n",
      "[I 23:24:20 InstallContribNbextensionsApp] Copying: c:\\users\\gurgen\\anaconda3\\lib\\site-packages\\jupyter_contrib_nbextensions\\nbextensions\\codefolding\\codefolding_indent_unfolded.png -> C:\\ProgramData\\jupyter\\nbextensions\\codefolding\\codefolding_indent_unfolded.png\n",
      "[W 23:24:20 InstallContribNbextensionsApp] Out of date: C:\\ProgramData\\jupyter\\nbextensions\\codefolding\\edit.js\n",
      "[I 23:24:20 InstallContribNbextensionsApp] Copying: c:\\users\\gurgen\\anaconda3\\lib\\site-packages\\jupyter_contrib_nbextensions\\nbextensions\\codefolding\\edit.js -> C:\\ProgramData\\jupyter\\nbextensions\\codefolding\\edit.js\n",
      "[W 23:24:20 InstallContribNbextensionsApp] Out of date: C:\\ProgramData\\jupyter\\nbextensions\\codefolding\\firstline-fold.js\n",
      "[I 23:24:20 InstallContribNbextensionsApp] Copying: c:\\users\\gurgen\\anaconda3\\lib\\site-packages\\jupyter_contrib_nbextensions\\nbextensions\\codefolding\\firstline-fold.js -> C:\\ProgramData\\jupyter\\nbextensions\\codefolding\\firstline-fold.js\n",
      "[W 23:24:20 InstallContribNbextensionsApp] Out of date: C:\\ProgramData\\jupyter\\nbextensions\\codefolding\\foldgutter.css\n",
      "[I 23:24:20 InstallContribNbextensionsApp] Copying: c:\\users\\gurgen\\anaconda3\\lib\\site-packages\\jupyter_contrib_nbextensions\\nbextensions\\codefolding\\foldgutter.css -> C:\\ProgramData\\jupyter\\nbextensions\\codefolding\\foldgutter.css\n",
      "[W 23:24:20 InstallContribNbextensionsApp] Out of date: C:\\ProgramData\\jupyter\\nbextensions\\codefolding\\icon.png\n",
      "[I 23:24:20 InstallContribNbextensionsApp] Copying: c:\\users\\gurgen\\anaconda3\\lib\\site-packages\\jupyter_contrib_nbextensions\\nbextensions\\codefolding\\icon.png -> C:\\ProgramData\\jupyter\\nbextensions\\codefolding\\icon.png\n",
      "[W 23:24:20 InstallContribNbextensionsApp] Out of date: C:\\ProgramData\\jupyter\\nbextensions\\codefolding\\magic-fold.js\n",
      "[I 23:24:20 InstallContribNbextensionsApp] Copying: c:\\users\\gurgen\\anaconda3\\lib\\site-packages\\jupyter_contrib_nbextensions\\nbextensions\\codefolding\\magic-fold.js -> C:\\ProgramData\\jupyter\\nbextensions\\codefolding\\magic-fold.js\n",
      "[W 23:24:20 InstallContribNbextensionsApp] Out of date: C:\\ProgramData\\jupyter\\nbextensions\\codefolding\\magic-folded.png\n",
      "[I 23:24:20 InstallContribNbextensionsApp] Copying: c:\\users\\gurgen\\anaconda3\\lib\\site-packages\\jupyter_contrib_nbextensions\\nbextensions\\codefolding\\magic-folded.png -> C:\\ProgramData\\jupyter\\nbextensions\\codefolding\\magic-folded.png\n",
      "[W 23:24:20 InstallContribNbextensionsApp] Out of date: C:\\ProgramData\\jupyter\\nbextensions\\codefolding\\magic-unfolded.png\n",
      "[I 23:24:20 InstallContribNbextensionsApp] Copying: c:\\users\\gurgen\\anaconda3\\lib\\site-packages\\jupyter_contrib_nbextensions\\nbextensions\\codefolding\\magic-unfolded.png -> C:\\ProgramData\\jupyter\\nbextensions\\codefolding\\magic-unfolded.png\n",
      "[W 23:24:20 InstallContribNbextensionsApp] Out of date: C:\\ProgramData\\jupyter\\nbextensions\\codefolding\\main.js\n",
      "[I 23:24:20 InstallContribNbextensionsApp] Copying: c:\\users\\gurgen\\anaconda3\\lib\\site-packages\\jupyter_contrib_nbextensions\\nbextensions\\codefolding\\main.js -> C:\\ProgramData\\jupyter\\nbextensions\\codefolding\\main.js\n",
      "[W 23:24:20 InstallContribNbextensionsApp] Out of date: C:\\ProgramData\\jupyter\\nbextensions\\codefolding\\readme.md\n",
      "[I 23:24:20 InstallContribNbextensionsApp] Copying: c:\\users\\gurgen\\anaconda3\\lib\\site-packages\\jupyter_contrib_nbextensions\\nbextensions\\codefolding\\readme.md -> C:\\ProgramData\\jupyter\\nbextensions\\codefolding\\readme.md\n",
      "[I 23:24:20 InstallContribNbextensionsApp] - Validating: ok\n",
      "[I 23:24:20 InstallContribNbextensionsApp] Installing c:\\users\\gurgen\\anaconda3\\lib\\site-packages\\jupyter_contrib_nbextensions\\nbextensions\\codefolding -> codefolding\n",
      "[I 23:24:20 InstallContribNbextensionsApp] Up to date: C:\\ProgramData\\jupyter\\nbextensions\\codefolding\\codefolding.yaml\n",
      "[I 23:24:20 InstallContribNbextensionsApp] Up to date: C:\\ProgramData\\jupyter\\nbextensions\\codefolding\\codefolding_editor.png\n",
      "[I 23:24:20 InstallContribNbextensionsApp] Up to date: C:\\ProgramData\\jupyter\\nbextensions\\codefolding\\codefolding_editor.yaml\n",
      "[I 23:24:20 InstallContribNbextensionsApp] Up to date: C:\\ProgramData\\jupyter\\nbextensions\\codefolding\\codefolding_firstline_folded.png\n",
      "[I 23:24:20 InstallContribNbextensionsApp] Up to date: C:\\ProgramData\\jupyter\\nbextensions\\codefolding\\codefolding_firstline_unfolded.png\n",
      "[I 23:24:20 InstallContribNbextensionsApp] Up to date: C:\\ProgramData\\jupyter\\nbextensions\\codefolding\\codefolding_indent_folded_1.png\n",
      "[I 23:24:20 InstallContribNbextensionsApp] Up to date: C:\\ProgramData\\jupyter\\nbextensions\\codefolding\\codefolding_indent_folded_2.png\n",
      "[I 23:24:20 InstallContribNbextensionsApp] Up to date: C:\\ProgramData\\jupyter\\nbextensions\\codefolding\\codefolding_indent_unfolded.png\n",
      "[I 23:24:20 InstallContribNbextensionsApp] Up to date: C:\\ProgramData\\jupyter\\nbextensions\\codefolding\\edit.js\n",
      "[I 23:24:20 InstallContribNbextensionsApp] Up to date: C:\\ProgramData\\jupyter\\nbextensions\\codefolding\\firstline-fold.js\n",
      "[I 23:24:20 InstallContribNbextensionsApp] Up to date: C:\\ProgramData\\jupyter\\nbextensions\\codefolding\\foldgutter.css\n",
      "[I 23:24:20 InstallContribNbextensionsApp] Up to date: C:\\ProgramData\\jupyter\\nbextensions\\codefolding\\icon.png\n",
      "[I 23:24:20 InstallContribNbextensionsApp] Up to date: C:\\ProgramData\\jupyter\\nbextensions\\codefolding\\magic-fold.js\n",
      "[I 23:24:20 InstallContribNbextensionsApp] Up to date: C:\\ProgramData\\jupyter\\nbextensions\\codefolding\\magic-folded.png\n",
      "[I 23:24:20 InstallContribNbextensionsApp] Up to date: C:\\ProgramData\\jupyter\\nbextensions\\codefolding\\magic-unfolded.png\n",
      "[I 23:24:20 InstallContribNbextensionsApp] Up to date: C:\\ProgramData\\jupyter\\nbextensions\\codefolding\\main.js\n",
      "[I 23:24:20 InstallContribNbextensionsApp] Up to date: C:\\ProgramData\\jupyter\\nbextensions\\codefolding\\readme.md\n",
      "[I 23:24:20 InstallContribNbextensionsApp] - Validating: ok\n",
      "[I 23:24:20 InstallContribNbextensionsApp] Installing c:\\users\\gurgen\\anaconda3\\lib\\site-packages\\jupyter_contrib_nbextensions\\nbextensions\\codemirror_mode_extensions -> codemirror_mode_extensions\n",
      "[W 23:24:20 InstallContribNbextensionsApp] Out of date: C:\\ProgramData\\jupyter\\nbextensions\\codemirror_mode_extensions\\codemirror_mode_extensions.yaml\n",
      "[I 23:24:20 InstallContribNbextensionsApp] Copying: c:\\users\\gurgen\\anaconda3\\lib\\site-packages\\jupyter_contrib_nbextensions\\nbextensions\\codemirror_mode_extensions\\codemirror_mode_extensions.yaml -> C:\\ProgramData\\jupyter\\nbextensions\\codemirror_mode_extensions\\codemirror_mode_extensions.yaml\n",
      "[W 23:24:20 InstallContribNbextensionsApp] Out of date: C:\\ProgramData\\jupyter\\nbextensions\\codemirror_mode_extensions\\main.js\n",
      "[I 23:24:20 InstallContribNbextensionsApp] Copying: c:\\users\\gurgen\\anaconda3\\lib\\site-packages\\jupyter_contrib_nbextensions\\nbextensions\\codemirror_mode_extensions\\main.js -> C:\\ProgramData\\jupyter\\nbextensions\\codemirror_mode_extensions\\main.js\n",
      "[I 23:24:20 InstallContribNbextensionsApp] - Validating: ok\n",
      "[I 23:24:20 InstallContribNbextensionsApp] Installing c:\\users\\gurgen\\anaconda3\\lib\\site-packages\\jupyter_contrib_nbextensions\\nbextensions\\code_font_size -> code_font_size\n",
      "[W 23:24:20 InstallContribNbextensionsApp] Out of date: C:\\ProgramData\\jupyter\\nbextensions\\code_font_size\\code_font_size.js\n",
      "[I 23:24:20 InstallContribNbextensionsApp] Copying: c:\\users\\gurgen\\anaconda3\\lib\\site-packages\\jupyter_contrib_nbextensions\\nbextensions\\code_font_size\\code_font_size.js -> C:\\ProgramData\\jupyter\\nbextensions\\code_font_size\\code_font_size.js\n",
      "[W 23:24:20 InstallContribNbextensionsApp] Out of date: C:\\ProgramData\\jupyter\\nbextensions\\code_font_size\\code_font_size.yaml\n",
      "[I 23:24:20 InstallContribNbextensionsApp] Copying: c:\\users\\gurgen\\anaconda3\\lib\\site-packages\\jupyter_contrib_nbextensions\\nbextensions\\code_font_size\\code_font_size.yaml -> C:\\ProgramData\\jupyter\\nbextensions\\code_font_size\\code_font_size.yaml\n",
      "[W 23:24:20 InstallContribNbextensionsApp] Out of date: C:\\ProgramData\\jupyter\\nbextensions\\code_font_size\\README.md\n",
      "[I 23:24:20 InstallContribNbextensionsApp] Copying: c:\\users\\gurgen\\anaconda3\\lib\\site-packages\\jupyter_contrib_nbextensions\\nbextensions\\code_font_size\\README.md -> C:\\ProgramData\\jupyter\\nbextensions\\code_font_size\\README.md\n"
     ]
    },
    {
     "name": "stderr",
     "output_type": "stream",
     "text": [
      "[I 23:24:20 InstallContribNbextensionsApp] - Validating: ok\n",
      "[I 23:24:20 InstallContribNbextensionsApp] Installing c:\\users\\gurgen\\anaconda3\\lib\\site-packages\\jupyter_contrib_nbextensions\\nbextensions\\code_prettify -> code_prettify\n",
      "[W 23:24:20 InstallContribNbextensionsApp] Out of date: C:\\ProgramData\\jupyter\\nbextensions\\code_prettify\\2to3.js\n",
      "[I 23:24:20 InstallContribNbextensionsApp] Copying: c:\\users\\gurgen\\anaconda3\\lib\\site-packages\\jupyter_contrib_nbextensions\\nbextensions\\code_prettify\\2to3.js -> C:\\ProgramData\\jupyter\\nbextensions\\code_prettify\\2to3.js\n",
      "[W 23:24:20 InstallContribNbextensionsApp] Out of date: C:\\ProgramData\\jupyter\\nbextensions\\code_prettify\\2to3.yaml\n",
      "[I 23:24:20 InstallContribNbextensionsApp] Copying: c:\\users\\gurgen\\anaconda3\\lib\\site-packages\\jupyter_contrib_nbextensions\\nbextensions\\code_prettify\\2to3.yaml -> C:\\ProgramData\\jupyter\\nbextensions\\code_prettify\\2to3.yaml\n",
      "[W 23:24:20 InstallContribNbextensionsApp] Out of date: C:\\ProgramData\\jupyter\\nbextensions\\code_prettify\\autopep8.js\n",
      "[I 23:24:20 InstallContribNbextensionsApp] Copying: c:\\users\\gurgen\\anaconda3\\lib\\site-packages\\jupyter_contrib_nbextensions\\nbextensions\\code_prettify\\autopep8.js -> C:\\ProgramData\\jupyter\\nbextensions\\code_prettify\\autopep8.js\n",
      "[W 23:24:20 InstallContribNbextensionsApp] Out of date: C:\\ProgramData\\jupyter\\nbextensions\\code_prettify\\autopep8.yaml\n",
      "[I 23:24:20 InstallContribNbextensionsApp] Copying: c:\\users\\gurgen\\anaconda3\\lib\\site-packages\\jupyter_contrib_nbextensions\\nbextensions\\code_prettify\\autopep8.yaml -> C:\\ProgramData\\jupyter\\nbextensions\\code_prettify\\autopep8.yaml\n",
      "[W 23:24:20 InstallContribNbextensionsApp] Out of date: C:\\ProgramData\\jupyter\\nbextensions\\code_prettify\\code_prettify.js\n",
      "[I 23:24:20 InstallContribNbextensionsApp] Copying: c:\\users\\gurgen\\anaconda3\\lib\\site-packages\\jupyter_contrib_nbextensions\\nbextensions\\code_prettify\\code_prettify.js -> C:\\ProgramData\\jupyter\\nbextensions\\code_prettify\\code_prettify.js\n",
      "[W 23:24:20 InstallContribNbextensionsApp] Out of date: C:\\ProgramData\\jupyter\\nbextensions\\code_prettify\\code_prettify.yaml\n",
      "[I 23:24:20 InstallContribNbextensionsApp] Copying: c:\\users\\gurgen\\anaconda3\\lib\\site-packages\\jupyter_contrib_nbextensions\\nbextensions\\code_prettify\\code_prettify.yaml -> C:\\ProgramData\\jupyter\\nbextensions\\code_prettify\\code_prettify.yaml\n",
      "[W 23:24:20 InstallContribNbextensionsApp] Out of date: C:\\ProgramData\\jupyter\\nbextensions\\code_prettify\\demo-jv.gif\n",
      "[I 23:24:20 InstallContribNbextensionsApp] Copying: c:\\users\\gurgen\\anaconda3\\lib\\site-packages\\jupyter_contrib_nbextensions\\nbextensions\\code_prettify\\demo-jv.gif -> C:\\ProgramData\\jupyter\\nbextensions\\code_prettify\\demo-jv.gif\n",
      "[W 23:24:20 InstallContribNbextensionsApp] Out of date: C:\\ProgramData\\jupyter\\nbextensions\\code_prettify\\demo-py.gif\n",
      "[I 23:24:20 InstallContribNbextensionsApp] Copying: c:\\users\\gurgen\\anaconda3\\lib\\site-packages\\jupyter_contrib_nbextensions\\nbextensions\\code_prettify\\demo-py.gif -> C:\\ProgramData\\jupyter\\nbextensions\\code_prettify\\demo-py.gif\n",
      "[W 23:24:20 InstallContribNbextensionsApp] Out of date: C:\\ProgramData\\jupyter\\nbextensions\\code_prettify\\demo-R.gif\n",
      "[I 23:24:20 InstallContribNbextensionsApp] Copying: c:\\users\\gurgen\\anaconda3\\lib\\site-packages\\jupyter_contrib_nbextensions\\nbextensions\\code_prettify\\demo-R.gif -> C:\\ProgramData\\jupyter\\nbextensions\\code_prettify\\demo-R.gif\n",
      "[W 23:24:20 InstallContribNbextensionsApp] Out of date: C:\\ProgramData\\jupyter\\nbextensions\\code_prettify\\demo_2to3.gif\n",
      "[I 23:24:20 InstallContribNbextensionsApp] Copying: c:\\users\\gurgen\\anaconda3\\lib\\site-packages\\jupyter_contrib_nbextensions\\nbextensions\\code_prettify\\demo_2to3.gif -> C:\\ProgramData\\jupyter\\nbextensions\\code_prettify\\demo_2to3.gif\n",
      "[W 23:24:20 InstallContribNbextensionsApp] Out of date: C:\\ProgramData\\jupyter\\nbextensions\\code_prettify\\isort.js\n",
      "[I 23:24:20 InstallContribNbextensionsApp] Copying: c:\\users\\gurgen\\anaconda3\\lib\\site-packages\\jupyter_contrib_nbextensions\\nbextensions\\code_prettify\\isort.js -> C:\\ProgramData\\jupyter\\nbextensions\\code_prettify\\isort.js\n",
      "[W 23:24:20 InstallContribNbextensionsApp] Out of date: C:\\ProgramData\\jupyter\\nbextensions\\code_prettify\\isort.yaml\n",
      "[I 23:24:20 InstallContribNbextensionsApp] Copying: c:\\users\\gurgen\\anaconda3\\lib\\site-packages\\jupyter_contrib_nbextensions\\nbextensions\\code_prettify\\isort.yaml -> C:\\ProgramData\\jupyter\\nbextensions\\code_prettify\\isort.yaml\n",
      "[W 23:24:20 InstallContribNbextensionsApp] Out of date: C:\\ProgramData\\jupyter\\nbextensions\\code_prettify\\kernel_exec_on_cell.js\n",
      "[I 23:24:20 InstallContribNbextensionsApp] Copying: c:\\users\\gurgen\\anaconda3\\lib\\site-packages\\jupyter_contrib_nbextensions\\nbextensions\\code_prettify\\kernel_exec_on_cell.js -> C:\\ProgramData\\jupyter\\nbextensions\\code_prettify\\kernel_exec_on_cell.js\n",
      "[W 23:24:20 InstallContribNbextensionsApp] Out of date: C:\\ProgramData\\jupyter\\nbextensions\\code_prettify\\README.md\n",
      "[I 23:24:20 InstallContribNbextensionsApp] Copying: c:\\users\\gurgen\\anaconda3\\lib\\site-packages\\jupyter_contrib_nbextensions\\nbextensions\\code_prettify\\README.md -> C:\\ProgramData\\jupyter\\nbextensions\\code_prettify\\README.md\n",
      "[W 23:24:20 InstallContribNbextensionsApp] Out of date: C:\\ProgramData\\jupyter\\nbextensions\\code_prettify\\README_2to3.md\n",
      "[I 23:24:20 InstallContribNbextensionsApp] Copying: c:\\users\\gurgen\\anaconda3\\lib\\site-packages\\jupyter_contrib_nbextensions\\nbextensions\\code_prettify\\README_2to3.md -> C:\\ProgramData\\jupyter\\nbextensions\\code_prettify\\README_2to3.md\n",
      "[W 23:24:20 InstallContribNbextensionsApp] Out of date: C:\\ProgramData\\jupyter\\nbextensions\\code_prettify\\README_autopep8.md\n",
      "[I 23:24:20 InstallContribNbextensionsApp] Copying: c:\\users\\gurgen\\anaconda3\\lib\\site-packages\\jupyter_contrib_nbextensions\\nbextensions\\code_prettify\\README_autopep8.md -> C:\\ProgramData\\jupyter\\nbextensions\\code_prettify\\README_autopep8.md\n",
      "[W 23:24:20 InstallContribNbextensionsApp] Out of date: C:\\ProgramData\\jupyter\\nbextensions\\code_prettify\\README_code_prettify.md\n",
      "[I 23:24:20 InstallContribNbextensionsApp] Copying: c:\\users\\gurgen\\anaconda3\\lib\\site-packages\\jupyter_contrib_nbextensions\\nbextensions\\code_prettify\\README_code_prettify.md -> C:\\ProgramData\\jupyter\\nbextensions\\code_prettify\\README_code_prettify.md\n",
      "[W 23:24:20 InstallContribNbextensionsApp] Out of date: C:\\ProgramData\\jupyter\\nbextensions\\code_prettify\\README_isort.md\n",
      "[I 23:24:20 InstallContribNbextensionsApp] Copying: c:\\users\\gurgen\\anaconda3\\lib\\site-packages\\jupyter_contrib_nbextensions\\nbextensions\\code_prettify\\README_isort.md -> C:\\ProgramData\\jupyter\\nbextensions\\code_prettify\\README_isort.md\n",
      "[I 23:24:20 InstallContribNbextensionsApp] - Validating: ok\n",
      "[I 23:24:20 InstallContribNbextensionsApp] Installing c:\\users\\gurgen\\anaconda3\\lib\\site-packages\\jupyter_contrib_nbextensions\\nbextensions\\code_prettify -> code_prettify\n",
      "[I 23:24:20 InstallContribNbextensionsApp] Up to date: C:\\ProgramData\\jupyter\\nbextensions\\code_prettify\\2to3.js\n",
      "[I 23:24:20 InstallContribNbextensionsApp] Up to date: C:\\ProgramData\\jupyter\\nbextensions\\code_prettify\\2to3.yaml\n",
      "[I 23:24:20 InstallContribNbextensionsApp] Up to date: C:\\ProgramData\\jupyter\\nbextensions\\code_prettify\\autopep8.js\n",
      "[I 23:24:20 InstallContribNbextensionsApp] Up to date: C:\\ProgramData\\jupyter\\nbextensions\\code_prettify\\autopep8.yaml\n",
      "[I 23:24:20 InstallContribNbextensionsApp] Up to date: C:\\ProgramData\\jupyter\\nbextensions\\code_prettify\\code_prettify.js\n",
      "[I 23:24:20 InstallContribNbextensionsApp] Up to date: C:\\ProgramData\\jupyter\\nbextensions\\code_prettify\\code_prettify.yaml\n",
      "[I 23:24:20 InstallContribNbextensionsApp] Up to date: C:\\ProgramData\\jupyter\\nbextensions\\code_prettify\\demo-jv.gif\n",
      "[I 23:24:20 InstallContribNbextensionsApp] Up to date: C:\\ProgramData\\jupyter\\nbextensions\\code_prettify\\demo-py.gif\n",
      "[I 23:24:20 InstallContribNbextensionsApp] Up to date: C:\\ProgramData\\jupyter\\nbextensions\\code_prettify\\demo-R.gif\n",
      "[I 23:24:20 InstallContribNbextensionsApp] Up to date: C:\\ProgramData\\jupyter\\nbextensions\\code_prettify\\demo_2to3.gif\n",
      "[I 23:24:20 InstallContribNbextensionsApp] Up to date: C:\\ProgramData\\jupyter\\nbextensions\\code_prettify\\isort.js\n",
      "[I 23:24:20 InstallContribNbextensionsApp] Up to date: C:\\ProgramData\\jupyter\\nbextensions\\code_prettify\\isort.yaml\n",
      "[I 23:24:20 InstallContribNbextensionsApp] Up to date: C:\\ProgramData\\jupyter\\nbextensions\\code_prettify\\kernel_exec_on_cell.js\n",
      "[I 23:24:20 InstallContribNbextensionsApp] Up to date: C:\\ProgramData\\jupyter\\nbextensions\\code_prettify\\README.md\n",
      "[I 23:24:20 InstallContribNbextensionsApp] Up to date: C:\\ProgramData\\jupyter\\nbextensions\\code_prettify\\README_2to3.md\n",
      "[I 23:24:20 InstallContribNbextensionsApp] Up to date: C:\\ProgramData\\jupyter\\nbextensions\\code_prettify\\README_autopep8.md\n",
      "[I 23:24:20 InstallContribNbextensionsApp] Up to date: C:\\ProgramData\\jupyter\\nbextensions\\code_prettify\\README_code_prettify.md\n",
      "[I 23:24:20 InstallContribNbextensionsApp] Up to date: C:\\ProgramData\\jupyter\\nbextensions\\code_prettify\\README_isort.md\n",
      "[I 23:24:20 InstallContribNbextensionsApp] - Validating: ok\n",
      "[I 23:24:20 InstallContribNbextensionsApp] Installing c:\\users\\gurgen\\anaconda3\\lib\\site-packages\\jupyter_contrib_nbextensions\\nbextensions\\code_prettify -> code_prettify\n",
      "[I 23:24:20 InstallContribNbextensionsApp] Up to date: C:\\ProgramData\\jupyter\\nbextensions\\code_prettify\\2to3.js\n",
      "[I 23:24:20 InstallContribNbextensionsApp] Up to date: C:\\ProgramData\\jupyter\\nbextensions\\code_prettify\\2to3.yaml\n",
      "[I 23:24:20 InstallContribNbextensionsApp] Up to date: C:\\ProgramData\\jupyter\\nbextensions\\code_prettify\\autopep8.js\n",
      "[I 23:24:20 InstallContribNbextensionsApp] Up to date: C:\\ProgramData\\jupyter\\nbextensions\\code_prettify\\autopep8.yaml\n",
      "[I 23:24:20 InstallContribNbextensionsApp] Up to date: C:\\ProgramData\\jupyter\\nbextensions\\code_prettify\\code_prettify.js\n",
      "[I 23:24:20 InstallContribNbextensionsApp] Up to date: C:\\ProgramData\\jupyter\\nbextensions\\code_prettify\\code_prettify.yaml\n",
      "[I 23:24:20 InstallContribNbextensionsApp] Up to date: C:\\ProgramData\\jupyter\\nbextensions\\code_prettify\\demo-jv.gif\n",
      "[I 23:24:20 InstallContribNbextensionsApp] Up to date: C:\\ProgramData\\jupyter\\nbextensions\\code_prettify\\demo-py.gif\n",
      "[I 23:24:20 InstallContribNbextensionsApp] Up to date: C:\\ProgramData\\jupyter\\nbextensions\\code_prettify\\demo-R.gif\n",
      "[I 23:24:20 InstallContribNbextensionsApp] Up to date: C:\\ProgramData\\jupyter\\nbextensions\\code_prettify\\demo_2to3.gif\n",
      "[I 23:24:20 InstallContribNbextensionsApp] Up to date: C:\\ProgramData\\jupyter\\nbextensions\\code_prettify\\isort.js\n",
      "[I 23:24:20 InstallContribNbextensionsApp] Up to date: C:\\ProgramData\\jupyter\\nbextensions\\code_prettify\\isort.yaml\n",
      "[I 23:24:20 InstallContribNbextensionsApp] Up to date: C:\\ProgramData\\jupyter\\nbextensions\\code_prettify\\kernel_exec_on_cell.js\n",
      "[I 23:24:20 InstallContribNbextensionsApp] Up to date: C:\\ProgramData\\jupyter\\nbextensions\\code_prettify\\README.md\n",
      "[I 23:24:20 InstallContribNbextensionsApp] Up to date: C:\\ProgramData\\jupyter\\nbextensions\\code_prettify\\README_2to3.md\n",
      "[I 23:24:20 InstallContribNbextensionsApp] Up to date: C:\\ProgramData\\jupyter\\nbextensions\\code_prettify\\README_autopep8.md\n",
      "[I 23:24:20 InstallContribNbextensionsApp] Up to date: C:\\ProgramData\\jupyter\\nbextensions\\code_prettify\\README_code_prettify.md\n",
      "[I 23:24:20 InstallContribNbextensionsApp] Up to date: C:\\ProgramData\\jupyter\\nbextensions\\code_prettify\\README_isort.md\n",
      "[I 23:24:20 InstallContribNbextensionsApp] - Validating: ok\n",
      "[I 23:24:20 InstallContribNbextensionsApp] Installing c:\\users\\gurgen\\anaconda3\\lib\\site-packages\\jupyter_contrib_nbextensions\\nbextensions\\code_prettify -> code_prettify\n",
      "[I 23:24:20 InstallContribNbextensionsApp] Up to date: C:\\ProgramData\\jupyter\\nbextensions\\code_prettify\\2to3.js\n",
      "[I 23:24:20 InstallContribNbextensionsApp] Up to date: C:\\ProgramData\\jupyter\\nbextensions\\code_prettify\\2to3.yaml\n",
      "[I 23:24:20 InstallContribNbextensionsApp] Up to date: C:\\ProgramData\\jupyter\\nbextensions\\code_prettify\\autopep8.js\n",
      "[I 23:24:20 InstallContribNbextensionsApp] Up to date: C:\\ProgramData\\jupyter\\nbextensions\\code_prettify\\autopep8.yaml\n",
      "[I 23:24:20 InstallContribNbextensionsApp] Up to date: C:\\ProgramData\\jupyter\\nbextensions\\code_prettify\\code_prettify.js\n",
      "[I 23:24:20 InstallContribNbextensionsApp] Up to date: C:\\ProgramData\\jupyter\\nbextensions\\code_prettify\\code_prettify.yaml\n",
      "[I 23:24:20 InstallContribNbextensionsApp] Up to date: C:\\ProgramData\\jupyter\\nbextensions\\code_prettify\\demo-jv.gif\n",
      "[I 23:24:20 InstallContribNbextensionsApp] Up to date: C:\\ProgramData\\jupyter\\nbextensions\\code_prettify\\demo-py.gif\n",
      "[I 23:24:20 InstallContribNbextensionsApp] Up to date: C:\\ProgramData\\jupyter\\nbextensions\\code_prettify\\demo-R.gif\n",
      "[I 23:24:20 InstallContribNbextensionsApp] Up to date: C:\\ProgramData\\jupyter\\nbextensions\\code_prettify\\demo_2to3.gif\n",
      "[I 23:24:20 InstallContribNbextensionsApp] Up to date: C:\\ProgramData\\jupyter\\nbextensions\\code_prettify\\isort.js\n",
      "[I 23:24:20 InstallContribNbextensionsApp] Up to date: C:\\ProgramData\\jupyter\\nbextensions\\code_prettify\\isort.yaml\n",
      "[I 23:24:20 InstallContribNbextensionsApp] Up to date: C:\\ProgramData\\jupyter\\nbextensions\\code_prettify\\kernel_exec_on_cell.js\n",
      "[I 23:24:20 InstallContribNbextensionsApp] Up to date: C:\\ProgramData\\jupyter\\nbextensions\\code_prettify\\README.md\n",
      "[I 23:24:20 InstallContribNbextensionsApp] Up to date: C:\\ProgramData\\jupyter\\nbextensions\\code_prettify\\README_2to3.md\n",
      "[I 23:24:20 InstallContribNbextensionsApp] Up to date: C:\\ProgramData\\jupyter\\nbextensions\\code_prettify\\README_autopep8.md\n",
      "[I 23:24:20 InstallContribNbextensionsApp] Up to date: C:\\ProgramData\\jupyter\\nbextensions\\code_prettify\\README_code_prettify.md\n",
      "[I 23:24:20 InstallContribNbextensionsApp] Up to date: C:\\ProgramData\\jupyter\\nbextensions\\code_prettify\\README_isort.md\n",
      "[I 23:24:20 InstallContribNbextensionsApp] - Validating: ok\n",
      "[I 23:24:20 InstallContribNbextensionsApp] Installing c:\\users\\gurgen\\anaconda3\\lib\\site-packages\\jupyter_contrib_nbextensions\\nbextensions\\collapsible_headings -> collapsible_headings\n",
      "[W 23:24:20 InstallContribNbextensionsApp] Out of date: C:\\ProgramData\\jupyter\\nbextensions\\collapsible_headings\\collapsible_headings.yaml\n",
      "[I 23:24:20 InstallContribNbextensionsApp] Copying: c:\\users\\gurgen\\anaconda3\\lib\\site-packages\\jupyter_contrib_nbextensions\\nbextensions\\collapsible_headings\\collapsible_headings.yaml -> C:\\ProgramData\\jupyter\\nbextensions\\collapsible_headings\\collapsible_headings.yaml\n",
      "[W 23:24:20 InstallContribNbextensionsApp] Out of date: C:\\ProgramData\\jupyter\\nbextensions\\collapsible_headings\\icon.png\n",
      "[I 23:24:20 InstallContribNbextensionsApp] Copying: c:\\users\\gurgen\\anaconda3\\lib\\site-packages\\jupyter_contrib_nbextensions\\nbextensions\\collapsible_headings\\icon.png -> C:\\ProgramData\\jupyter\\nbextensions\\collapsible_headings\\icon.png\n",
      "[W 23:24:20 InstallContribNbextensionsApp] Out of date: C:\\ProgramData\\jupyter\\nbextensions\\collapsible_headings\\main.css\n",
      "[I 23:24:20 InstallContribNbextensionsApp] Copying: c:\\users\\gurgen\\anaconda3\\lib\\site-packages\\jupyter_contrib_nbextensions\\nbextensions\\collapsible_headings\\main.css -> C:\\ProgramData\\jupyter\\nbextensions\\collapsible_headings\\main.css\n",
      "[W 23:24:20 InstallContribNbextensionsApp] Out of date: C:\\ProgramData\\jupyter\\nbextensions\\collapsible_headings\\main.js\n",
      "[I 23:24:20 InstallContribNbextensionsApp] Copying: c:\\users\\gurgen\\anaconda3\\lib\\site-packages\\jupyter_contrib_nbextensions\\nbextensions\\collapsible_headings\\main.js -> C:\\ProgramData\\jupyter\\nbextensions\\collapsible_headings\\main.js\n",
      "[W 23:24:20 InstallContribNbextensionsApp] Out of date: C:\\ProgramData\\jupyter\\nbextensions\\collapsible_headings\\readme.md\n",
      "[I 23:24:20 InstallContribNbextensionsApp] Copying: c:\\users\\gurgen\\anaconda3\\lib\\site-packages\\jupyter_contrib_nbextensions\\nbextensions\\collapsible_headings\\readme.md -> C:\\ProgramData\\jupyter\\nbextensions\\collapsible_headings\\readme.md\n",
      "[W 23:24:20 InstallContribNbextensionsApp] Out of date: C:\\ProgramData\\jupyter\\nbextensions\\collapsible_headings\\screenshot.png\n",
      "[I 23:24:20 InstallContribNbextensionsApp] Copying: c:\\users\\gurgen\\anaconda3\\lib\\site-packages\\jupyter_contrib_nbextensions\\nbextensions\\collapsible_headings\\screenshot.png -> C:\\ProgramData\\jupyter\\nbextensions\\collapsible_headings\\screenshot.png\n",
      "[I 23:24:20 InstallContribNbextensionsApp] - Validating: ok\n",
      "[I 23:24:20 InstallContribNbextensionsApp] Installing c:\\users\\gurgen\\anaconda3\\lib\\site-packages\\jupyter_contrib_nbextensions\\nbextensions\\comment-uncomment -> comment-uncomment\n",
      "[W 23:24:20 InstallContribNbextensionsApp] Out of date: C:\\ProgramData\\jupyter\\nbextensions\\comment-uncomment\\comment-uncomment.yaml\n",
      "[I 23:24:20 InstallContribNbextensionsApp] Copying: c:\\users\\gurgen\\anaconda3\\lib\\site-packages\\jupyter_contrib_nbextensions\\nbextensions\\comment-uncomment\\comment-uncomment.yaml -> C:\\ProgramData\\jupyter\\nbextensions\\comment-uncomment\\comment-uncomment.yaml\n",
      "[W 23:24:20 InstallContribNbextensionsApp] Out of date: C:\\ProgramData\\jupyter\\nbextensions\\comment-uncomment\\icon.png\n",
      "[I 23:24:20 InstallContribNbextensionsApp] Copying: c:\\users\\gurgen\\anaconda3\\lib\\site-packages\\jupyter_contrib_nbextensions\\nbextensions\\comment-uncomment\\icon.png -> C:\\ProgramData\\jupyter\\nbextensions\\comment-uncomment\\icon.png\n",
      "[W 23:24:20 InstallContribNbextensionsApp] Out of date: C:\\ProgramData\\jupyter\\nbextensions\\comment-uncomment\\main.js\n",
      "[I 23:24:20 InstallContribNbextensionsApp] Copying: c:\\users\\gurgen\\anaconda3\\lib\\site-packages\\jupyter_contrib_nbextensions\\nbextensions\\comment-uncomment\\main.js -> C:\\ProgramData\\jupyter\\nbextensions\\comment-uncomment\\main.js\n",
      "[W 23:24:20 InstallContribNbextensionsApp] Out of date: C:\\ProgramData\\jupyter\\nbextensions\\comment-uncomment\\readme.md\n",
      "[I 23:24:20 InstallContribNbextensionsApp] Copying: c:\\users\\gurgen\\anaconda3\\lib\\site-packages\\jupyter_contrib_nbextensions\\nbextensions\\comment-uncomment\\readme.md -> C:\\ProgramData\\jupyter\\nbextensions\\comment-uncomment\\readme.md\n",
      "[I 23:24:20 InstallContribNbextensionsApp] - Validating: ok\n",
      "[I 23:24:20 InstallContribNbextensionsApp] Installing c:\\users\\gurgen\\anaconda3\\lib\\site-packages\\jupyter_contrib_nbextensions\\nbextensions\\contrib_nbextensions_help_item -> contrib_nbextensions_help_item\n",
      "[W 23:24:20 InstallContribNbextensionsApp] Out of date: C:\\ProgramData\\jupyter\\nbextensions\\contrib_nbextensions_help_item\\contrib_nbextensions_help_item.yaml\n",
      "[I 23:24:20 InstallContribNbextensionsApp] Copying: c:\\users\\gurgen\\anaconda3\\lib\\site-packages\\jupyter_contrib_nbextensions\\nbextensions\\contrib_nbextensions_help_item\\contrib_nbextensions_help_item.yaml -> C:\\ProgramData\\jupyter\\nbextensions\\contrib_nbextensions_help_item\\contrib_nbextensions_help_item.yaml\n",
      "[W 23:24:20 InstallContribNbextensionsApp] Out of date: C:\\ProgramData\\jupyter\\nbextensions\\contrib_nbextensions_help_item\\main.js\n",
      "[I 23:24:20 InstallContribNbextensionsApp] Copying: c:\\users\\gurgen\\anaconda3\\lib\\site-packages\\jupyter_contrib_nbextensions\\nbextensions\\contrib_nbextensions_help_item\\main.js -> C:\\ProgramData\\jupyter\\nbextensions\\contrib_nbextensions_help_item\\main.js\n",
      "[W 23:24:20 InstallContribNbextensionsApp] Out of date: C:\\ProgramData\\jupyter\\nbextensions\\contrib_nbextensions_help_item\\README.md\n",
      "[I 23:24:20 InstallContribNbextensionsApp] Copying: c:\\users\\gurgen\\anaconda3\\lib\\site-packages\\jupyter_contrib_nbextensions\\nbextensions\\contrib_nbextensions_help_item\\README.md -> C:\\ProgramData\\jupyter\\nbextensions\\contrib_nbextensions_help_item\\README.md\n",
      "[I 23:24:20 InstallContribNbextensionsApp] - Validating: ok\n",
      "[I 23:24:20 InstallContribNbextensionsApp] Installing c:\\users\\gurgen\\anaconda3\\lib\\site-packages\\jupyter_contrib_nbextensions\\nbextensions\\datestamper -> datestamper\n",
      "[W 23:24:20 InstallContribNbextensionsApp] Out of date: C:\\ProgramData\\jupyter\\nbextensions\\datestamper\\icon.png\n",
      "[I 23:24:20 InstallContribNbextensionsApp] Copying: c:\\users\\gurgen\\anaconda3\\lib\\site-packages\\jupyter_contrib_nbextensions\\nbextensions\\datestamper\\icon.png -> C:\\ProgramData\\jupyter\\nbextensions\\datestamper\\icon.png\n",
      "[W 23:24:20 InstallContribNbextensionsApp] Out of date: C:\\ProgramData\\jupyter\\nbextensions\\datestamper\\main.js\n",
      "[I 23:24:20 InstallContribNbextensionsApp] Copying: c:\\users\\gurgen\\anaconda3\\lib\\site-packages\\jupyter_contrib_nbextensions\\nbextensions\\datestamper\\main.js -> C:\\ProgramData\\jupyter\\nbextensions\\datestamper\\main.js\n",
      "[W 23:24:20 InstallContribNbextensionsApp] Out of date: C:\\ProgramData\\jupyter\\nbextensions\\datestamper\\main.yaml\n",
      "[I 23:24:20 InstallContribNbextensionsApp] Copying: c:\\users\\gurgen\\anaconda3\\lib\\site-packages\\jupyter_contrib_nbextensions\\nbextensions\\datestamper\\main.yaml -> C:\\ProgramData\\jupyter\\nbextensions\\datestamper\\main.yaml\n",
      "[W 23:24:20 InstallContribNbextensionsApp] Out of date: C:\\ProgramData\\jupyter\\nbextensions\\datestamper\\readme.md\n",
      "[I 23:24:20 InstallContribNbextensionsApp] Copying: c:\\users\\gurgen\\anaconda3\\lib\\site-packages\\jupyter_contrib_nbextensions\\nbextensions\\datestamper\\readme.md -> C:\\ProgramData\\jupyter\\nbextensions\\datestamper\\readme.md\n",
      "[I 23:24:20 InstallContribNbextensionsApp] - Validating: ok\n",
      "[I 23:24:20 InstallContribNbextensionsApp] Installing c:\\users\\gurgen\\anaconda3\\lib\\site-packages\\jupyter_contrib_nbextensions\\nbextensions\\equation-numbering -> equation-numbering\n",
      "[W 23:24:20 InstallContribNbextensionsApp] Out of date: C:\\ProgramData\\jupyter\\nbextensions\\equation-numbering\\button.png\n",
      "[I 23:24:20 InstallContribNbextensionsApp] Copying: c:\\users\\gurgen\\anaconda3\\lib\\site-packages\\jupyter_contrib_nbextensions\\nbextensions\\equation-numbering\\button.png -> C:\\ProgramData\\jupyter\\nbextensions\\equation-numbering\\button.png\n",
      "[W 23:24:20 InstallContribNbextensionsApp] Out of date: C:\\ProgramData\\jupyter\\nbextensions\\equation-numbering\\icon.png\n",
      "[I 23:24:20 InstallContribNbextensionsApp] Copying: c:\\users\\gurgen\\anaconda3\\lib\\site-packages\\jupyter_contrib_nbextensions\\nbextensions\\equation-numbering\\icon.png -> C:\\ProgramData\\jupyter\\nbextensions\\equation-numbering\\icon.png\n",
      "[W 23:24:20 InstallContribNbextensionsApp] Out of date: C:\\ProgramData\\jupyter\\nbextensions\\equation-numbering\\info.yaml\n",
      "[I 23:24:20 InstallContribNbextensionsApp] Copying: c:\\users\\gurgen\\anaconda3\\lib\\site-packages\\jupyter_contrib_nbextensions\\nbextensions\\equation-numbering\\info.yaml -> C:\\ProgramData\\jupyter\\nbextensions\\equation-numbering\\info.yaml\n",
      "[W 23:24:20 InstallContribNbextensionsApp] Out of date: C:\\ProgramData\\jupyter\\nbextensions\\equation-numbering\\main.js\n",
      "[I 23:24:20 InstallContribNbextensionsApp] Copying: c:\\users\\gurgen\\anaconda3\\lib\\site-packages\\jupyter_contrib_nbextensions\\nbextensions\\equation-numbering\\main.js -> C:\\ProgramData\\jupyter\\nbextensions\\equation-numbering\\main.js\n",
      "[W 23:24:20 InstallContribNbextensionsApp] Out of date: C:\\ProgramData\\jupyter\\nbextensions\\equation-numbering\\readme.md\n",
      "[I 23:24:20 InstallContribNbextensionsApp] Copying: c:\\users\\gurgen\\anaconda3\\lib\\site-packages\\jupyter_contrib_nbextensions\\nbextensions\\equation-numbering\\readme.md -> C:\\ProgramData\\jupyter\\nbextensions\\equation-numbering\\readme.md\n",
      "[I 23:24:20 InstallContribNbextensionsApp] - Validating: ok\n",
      "[I 23:24:20 InstallContribNbextensionsApp] Installing c:\\users\\gurgen\\anaconda3\\lib\\site-packages\\jupyter_contrib_nbextensions\\nbextensions\\execute_time -> execute_time\n",
      "[W 23:24:20 InstallContribNbextensionsApp] Out of date: C:\\ProgramData\\jupyter\\nbextensions\\execute_time\\ExecuteTime.css\n",
      "[I 23:24:20 InstallContribNbextensionsApp] Copying: c:\\users\\gurgen\\anaconda3\\lib\\site-packages\\jupyter_contrib_nbextensions\\nbextensions\\execute_time\\ExecuteTime.css -> C:\\ProgramData\\jupyter\\nbextensions\\execute_time\\ExecuteTime.css\n",
      "[W 23:24:20 InstallContribNbextensionsApp] Out of date: C:\\ProgramData\\jupyter\\nbextensions\\execute_time\\ExecuteTime.js\n",
      "[I 23:24:20 InstallContribNbextensionsApp] Copying: c:\\users\\gurgen\\anaconda3\\lib\\site-packages\\jupyter_contrib_nbextensions\\nbextensions\\execute_time\\ExecuteTime.js -> C:\\ProgramData\\jupyter\\nbextensions\\execute_time\\ExecuteTime.js\n",
      "[W 23:24:20 InstallContribNbextensionsApp] Out of date: C:\\ProgramData\\jupyter\\nbextensions\\execute_time\\ExecuteTime.yaml\n",
      "[I 23:24:20 InstallContribNbextensionsApp] Copying: c:\\users\\gurgen\\anaconda3\\lib\\site-packages\\jupyter_contrib_nbextensions\\nbextensions\\execute_time\\ExecuteTime.yaml -> C:\\ProgramData\\jupyter\\nbextensions\\execute_time\\ExecuteTime.yaml\n",
      "[W 23:24:20 InstallContribNbextensionsApp] Out of date: C:\\ProgramData\\jupyter\\nbextensions\\execute_time\\execution-timings-box.png\n",
      "[I 23:24:20 InstallContribNbextensionsApp] Copying: c:\\users\\gurgen\\anaconda3\\lib\\site-packages\\jupyter_contrib_nbextensions\\nbextensions\\execute_time\\execution-timings-box.png -> C:\\ProgramData\\jupyter\\nbextensions\\execute_time\\execution-timings-box.png\n",
      "[W 23:24:20 InstallContribNbextensionsApp] Out of date: C:\\ProgramData\\jupyter\\nbextensions\\execute_time\\execution-timings-menu.png\n",
      "[I 23:24:20 InstallContribNbextensionsApp] Copying: c:\\users\\gurgen\\anaconda3\\lib\\site-packages\\jupyter_contrib_nbextensions\\nbextensions\\execute_time\\execution-timings-menu.png -> C:\\ProgramData\\jupyter\\nbextensions\\execute_time\\execution-timings-menu.png\n",
      "[W 23:24:20 InstallContribNbextensionsApp] Out of date: C:\\ProgramData\\jupyter\\nbextensions\\execute_time\\icon.png\n",
      "[I 23:24:20 InstallContribNbextensionsApp] Copying: c:\\users\\gurgen\\anaconda3\\lib\\site-packages\\jupyter_contrib_nbextensions\\nbextensions\\execute_time\\icon.png -> C:\\ProgramData\\jupyter\\nbextensions\\execute_time\\icon.png\n",
      "[W 23:24:20 InstallContribNbextensionsApp] Out of date: C:\\ProgramData\\jupyter\\nbextensions\\execute_time\\readme.md\n",
      "[I 23:24:20 InstallContribNbextensionsApp] Copying: c:\\users\\gurgen\\anaconda3\\lib\\site-packages\\jupyter_contrib_nbextensions\\nbextensions\\execute_time\\readme.md -> C:\\ProgramData\\jupyter\\nbextensions\\execute_time\\readme.md\n",
      "[I 23:24:20 InstallContribNbextensionsApp] - Validating: ok\n",
      "[I 23:24:20 InstallContribNbextensionsApp] Installing c:\\users\\gurgen\\anaconda3\\lib\\site-packages\\jupyter_contrib_nbextensions\\nbextensions\\execution_dependencies -> execution_dependencies\n",
      "[W 23:24:20 InstallContribNbextensionsApp] Out of date: C:\\ProgramData\\jupyter\\nbextensions\\execution_dependencies\\execution_dependencies.js\n",
      "[I 23:24:20 InstallContribNbextensionsApp] Copying: c:\\users\\gurgen\\anaconda3\\lib\\site-packages\\jupyter_contrib_nbextensions\\nbextensions\\execution_dependencies\\execution_dependencies.js -> C:\\ProgramData\\jupyter\\nbextensions\\execution_dependencies\\execution_dependencies.js\n",
      "[W 23:24:20 InstallContribNbextensionsApp] Out of date: C:\\ProgramData\\jupyter\\nbextensions\\execution_dependencies\\execution_dependencies.yml\n",
      "[I 23:24:20 InstallContribNbextensionsApp] Copying: c:\\users\\gurgen\\anaconda3\\lib\\site-packages\\jupyter_contrib_nbextensions\\nbextensions\\execution_dependencies\\execution_dependencies.yml -> C:\\ProgramData\\jupyter\\nbextensions\\execution_dependencies\\execution_dependencies.yml\n",
      "[W 23:24:20 InstallContribNbextensionsApp] Out of date: C:\\ProgramData\\jupyter\\nbextensions\\execution_dependencies\\README.md\n",
      "[I 23:24:20 InstallContribNbextensionsApp] Copying: c:\\users\\gurgen\\anaconda3\\lib\\site-packages\\jupyter_contrib_nbextensions\\nbextensions\\execution_dependencies\\README.md -> C:\\ProgramData\\jupyter\\nbextensions\\execution_dependencies\\README.md\n",
      "[I 23:24:20 InstallContribNbextensionsApp] - Validating: ok\n",
      "[I 23:24:20 InstallContribNbextensionsApp] Installing c:\\users\\gurgen\\anaconda3\\lib\\site-packages\\jupyter_contrib_nbextensions\\nbextensions\\exercise -> exercise\n",
      "[W 23:24:20 InstallContribNbextensionsApp] Out of date: C:\\ProgramData\\jupyter\\nbextensions\\exercise\\exercise.yaml\n",
      "[I 23:24:20 InstallContribNbextensionsApp] Copying: c:\\users\\gurgen\\anaconda3\\lib\\site-packages\\jupyter_contrib_nbextensions\\nbextensions\\exercise\\exercise.yaml -> C:\\ProgramData\\jupyter\\nbextensions\\exercise\\exercise.yaml\n",
      "[W 23:24:20 InstallContribNbextensionsApp] Out of date: C:\\ProgramData\\jupyter\\nbextensions\\exercise\\history.md\n",
      "[I 23:24:20 InstallContribNbextensionsApp] Copying: c:\\users\\gurgen\\anaconda3\\lib\\site-packages\\jupyter_contrib_nbextensions\\nbextensions\\exercise\\history.md -> C:\\ProgramData\\jupyter\\nbextensions\\exercise\\history.md\n",
      "[W 23:24:20 InstallContribNbextensionsApp] Out of date: C:\\ProgramData\\jupyter\\nbextensions\\exercise\\icon.png\n",
      "[I 23:24:20 InstallContribNbextensionsApp] Copying: c:\\users\\gurgen\\anaconda3\\lib\\site-packages\\jupyter_contrib_nbextensions\\nbextensions\\exercise\\icon.png -> C:\\ProgramData\\jupyter\\nbextensions\\exercise\\icon.png\n",
      "[W 23:24:20 InstallContribNbextensionsApp] Out of date: C:\\ProgramData\\jupyter\\nbextensions\\exercise\\image.gif\n",
      "[I 23:24:20 InstallContribNbextensionsApp] Copying: c:\\users\\gurgen\\anaconda3\\lib\\site-packages\\jupyter_contrib_nbextensions\\nbextensions\\exercise\\image.gif -> C:\\ProgramData\\jupyter\\nbextensions\\exercise\\image.gif\n",
      "[W 23:24:20 InstallContribNbextensionsApp] Out of date: C:\\ProgramData\\jupyter\\nbextensions\\exercise\\main.css\n",
      "[I 23:24:20 InstallContribNbextensionsApp] Copying: c:\\users\\gurgen\\anaconda3\\lib\\site-packages\\jupyter_contrib_nbextensions\\nbextensions\\exercise\\main.css -> C:\\ProgramData\\jupyter\\nbextensions\\exercise\\main.css\n",
      "[W 23:24:20 InstallContribNbextensionsApp] Out of date: C:\\ProgramData\\jupyter\\nbextensions\\exercise\\main.js\n",
      "[I 23:24:20 InstallContribNbextensionsApp] Copying: c:\\users\\gurgen\\anaconda3\\lib\\site-packages\\jupyter_contrib_nbextensions\\nbextensions\\exercise\\main.js -> C:\\ProgramData\\jupyter\\nbextensions\\exercise\\main.js\n",
      "[W 23:24:20 InstallContribNbextensionsApp] Out of date: C:\\ProgramData\\jupyter\\nbextensions\\exercise\\readme.md\n",
      "[I 23:24:20 InstallContribNbextensionsApp] Copying: c:\\users\\gurgen\\anaconda3\\lib\\site-packages\\jupyter_contrib_nbextensions\\nbextensions\\exercise\\readme.md -> C:\\ProgramData\\jupyter\\nbextensions\\exercise\\readme.md\n",
      "[I 23:24:20 InstallContribNbextensionsApp] - Validating: ok\n",
      "[I 23:24:20 InstallContribNbextensionsApp] Installing c:\\users\\gurgen\\anaconda3\\lib\\site-packages\\jupyter_contrib_nbextensions\\nbextensions\\exercise2 -> exercise2\n",
      "[W 23:24:20 InstallContribNbextensionsApp] Out of date: C:\\ProgramData\\jupyter\\nbextensions\\exercise2\\exercise2.yaml\n",
      "[I 23:24:20 InstallContribNbextensionsApp] Copying: c:\\users\\gurgen\\anaconda3\\lib\\site-packages\\jupyter_contrib_nbextensions\\nbextensions\\exercise2\\exercise2.yaml -> C:\\ProgramData\\jupyter\\nbextensions\\exercise2\\exercise2.yaml\n",
      "[W 23:24:20 InstallContribNbextensionsApp] Out of date: C:\\ProgramData\\jupyter\\nbextensions\\exercise2\\icon.png\n",
      "[I 23:24:20 InstallContribNbextensionsApp] Copying: c:\\users\\gurgen\\anaconda3\\lib\\site-packages\\jupyter_contrib_nbextensions\\nbextensions\\exercise2\\icon.png -> C:\\ProgramData\\jupyter\\nbextensions\\exercise2\\icon.png\n",
      "[W 23:24:20 InstallContribNbextensionsApp] Out of date: C:\\ProgramData\\jupyter\\nbextensions\\exercise2\\image.gif\n",
      "[I 23:24:20 InstallContribNbextensionsApp] Copying: c:\\users\\gurgen\\anaconda3\\lib\\site-packages\\jupyter_contrib_nbextensions\\nbextensions\\exercise2\\image.gif -> C:\\ProgramData\\jupyter\\nbextensions\\exercise2\\image.gif\n",
      "[W 23:24:20 InstallContribNbextensionsApp] Out of date: C:\\ProgramData\\jupyter\\nbextensions\\exercise2\\main.css\n",
      "[I 23:24:20 InstallContribNbextensionsApp] Copying: c:\\users\\gurgen\\anaconda3\\lib\\site-packages\\jupyter_contrib_nbextensions\\nbextensions\\exercise2\\main.css -> C:\\ProgramData\\jupyter\\nbextensions\\exercise2\\main.css\n",
      "[W 23:24:20 InstallContribNbextensionsApp] Out of date: C:\\ProgramData\\jupyter\\nbextensions\\exercise2\\main.js\n",
      "[I 23:24:20 InstallContribNbextensionsApp] Copying: c:\\users\\gurgen\\anaconda3\\lib\\site-packages\\jupyter_contrib_nbextensions\\nbextensions\\exercise2\\main.js -> C:\\ProgramData\\jupyter\\nbextensions\\exercise2\\main.js\n",
      "[W 23:24:20 InstallContribNbextensionsApp] Out of date: C:\\ProgramData\\jupyter\\nbextensions\\exercise2\\readme.md\n",
      "[I 23:24:20 InstallContribNbextensionsApp] Copying: c:\\users\\gurgen\\anaconda3\\lib\\site-packages\\jupyter_contrib_nbextensions\\nbextensions\\exercise2\\readme.md -> C:\\ProgramData\\jupyter\\nbextensions\\exercise2\\readme.md\n",
      "[I 23:24:20 InstallContribNbextensionsApp] - Validating: ok\n",
      "[I 23:24:20 InstallContribNbextensionsApp] Installing c:\\users\\gurgen\\anaconda3\\lib\\site-packages\\jupyter_contrib_nbextensions\\nbextensions\\export_embedded -> export_embedded\n",
      "[W 23:24:20 InstallContribNbextensionsApp] Out of date: C:\\ProgramData\\jupyter\\nbextensions\\export_embedded\\export_embedded.yaml\n",
      "[I 23:24:20 InstallContribNbextensionsApp] Copying: c:\\users\\gurgen\\anaconda3\\lib\\site-packages\\jupyter_contrib_nbextensions\\nbextensions\\export_embedded\\export_embedded.yaml -> C:\\ProgramData\\jupyter\\nbextensions\\export_embedded\\export_embedded.yaml\n",
      "[W 23:24:20 InstallContribNbextensionsApp] Out of date: C:\\ProgramData\\jupyter\\nbextensions\\export_embedded\\icon.png\n",
      "[I 23:24:20 InstallContribNbextensionsApp] Copying: c:\\users\\gurgen\\anaconda3\\lib\\site-packages\\jupyter_contrib_nbextensions\\nbextensions\\export_embedded\\icon.png -> C:\\ProgramData\\jupyter\\nbextensions\\export_embedded\\icon.png\n",
      "[W 23:24:20 InstallContribNbextensionsApp] Out of date: C:\\ProgramData\\jupyter\\nbextensions\\export_embedded\\main.js\n",
      "[I 23:24:20 InstallContribNbextensionsApp] Copying: c:\\users\\gurgen\\anaconda3\\lib\\site-packages\\jupyter_contrib_nbextensions\\nbextensions\\export_embedded\\main.js -> C:\\ProgramData\\jupyter\\nbextensions\\export_embedded\\main.js\n",
      "[W 23:24:20 InstallContribNbextensionsApp] Out of date: C:\\ProgramData\\jupyter\\nbextensions\\export_embedded\\readme.md\n",
      "[I 23:24:20 InstallContribNbextensionsApp] Copying: c:\\users\\gurgen\\anaconda3\\lib\\site-packages\\jupyter_contrib_nbextensions\\nbextensions\\export_embedded\\readme.md -> C:\\ProgramData\\jupyter\\nbextensions\\export_embedded\\readme.md\n",
      "[I 23:24:20 InstallContribNbextensionsApp] - Validating: ok\n",
      "[I 23:24:20 InstallContribNbextensionsApp] Installing c:\\users\\gurgen\\anaconda3\\lib\\site-packages\\jupyter_contrib_nbextensions\\nbextensions\\freeze -> freeze\n",
      "[W 23:24:20 InstallContribNbextensionsApp] Out of date: C:\\ProgramData\\jupyter\\nbextensions\\freeze\\config.yaml\n",
      "[I 23:24:20 InstallContribNbextensionsApp] Copying: c:\\users\\gurgen\\anaconda3\\lib\\site-packages\\jupyter_contrib_nbextensions\\nbextensions\\freeze\\config.yaml -> C:\\ProgramData\\jupyter\\nbextensions\\freeze\\config.yaml\n",
      "[W 23:24:20 InstallContribNbextensionsApp] Out of date: C:\\ProgramData\\jupyter\\nbextensions\\freeze\\icon.png\n",
      "[I 23:24:20 InstallContribNbextensionsApp] Copying: c:\\users\\gurgen\\anaconda3\\lib\\site-packages\\jupyter_contrib_nbextensions\\nbextensions\\freeze\\icon.png -> C:\\ProgramData\\jupyter\\nbextensions\\freeze\\icon.png\n",
      "[W 23:24:20 InstallContribNbextensionsApp] Out of date: C:\\ProgramData\\jupyter\\nbextensions\\freeze\\main.js\n",
      "[I 23:24:20 InstallContribNbextensionsApp] Copying: c:\\users\\gurgen\\anaconda3\\lib\\site-packages\\jupyter_contrib_nbextensions\\nbextensions\\freeze\\main.js -> C:\\ProgramData\\jupyter\\nbextensions\\freeze\\main.js\n",
      "[W 23:24:20 InstallContribNbextensionsApp] Out of date: C:\\ProgramData\\jupyter\\nbextensions\\freeze\\readme.md\n",
      "[I 23:24:20 InstallContribNbextensionsApp] Copying: c:\\users\\gurgen\\anaconda3\\lib\\site-packages\\jupyter_contrib_nbextensions\\nbextensions\\freeze\\readme.md -> C:\\ProgramData\\jupyter\\nbextensions\\freeze\\readme.md\n",
      "[I 23:24:20 InstallContribNbextensionsApp] - Validating: ok\n",
      "[I 23:24:20 InstallContribNbextensionsApp] Installing c:\\users\\gurgen\\anaconda3\\lib\\site-packages\\jupyter_contrib_nbextensions\\nbextensions\\gist_it -> gist_it\n",
      "[W 23:24:20 InstallContribNbextensionsApp] Out of date: C:\\ProgramData\\jupyter\\nbextensions\\gist_it\\gist_it.yaml\n",
      "[I 23:24:20 InstallContribNbextensionsApp] Copying: c:\\users\\gurgen\\anaconda3\\lib\\site-packages\\jupyter_contrib_nbextensions\\nbextensions\\gist_it\\gist_it.yaml -> C:\\ProgramData\\jupyter\\nbextensions\\gist_it\\gist_it.yaml\n",
      "[W 23:24:20 InstallContribNbextensionsApp] Out of date: C:\\ProgramData\\jupyter\\nbextensions\\gist_it\\icon.png\n",
      "[I 23:24:20 InstallContribNbextensionsApp] Copying: c:\\users\\gurgen\\anaconda3\\lib\\site-packages\\jupyter_contrib_nbextensions\\nbextensions\\gist_it\\icon.png -> C:\\ProgramData\\jupyter\\nbextensions\\gist_it\\icon.png\n",
      "[W 23:24:20 InstallContribNbextensionsApp] Out of date: C:\\ProgramData\\jupyter\\nbextensions\\gist_it\\main.js\n",
      "[I 23:24:20 InstallContribNbextensionsApp] Copying: c:\\users\\gurgen\\anaconda3\\lib\\site-packages\\jupyter_contrib_nbextensions\\nbextensions\\gist_it\\main.js -> C:\\ProgramData\\jupyter\\nbextensions\\gist_it\\main.js\n",
      "[W 23:24:20 InstallContribNbextensionsApp] Out of date: C:\\ProgramData\\jupyter\\nbextensions\\gist_it\\readme.md\n",
      "[I 23:24:20 InstallContribNbextensionsApp] Copying: c:\\users\\gurgen\\anaconda3\\lib\\site-packages\\jupyter_contrib_nbextensions\\nbextensions\\gist_it\\readme.md -> C:\\ProgramData\\jupyter\\nbextensions\\gist_it\\readme.md\n",
      "[I 23:24:20 InstallContribNbextensionsApp] - Validating: ok\n",
      "[I 23:24:20 InstallContribNbextensionsApp] Installing c:\\users\\gurgen\\anaconda3\\lib\\site-packages\\jupyter_contrib_nbextensions\\nbextensions\\help_panel -> help_panel\n",
      "[W 23:24:20 InstallContribNbextensionsApp] Out of date: C:\\ProgramData\\jupyter\\nbextensions\\help_panel\\help_panel.css\n",
      "[I 23:24:20 InstallContribNbextensionsApp] Copying: c:\\users\\gurgen\\anaconda3\\lib\\site-packages\\jupyter_contrib_nbextensions\\nbextensions\\help_panel\\help_panel.css -> C:\\ProgramData\\jupyter\\nbextensions\\help_panel\\help_panel.css\n",
      "[W 23:24:20 InstallContribNbextensionsApp] Out of date: C:\\ProgramData\\jupyter\\nbextensions\\help_panel\\help_panel.js\n",
      "[I 23:24:20 InstallContribNbextensionsApp] Copying: c:\\users\\gurgen\\anaconda3\\lib\\site-packages\\jupyter_contrib_nbextensions\\nbextensions\\help_panel\\help_panel.js -> C:\\ProgramData\\jupyter\\nbextensions\\help_panel\\help_panel.js\n",
      "[W 23:24:20 InstallContribNbextensionsApp] Out of date: C:\\ProgramData\\jupyter\\nbextensions\\help_panel\\help_panel.yaml\n",
      "[I 23:24:20 InstallContribNbextensionsApp] Copying: c:\\users\\gurgen\\anaconda3\\lib\\site-packages\\jupyter_contrib_nbextensions\\nbextensions\\help_panel\\help_panel.yaml -> C:\\ProgramData\\jupyter\\nbextensions\\help_panel\\help_panel.yaml\n",
      "[W 23:24:20 InstallContribNbextensionsApp] Out of date: C:\\ProgramData\\jupyter\\nbextensions\\help_panel\\help_panel_ext.png\n",
      "[I 23:24:20 InstallContribNbextensionsApp] Copying: c:\\users\\gurgen\\anaconda3\\lib\\site-packages\\jupyter_contrib_nbextensions\\nbextensions\\help_panel\\help_panel_ext.png -> C:\\ProgramData\\jupyter\\nbextensions\\help_panel\\help_panel_ext.png\n",
      "[W 23:24:20 InstallContribNbextensionsApp] Out of date: C:\\ProgramData\\jupyter\\nbextensions\\help_panel\\help_panel_ext_fullscreen.png\n",
      "[I 23:24:20 InstallContribNbextensionsApp] Copying: c:\\users\\gurgen\\anaconda3\\lib\\site-packages\\jupyter_contrib_nbextensions\\nbextensions\\help_panel\\help_panel_ext_fullscreen.png -> C:\\ProgramData\\jupyter\\nbextensions\\help_panel\\help_panel_ext_fullscreen.png\n",
      "[W 23:24:20 InstallContribNbextensionsApp] Out of date: C:\\ProgramData\\jupyter\\nbextensions\\help_panel\\icon.png\n",
      "[I 23:24:20 InstallContribNbextensionsApp] Copying: c:\\users\\gurgen\\anaconda3\\lib\\site-packages\\jupyter_contrib_nbextensions\\nbextensions\\help_panel\\icon.png -> C:\\ProgramData\\jupyter\\nbextensions\\help_panel\\icon.png\n",
      "[W 23:24:20 InstallContribNbextensionsApp] Out of date: C:\\ProgramData\\jupyter\\nbextensions\\help_panel\\readme.md\n",
      "[I 23:24:20 InstallContribNbextensionsApp] Copying: c:\\users\\gurgen\\anaconda3\\lib\\site-packages\\jupyter_contrib_nbextensions\\nbextensions\\help_panel\\readme.md -> C:\\ProgramData\\jupyter\\nbextensions\\help_panel\\readme.md\n",
      "[W 23:24:20 InstallContribNbextensionsApp] Out of date: C:\\ProgramData\\jupyter\\nbextensions\\help_panel\\img\\handle-v.png\n",
      "[I 23:24:20 InstallContribNbextensionsApp] Copying: c:\\users\\gurgen\\anaconda3\\lib\\site-packages\\jupyter_contrib_nbextensions\\nbextensions\\help_panel\\img\\handle-v.png -> C:\\ProgramData\\jupyter\\nbextensions\\help_panel\\img\\handle-v.png\n",
      "[I 23:24:20 InstallContribNbextensionsApp] - Validating: ok\n",
      "[I 23:24:20 InstallContribNbextensionsApp] Installing c:\\users\\gurgen\\anaconda3\\lib\\site-packages\\jupyter_contrib_nbextensions\\nbextensions\\hide_header -> hide_header\n",
      "[W 23:24:20 InstallContribNbextensionsApp] Out of date: C:\\ProgramData\\jupyter\\nbextensions\\hide_header\\hide_header.yaml\n",
      "[I 23:24:20 InstallContribNbextensionsApp] Copying: c:\\users\\gurgen\\anaconda3\\lib\\site-packages\\jupyter_contrib_nbextensions\\nbextensions\\hide_header\\hide_header.yaml -> C:\\ProgramData\\jupyter\\nbextensions\\hide_header\\hide_header.yaml\n",
      "[W 23:24:20 InstallContribNbextensionsApp] Out of date: C:\\ProgramData\\jupyter\\nbextensions\\hide_header\\main.js\n",
      "[I 23:24:20 InstallContribNbextensionsApp] Copying: c:\\users\\gurgen\\anaconda3\\lib\\site-packages\\jupyter_contrib_nbextensions\\nbextensions\\hide_header\\main.js -> C:\\ProgramData\\jupyter\\nbextensions\\hide_header\\main.js\n",
      "[W 23:24:20 InstallContribNbextensionsApp] Out of date: C:\\ProgramData\\jupyter\\nbextensions\\hide_header\\README.md\n",
      "[I 23:24:20 InstallContribNbextensionsApp] Copying: c:\\users\\gurgen\\anaconda3\\lib\\site-packages\\jupyter_contrib_nbextensions\\nbextensions\\hide_header\\README.md -> C:\\ProgramData\\jupyter\\nbextensions\\hide_header\\README.md\n",
      "[I 23:24:20 InstallContribNbextensionsApp] - Validating: ok\n",
      "[I 23:24:20 InstallContribNbextensionsApp] Installing c:\\users\\gurgen\\anaconda3\\lib\\site-packages\\jupyter_contrib_nbextensions\\nbextensions\\hide_input -> hide_input\n",
      "[W 23:24:20 InstallContribNbextensionsApp] Out of date: C:\\ProgramData\\jupyter\\nbextensions\\hide_input\\hide-input.yaml\n",
      "[I 23:24:20 InstallContribNbextensionsApp] Copying: c:\\users\\gurgen\\anaconda3\\lib\\site-packages\\jupyter_contrib_nbextensions\\nbextensions\\hide_input\\hide-input.yaml -> C:\\ProgramData\\jupyter\\nbextensions\\hide_input\\hide-input.yaml\n",
      "[W 23:24:20 InstallContribNbextensionsApp] Out of date: C:\\ProgramData\\jupyter\\nbextensions\\hide_input\\icon.png\n",
      "[I 23:24:20 InstallContribNbextensionsApp] Copying: c:\\users\\gurgen\\anaconda3\\lib\\site-packages\\jupyter_contrib_nbextensions\\nbextensions\\hide_input\\icon.png -> C:\\ProgramData\\jupyter\\nbextensions\\hide_input\\icon.png\n",
      "[W 23:24:20 InstallContribNbextensionsApp] Out of date: C:\\ProgramData\\jupyter\\nbextensions\\hide_input\\main.js\n",
      "[I 23:24:20 InstallContribNbextensionsApp] Copying: c:\\users\\gurgen\\anaconda3\\lib\\site-packages\\jupyter_contrib_nbextensions\\nbextensions\\hide_input\\main.js -> C:\\ProgramData\\jupyter\\nbextensions\\hide_input\\main.js\n",
      "[W 23:24:20 InstallContribNbextensionsApp] Out of date: C:\\ProgramData\\jupyter\\nbextensions\\hide_input\\readme.md\n",
      "[I 23:24:20 InstallContribNbextensionsApp] Copying: c:\\users\\gurgen\\anaconda3\\lib\\site-packages\\jupyter_contrib_nbextensions\\nbextensions\\hide_input\\readme.md -> C:\\ProgramData\\jupyter\\nbextensions\\hide_input\\readme.md\n",
      "[I 23:24:20 InstallContribNbextensionsApp] - Validating: ok\n",
      "[I 23:24:20 InstallContribNbextensionsApp] Installing c:\\users\\gurgen\\anaconda3\\lib\\site-packages\\jupyter_contrib_nbextensions\\nbextensions\\hide_input_all -> hide_input_all\n",
      "[W 23:24:20 InstallContribNbextensionsApp] Out of date: C:\\ProgramData\\jupyter\\nbextensions\\hide_input_all\\hide_input_all.yaml\n",
      "[I 23:24:20 InstallContribNbextensionsApp] Copying: c:\\users\\gurgen\\anaconda3\\lib\\site-packages\\jupyter_contrib_nbextensions\\nbextensions\\hide_input_all\\hide_input_all.yaml -> C:\\ProgramData\\jupyter\\nbextensions\\hide_input_all\\hide_input_all.yaml\n",
      "[W 23:24:20 InstallContribNbextensionsApp] Out of date: C:\\ProgramData\\jupyter\\nbextensions\\hide_input_all\\hide_input_all_hide.png\n",
      "[I 23:24:20 InstallContribNbextensionsApp] Copying: c:\\users\\gurgen\\anaconda3\\lib\\site-packages\\jupyter_contrib_nbextensions\\nbextensions\\hide_input_all\\hide_input_all_hide.png -> C:\\ProgramData\\jupyter\\nbextensions\\hide_input_all\\hide_input_all_hide.png\n",
      "[W 23:24:20 InstallContribNbextensionsApp] Out of date: C:\\ProgramData\\jupyter\\nbextensions\\hide_input_all\\hide_input_all_show.png\n",
      "[I 23:24:20 InstallContribNbextensionsApp] Copying: c:\\users\\gurgen\\anaconda3\\lib\\site-packages\\jupyter_contrib_nbextensions\\nbextensions\\hide_input_all\\hide_input_all_show.png -> C:\\ProgramData\\jupyter\\nbextensions\\hide_input_all\\hide_input_all_show.png\n",
      "[W 23:24:20 InstallContribNbextensionsApp] Out of date: C:\\ProgramData\\jupyter\\nbextensions\\hide_input_all\\icon.png\n",
      "[I 23:24:20 InstallContribNbextensionsApp] Copying: c:\\users\\gurgen\\anaconda3\\lib\\site-packages\\jupyter_contrib_nbextensions\\nbextensions\\hide_input_all\\icon.png -> C:\\ProgramData\\jupyter\\nbextensions\\hide_input_all\\icon.png\n",
      "[W 23:24:20 InstallContribNbextensionsApp] Out of date: C:\\ProgramData\\jupyter\\nbextensions\\hide_input_all\\main.js\n",
      "[I 23:24:20 InstallContribNbextensionsApp] Copying: c:\\users\\gurgen\\anaconda3\\lib\\site-packages\\jupyter_contrib_nbextensions\\nbextensions\\hide_input_all\\main.js -> C:\\ProgramData\\jupyter\\nbextensions\\hide_input_all\\main.js\n",
      "[W 23:24:20 InstallContribNbextensionsApp] Out of date: C:\\ProgramData\\jupyter\\nbextensions\\hide_input_all\\readme.md\n",
      "[I 23:24:20 InstallContribNbextensionsApp] Copying: c:\\users\\gurgen\\anaconda3\\lib\\site-packages\\jupyter_contrib_nbextensions\\nbextensions\\hide_input_all\\readme.md -> C:\\ProgramData\\jupyter\\nbextensions\\hide_input_all\\readme.md\n",
      "[I 23:24:20 InstallContribNbextensionsApp] - Validating: ok\n",
      "[I 23:24:20 InstallContribNbextensionsApp] Installing c:\\users\\gurgen\\anaconda3\\lib\\site-packages\\jupyter_contrib_nbextensions\\nbextensions\\highlighter -> highlighter\n",
      "[W 23:24:20 InstallContribNbextensionsApp] Out of date: C:\\ProgramData\\jupyter\\nbextensions\\highlighter\\demo_highlighter.html\n",
      "[I 23:24:20 InstallContribNbextensionsApp] Copying: c:\\users\\gurgen\\anaconda3\\lib\\site-packages\\jupyter_contrib_nbextensions\\nbextensions\\highlighter\\demo_highlighter.html -> C:\\ProgramData\\jupyter\\nbextensions\\highlighter\\demo_highlighter.html\n",
      "[W 23:24:20 InstallContribNbextensionsApp] Out of date: C:\\ProgramData\\jupyter\\nbextensions\\highlighter\\demo_highlighter.ipynb\n",
      "[I 23:24:20 InstallContribNbextensionsApp] Copying: c:\\users\\gurgen\\anaconda3\\lib\\site-packages\\jupyter_contrib_nbextensions\\nbextensions\\highlighter\\demo_highlighter.ipynb -> C:\\ProgramData\\jupyter\\nbextensions\\highlighter\\demo_highlighter.ipynb\n",
      "[W 23:24:20 InstallContribNbextensionsApp] Out of date: C:\\ProgramData\\jupyter\\nbextensions\\highlighter\\export_highlights.html\n",
      "[I 23:24:20 InstallContribNbextensionsApp] Copying: c:\\users\\gurgen\\anaconda3\\lib\\site-packages\\jupyter_contrib_nbextensions\\nbextensions\\highlighter\\export_highlights.html -> C:\\ProgramData\\jupyter\\nbextensions\\highlighter\\export_highlights.html\n",
      "[W 23:24:20 InstallContribNbextensionsApp] Out of date: C:\\ProgramData\\jupyter\\nbextensions\\highlighter\\export_highlights.ipynb\n",
      "[I 23:24:20 InstallContribNbextensionsApp] Copying: c:\\users\\gurgen\\anaconda3\\lib\\site-packages\\jupyter_contrib_nbextensions\\nbextensions\\highlighter\\export_highlights.ipynb -> C:\\ProgramData\\jupyter\\nbextensions\\highlighter\\export_highlights.ipynb\n",
      "[W 23:24:20 InstallContribNbextensionsApp] Out of date: C:\\ProgramData\\jupyter\\nbextensions\\highlighter\\export_highlights.pdf\n",
      "[I 23:24:20 InstallContribNbextensionsApp] Copying: c:\\users\\gurgen\\anaconda3\\lib\\site-packages\\jupyter_contrib_nbextensions\\nbextensions\\highlighter\\export_highlights.pdf -> C:\\ProgramData\\jupyter\\nbextensions\\highlighter\\export_highlights.pdf\n",
      "[W 23:24:20 InstallContribNbextensionsApp] Out of date: C:\\ProgramData\\jupyter\\nbextensions\\highlighter\\export_highlights.tex\n",
      "[I 23:24:20 InstallContribNbextensionsApp] Copying: c:\\users\\gurgen\\anaconda3\\lib\\site-packages\\jupyter_contrib_nbextensions\\nbextensions\\highlighter\\export_highlights.tex -> C:\\ProgramData\\jupyter\\nbextensions\\highlighter\\export_highlights.tex\n",
      "[W 23:24:20 InstallContribNbextensionsApp] Out of date: C:\\ProgramData\\jupyter\\nbextensions\\highlighter\\highlighter.css\n",
      "[I 23:24:20 InstallContribNbextensionsApp] Copying: c:\\users\\gurgen\\anaconda3\\lib\\site-packages\\jupyter_contrib_nbextensions\\nbextensions\\highlighter\\highlighter.css -> C:\\ProgramData\\jupyter\\nbextensions\\highlighter\\highlighter.css\n",
      "[W 23:24:20 InstallContribNbextensionsApp] Out of date: C:\\ProgramData\\jupyter\\nbextensions\\highlighter\\highlighter.js\n",
      "[I 23:24:20 InstallContribNbextensionsApp] Copying: c:\\users\\gurgen\\anaconda3\\lib\\site-packages\\jupyter_contrib_nbextensions\\nbextensions\\highlighter\\highlighter.js -> C:\\ProgramData\\jupyter\\nbextensions\\highlighter\\highlighter.js\n",
      "[W 23:24:20 InstallContribNbextensionsApp] Out of date: C:\\ProgramData\\jupyter\\nbextensions\\highlighter\\highlighter.yaml\n",
      "[I 23:24:20 InstallContribNbextensionsApp] Copying: c:\\users\\gurgen\\anaconda3\\lib\\site-packages\\jupyter_contrib_nbextensions\\nbextensions\\highlighter\\highlighter.yaml -> C:\\ProgramData\\jupyter\\nbextensions\\highlighter\\highlighter.yaml\n",
      "[W 23:24:20 InstallContribNbextensionsApp] Out of date: C:\\ProgramData\\jupyter\\nbextensions\\highlighter\\icon.png\n",
      "[I 23:24:20 InstallContribNbextensionsApp] Copying: c:\\users\\gurgen\\anaconda3\\lib\\site-packages\\jupyter_contrib_nbextensions\\nbextensions\\highlighter\\icon.png -> C:\\ProgramData\\jupyter\\nbextensions\\highlighter\\icon.png\n",
      "[W 23:24:20 InstallContribNbextensionsApp] Out of date: C:\\ProgramData\\jupyter\\nbextensions\\highlighter\\image.gif\n",
      "[I 23:24:20 InstallContribNbextensionsApp] Copying: c:\\users\\gurgen\\anaconda3\\lib\\site-packages\\jupyter_contrib_nbextensions\\nbextensions\\highlighter\\image.gif -> C:\\ProgramData\\jupyter\\nbextensions\\highlighter\\image.gif\n",
      "[W 23:24:20 InstallContribNbextensionsApp] Out of date: C:\\ProgramData\\jupyter\\nbextensions\\highlighter\\readme.md\n",
      "[I 23:24:20 InstallContribNbextensionsApp] Copying: c:\\users\\gurgen\\anaconda3\\lib\\site-packages\\jupyter_contrib_nbextensions\\nbextensions\\highlighter\\readme.md -> C:\\ProgramData\\jupyter\\nbextensions\\highlighter\\readme.md\n",
      "[W 23:24:20 InstallContribNbextensionsApp] Out of date: C:\\ProgramData\\jupyter\\nbextensions\\highlighter\\tst_highlights.html\n",
      "[I 23:24:20 InstallContribNbextensionsApp] Copying: c:\\users\\gurgen\\anaconda3\\lib\\site-packages\\jupyter_contrib_nbextensions\\nbextensions\\highlighter\\tst_highlights.html -> C:\\ProgramData\\jupyter\\nbextensions\\highlighter\\tst_highlights.html\n",
      "[W 23:24:20 InstallContribNbextensionsApp] Out of date: C:\\ProgramData\\jupyter\\nbextensions\\highlighter\\tst_highlights.ipynb\n",
      "[I 23:24:20 InstallContribNbextensionsApp] Copying: c:\\users\\gurgen\\anaconda3\\lib\\site-packages\\jupyter_contrib_nbextensions\\nbextensions\\highlighter\\tst_highlights.ipynb -> C:\\ProgramData\\jupyter\\nbextensions\\highlighter\\tst_highlights.ipynb\n",
      "[W 23:24:20 InstallContribNbextensionsApp] Out of date: C:\\ProgramData\\jupyter\\nbextensions\\highlighter\\tst_highlights.pdf\n",
      "[I 23:24:20 InstallContribNbextensionsApp] Copying: c:\\users\\gurgen\\anaconda3\\lib\\site-packages\\jupyter_contrib_nbextensions\\nbextensions\\highlighter\\tst_highlights.pdf -> C:\\ProgramData\\jupyter\\nbextensions\\highlighter\\tst_highlights.pdf\n",
      "[W 23:24:20 InstallContribNbextensionsApp] Out of date: C:\\ProgramData\\jupyter\\nbextensions\\highlighter\\tst_highlights.tex\n",
      "[I 23:24:20 InstallContribNbextensionsApp] Copying: c:\\users\\gurgen\\anaconda3\\lib\\site-packages\\jupyter_contrib_nbextensions\\nbextensions\\highlighter\\tst_highlights.tex -> C:\\ProgramData\\jupyter\\nbextensions\\highlighter\\tst_highlights.tex\n",
      "[I 23:24:20 InstallContribNbextensionsApp] - Validating: ok\n",
      "[I 23:24:20 InstallContribNbextensionsApp] Installing c:\\users\\gurgen\\anaconda3\\lib\\site-packages\\jupyter_contrib_nbextensions\\nbextensions\\hinterland -> hinterland\n",
      "[W 23:24:20 InstallContribNbextensionsApp] Out of date: C:\\ProgramData\\jupyter\\nbextensions\\hinterland\\hinterland.js\n",
      "[I 23:24:20 InstallContribNbextensionsApp] Copying: c:\\users\\gurgen\\anaconda3\\lib\\site-packages\\jupyter_contrib_nbextensions\\nbextensions\\hinterland\\hinterland.js -> C:\\ProgramData\\jupyter\\nbextensions\\hinterland\\hinterland.js\n",
      "[W 23:24:20 InstallContribNbextensionsApp] Out of date: C:\\ProgramData\\jupyter\\nbextensions\\hinterland\\hinterland.yaml\n",
      "[I 23:24:20 InstallContribNbextensionsApp] Copying: c:\\users\\gurgen\\anaconda3\\lib\\site-packages\\jupyter_contrib_nbextensions\\nbextensions\\hinterland\\hinterland.yaml -> C:\\ProgramData\\jupyter\\nbextensions\\hinterland\\hinterland.yaml\n",
      "[W 23:24:20 InstallContribNbextensionsApp] Out of date: C:\\ProgramData\\jupyter\\nbextensions\\hinterland\\README.md\n",
      "[I 23:24:20 InstallContribNbextensionsApp] Copying: c:\\users\\gurgen\\anaconda3\\lib\\site-packages\\jupyter_contrib_nbextensions\\nbextensions\\hinterland\\README.md -> C:\\ProgramData\\jupyter\\nbextensions\\hinterland\\README.md\n",
      "[I 23:24:20 InstallContribNbextensionsApp] - Validating: ok\n",
      "[I 23:24:20 InstallContribNbextensionsApp] Installing c:\\users\\gurgen\\anaconda3\\lib\\site-packages\\jupyter_contrib_nbextensions\\nbextensions\\init_cell -> init_cell\n",
      "[W 23:24:20 InstallContribNbextensionsApp] Out of date: C:\\ProgramData\\jupyter\\nbextensions\\init_cell\\cell_toolbar_menu.png\n",
      "[I 23:24:20 InstallContribNbextensionsApp] Copying: c:\\users\\gurgen\\anaconda3\\lib\\site-packages\\jupyter_contrib_nbextensions\\nbextensions\\init_cell\\cell_toolbar_menu.png -> C:\\ProgramData\\jupyter\\nbextensions\\init_cell\\cell_toolbar_menu.png\n",
      "[W 23:24:20 InstallContribNbextensionsApp] Out of date: C:\\ProgramData\\jupyter\\nbextensions\\init_cell\\icon.png\n",
      "[I 23:24:20 InstallContribNbextensionsApp] Copying: c:\\users\\gurgen\\anaconda3\\lib\\site-packages\\jupyter_contrib_nbextensions\\nbextensions\\init_cell\\icon.png -> C:\\ProgramData\\jupyter\\nbextensions\\init_cell\\icon.png\n",
      "[W 23:24:20 InstallContribNbextensionsApp] Out of date: C:\\ProgramData\\jupyter\\nbextensions\\init_cell\\init_cell.yaml\n",
      "[I 23:24:20 InstallContribNbextensionsApp] Copying: c:\\users\\gurgen\\anaconda3\\lib\\site-packages\\jupyter_contrib_nbextensions\\nbextensions\\init_cell\\init_cell.yaml -> C:\\ProgramData\\jupyter\\nbextensions\\init_cell\\init_cell.yaml\n",
      "[W 23:24:20 InstallContribNbextensionsApp] Out of date: C:\\ProgramData\\jupyter\\nbextensions\\init_cell\\main.js\n",
      "[I 23:24:20 InstallContribNbextensionsApp] Copying: c:\\users\\gurgen\\anaconda3\\lib\\site-packages\\jupyter_contrib_nbextensions\\nbextensions\\init_cell\\main.js -> C:\\ProgramData\\jupyter\\nbextensions\\init_cell\\main.js\n",
      "[W 23:24:20 InstallContribNbextensionsApp] Out of date: C:\\ProgramData\\jupyter\\nbextensions\\init_cell\\README.md\n",
      "[I 23:24:20 InstallContribNbextensionsApp] Copying: c:\\users\\gurgen\\anaconda3\\lib\\site-packages\\jupyter_contrib_nbextensions\\nbextensions\\init_cell\\README.md -> C:\\ProgramData\\jupyter\\nbextensions\\init_cell\\README.md\n",
      "[I 23:24:20 InstallContribNbextensionsApp] - Validating: ok\n",
      "[I 23:24:20 InstallContribNbextensionsApp] Installing c:\\users\\gurgen\\anaconda3\\lib\\site-packages\\jupyter_contrib_nbextensions\\nbextensions\\keyboard_shortcut_editor -> keyboard_shortcut_editor\n",
      "[W 23:24:20 InstallContribNbextensionsApp] Out of date: C:\\ProgramData\\jupyter\\nbextensions\\keyboard_shortcut_editor\\icon.png\n",
      "[I 23:24:20 InstallContribNbextensionsApp] Copying: c:\\users\\gurgen\\anaconda3\\lib\\site-packages\\jupyter_contrib_nbextensions\\nbextensions\\keyboard_shortcut_editor\\icon.png -> C:\\ProgramData\\jupyter\\nbextensions\\keyboard_shortcut_editor\\icon.png\n",
      "[W 23:24:20 InstallContribNbextensionsApp] Out of date: C:\\ProgramData\\jupyter\\nbextensions\\keyboard_shortcut_editor\\keyboard_shortcut_editor.yaml\n",
      "[I 23:24:20 InstallContribNbextensionsApp] Copying: c:\\users\\gurgen\\anaconda3\\lib\\site-packages\\jupyter_contrib_nbextensions\\nbextensions\\keyboard_shortcut_editor\\keyboard_shortcut_editor.yaml -> C:\\ProgramData\\jupyter\\nbextensions\\keyboard_shortcut_editor\\keyboard_shortcut_editor.yaml\n",
      "[W 23:24:20 InstallContribNbextensionsApp] Out of date: C:\\ProgramData\\jupyter\\nbextensions\\keyboard_shortcut_editor\\kse_components.js\n",
      "[I 23:24:20 InstallContribNbextensionsApp] Copying: c:\\users\\gurgen\\anaconda3\\lib\\site-packages\\jupyter_contrib_nbextensions\\nbextensions\\keyboard_shortcut_editor\\kse_components.js -> C:\\ProgramData\\jupyter\\nbextensions\\keyboard_shortcut_editor\\kse_components.js\n",
      "[W 23:24:20 InstallContribNbextensionsApp] Out of date: C:\\ProgramData\\jupyter\\nbextensions\\keyboard_shortcut_editor\\main.css\n",
      "[I 23:24:20 InstallContribNbextensionsApp] Copying: c:\\users\\gurgen\\anaconda3\\lib\\site-packages\\jupyter_contrib_nbextensions\\nbextensions\\keyboard_shortcut_editor\\main.css -> C:\\ProgramData\\jupyter\\nbextensions\\keyboard_shortcut_editor\\main.css\n",
      "[W 23:24:21 InstallContribNbextensionsApp] Out of date: C:\\ProgramData\\jupyter\\nbextensions\\keyboard_shortcut_editor\\main.js\n",
      "[I 23:24:21 InstallContribNbextensionsApp] Copying: c:\\users\\gurgen\\anaconda3\\lib\\site-packages\\jupyter_contrib_nbextensions\\nbextensions\\keyboard_shortcut_editor\\main.js -> C:\\ProgramData\\jupyter\\nbextensions\\keyboard_shortcut_editor\\main.js\n",
      "[W 23:24:21 InstallContribNbextensionsApp] Out of date: C:\\ProgramData\\jupyter\\nbextensions\\keyboard_shortcut_editor\\quickhelp_shim.js\n",
      "[I 23:24:21 InstallContribNbextensionsApp] Copying: c:\\users\\gurgen\\anaconda3\\lib\\site-packages\\jupyter_contrib_nbextensions\\nbextensions\\keyboard_shortcut_editor\\quickhelp_shim.js -> C:\\ProgramData\\jupyter\\nbextensions\\keyboard_shortcut_editor\\quickhelp_shim.js\n",
      "[W 23:24:21 InstallContribNbextensionsApp] Out of date: C:\\ProgramData\\jupyter\\nbextensions\\keyboard_shortcut_editor\\README.md\n",
      "[I 23:24:21 InstallContribNbextensionsApp] Copying: c:\\users\\gurgen\\anaconda3\\lib\\site-packages\\jupyter_contrib_nbextensions\\nbextensions\\keyboard_shortcut_editor\\README.md -> C:\\ProgramData\\jupyter\\nbextensions\\keyboard_shortcut_editor\\README.md\n",
      "[W 23:24:21 InstallContribNbextensionsApp] Out of date: C:\\ProgramData\\jupyter\\nbextensions\\keyboard_shortcut_editor\\readme_add_new_link.png\n",
      "[I 23:24:21 InstallContribNbextensionsApp] Copying: c:\\users\\gurgen\\anaconda3\\lib\\site-packages\\jupyter_contrib_nbextensions\\nbextensions\\keyboard_shortcut_editor\\readme_add_new_link.png -> C:\\ProgramData\\jupyter\\nbextensions\\keyboard_shortcut_editor\\readme_add_new_link.png\n",
      "[W 23:24:21 InstallContribNbextensionsApp] Out of date: C:\\ProgramData\\jupyter\\nbextensions\\keyboard_shortcut_editor\\readme_add_new_select_action.png\n",
      "[I 23:24:21 InstallContribNbextensionsApp] Copying: c:\\users\\gurgen\\anaconda3\\lib\\site-packages\\jupyter_contrib_nbextensions\\nbextensions\\keyboard_shortcut_editor\\readme_add_new_select_action.png -> C:\\ProgramData\\jupyter\\nbextensions\\keyboard_shortcut_editor\\readme_add_new_select_action.png\n",
      "[W 23:24:21 InstallContribNbextensionsApp] Out of date: C:\\ProgramData\\jupyter\\nbextensions\\keyboard_shortcut_editor\\readme_comma.png\n",
      "[I 23:24:21 InstallContribNbextensionsApp] Copying: c:\\users\\gurgen\\anaconda3\\lib\\site-packages\\jupyter_contrib_nbextensions\\nbextensions\\keyboard_shortcut_editor\\readme_comma.png -> C:\\ProgramData\\jupyter\\nbextensions\\keyboard_shortcut_editor\\readme_comma.png\n",
      "[W 23:24:21 InstallContribNbextensionsApp] Out of date: C:\\ProgramData\\jupyter\\nbextensions\\keyboard_shortcut_editor\\readme_conflict.png\n",
      "[I 23:24:21 InstallContribNbextensionsApp] Copying: c:\\users\\gurgen\\anaconda3\\lib\\site-packages\\jupyter_contrib_nbextensions\\nbextensions\\keyboard_shortcut_editor\\readme_conflict.png -> C:\\ProgramData\\jupyter\\nbextensions\\keyboard_shortcut_editor\\readme_conflict.png\n",
      "[W 23:24:21 InstallContribNbextensionsApp] Out of date: C:\\ProgramData\\jupyter\\nbextensions\\keyboard_shortcut_editor\\readme_dropdown.png\n",
      "[I 23:24:21 InstallContribNbextensionsApp] Copying: c:\\users\\gurgen\\anaconda3\\lib\\site-packages\\jupyter_contrib_nbextensions\\nbextensions\\keyboard_shortcut_editor\\readme_dropdown.png -> C:\\ProgramData\\jupyter\\nbextensions\\keyboard_shortcut_editor\\readme_dropdown.png\n",
      "[W 23:24:21 InstallContribNbextensionsApp] Out of date: C:\\ProgramData\\jupyter\\nbextensions\\keyboard_shortcut_editor\\readme_menu_item.png\n",
      "[I 23:24:21 InstallContribNbextensionsApp] Copying: c:\\users\\gurgen\\anaconda3\\lib\\site-packages\\jupyter_contrib_nbextensions\\nbextensions\\keyboard_shortcut_editor\\readme_menu_item.png -> C:\\ProgramData\\jupyter\\nbextensions\\keyboard_shortcut_editor\\readme_menu_item.png\n",
      "[W 23:24:21 InstallContribNbextensionsApp] Out of date: C:\\ProgramData\\jupyter\\nbextensions\\keyboard_shortcut_editor\\readme_reset_disabled.png\n",
      "[I 23:24:21 InstallContribNbextensionsApp] Copying: c:\\users\\gurgen\\anaconda3\\lib\\site-packages\\jupyter_contrib_nbextensions\\nbextensions\\keyboard_shortcut_editor\\readme_reset_disabled.png -> C:\\ProgramData\\jupyter\\nbextensions\\keyboard_shortcut_editor\\readme_reset_disabled.png\n",
      "[W 23:24:21 InstallContribNbextensionsApp] Out of date: C:\\ProgramData\\jupyter\\nbextensions\\keyboard_shortcut_editor\\readme_shortcut_editor_blank.png\n",
      "[I 23:24:21 InstallContribNbextensionsApp] Copying: c:\\users\\gurgen\\anaconda3\\lib\\site-packages\\jupyter_contrib_nbextensions\\nbextensions\\keyboard_shortcut_editor\\readme_shortcut_editor_blank.png -> C:\\ProgramData\\jupyter\\nbextensions\\keyboard_shortcut_editor\\readme_shortcut_editor_blank.png\n",
      "[W 23:24:21 InstallContribNbextensionsApp] Out of date: C:\\ProgramData\\jupyter\\nbextensions\\keyboard_shortcut_editor\\readme_shortcut_editor_success.png\n",
      "[I 23:24:21 InstallContribNbextensionsApp] Copying: c:\\users\\gurgen\\anaconda3\\lib\\site-packages\\jupyter_contrib_nbextensions\\nbextensions\\keyboard_shortcut_editor\\readme_shortcut_editor_success.png -> C:\\ProgramData\\jupyter\\nbextensions\\keyboard_shortcut_editor\\readme_shortcut_editor_success.png\n",
      "[W 23:24:21 InstallContribNbextensionsApp] Out of date: C:\\ProgramData\\jupyter\\nbextensions\\keyboard_shortcut_editor\\readme_undefined_key.png\n",
      "[I 23:24:21 InstallContribNbextensionsApp] Copying: c:\\users\\gurgen\\anaconda3\\lib\\site-packages\\jupyter_contrib_nbextensions\\nbextensions\\keyboard_shortcut_editor\\readme_undefined_key.png -> C:\\ProgramData\\jupyter\\nbextensions\\keyboard_shortcut_editor\\readme_undefined_key.png\n",
      "[I 23:24:21 InstallContribNbextensionsApp] - Validating: ok\n",
      "[I 23:24:21 InstallContribNbextensionsApp] Installing c:\\users\\gurgen\\anaconda3\\lib\\site-packages\\jupyter_contrib_nbextensions\\nbextensions\\limit_output -> limit_output\n",
      "[W 23:24:21 InstallContribNbextensionsApp] Out of date: C:\\ProgramData\\jupyter\\nbextensions\\limit_output\\icon.png\n",
      "[I 23:24:21 InstallContribNbextensionsApp] Copying: c:\\users\\gurgen\\anaconda3\\lib\\site-packages\\jupyter_contrib_nbextensions\\nbextensions\\limit_output\\icon.png -> C:\\ProgramData\\jupyter\\nbextensions\\limit_output\\icon.png\n",
      "[W 23:24:21 InstallContribNbextensionsApp] Out of date: C:\\ProgramData\\jupyter\\nbextensions\\limit_output\\limit-output.yaml\n",
      "[I 23:24:21 InstallContribNbextensionsApp] Copying: c:\\users\\gurgen\\anaconda3\\lib\\site-packages\\jupyter_contrib_nbextensions\\nbextensions\\limit_output\\limit-output.yaml -> C:\\ProgramData\\jupyter\\nbextensions\\limit_output\\limit-output.yaml\n",
      "[W 23:24:21 InstallContribNbextensionsApp] Out of date: C:\\ProgramData\\jupyter\\nbextensions\\limit_output\\main.js\n",
      "[I 23:24:21 InstallContribNbextensionsApp] Copying: c:\\users\\gurgen\\anaconda3\\lib\\site-packages\\jupyter_contrib_nbextensions\\nbextensions\\limit_output\\main.js -> C:\\ProgramData\\jupyter\\nbextensions\\limit_output\\main.js\n",
      "[W 23:24:21 InstallContribNbextensionsApp] Out of date: C:\\ProgramData\\jupyter\\nbextensions\\limit_output\\readme.md\n",
      "[I 23:24:21 InstallContribNbextensionsApp] Copying: c:\\users\\gurgen\\anaconda3\\lib\\site-packages\\jupyter_contrib_nbextensions\\nbextensions\\limit_output\\readme.md -> C:\\ProgramData\\jupyter\\nbextensions\\limit_output\\readme.md\n",
      "[I 23:24:21 InstallContribNbextensionsApp] - Validating: ok\n",
      "[I 23:24:21 InstallContribNbextensionsApp] Installing c:\\users\\gurgen\\anaconda3\\lib\\site-packages\\jupyter_contrib_nbextensions\\nbextensions\\livemdpreview -> livemdpreview\n",
      "[W 23:24:21 InstallContribNbextensionsApp] Out of date: C:\\ProgramData\\jupyter\\nbextensions\\livemdpreview\\livemdpreview.js\n",
      "[I 23:24:21 InstallContribNbextensionsApp] Copying: c:\\users\\gurgen\\anaconda3\\lib\\site-packages\\jupyter_contrib_nbextensions\\nbextensions\\livemdpreview\\livemdpreview.js -> C:\\ProgramData\\jupyter\\nbextensions\\livemdpreview\\livemdpreview.js\n",
      "[W 23:24:21 InstallContribNbextensionsApp] Out of date: C:\\ProgramData\\jupyter\\nbextensions\\livemdpreview\\livemdpreview.yml\n",
      "[I 23:24:21 InstallContribNbextensionsApp] Copying: c:\\users\\gurgen\\anaconda3\\lib\\site-packages\\jupyter_contrib_nbextensions\\nbextensions\\livemdpreview\\livemdpreview.yml -> C:\\ProgramData\\jupyter\\nbextensions\\livemdpreview\\livemdpreview.yml\n",
      "[I 23:24:21 InstallContribNbextensionsApp] - Validating: ok\n",
      "[I 23:24:21 InstallContribNbextensionsApp] Installing c:\\users\\gurgen\\anaconda3\\lib\\site-packages\\jupyter_contrib_nbextensions\\nbextensions\\load_tex_macros -> load_tex_macros\n",
      "[W 23:24:21 InstallContribNbextensionsApp] Out of date: C:\\ProgramData\\jupyter\\nbextensions\\load_tex_macros\\icon.png\n",
      "[I 23:24:21 InstallContribNbextensionsApp] Copying: c:\\users\\gurgen\\anaconda3\\lib\\site-packages\\jupyter_contrib_nbextensions\\nbextensions\\load_tex_macros\\icon.png -> C:\\ProgramData\\jupyter\\nbextensions\\load_tex_macros\\icon.png\n",
      "[W 23:24:21 InstallContribNbextensionsApp] Out of date: C:\\ProgramData\\jupyter\\nbextensions\\load_tex_macros\\load_tex_macros.yaml\n",
      "[I 23:24:21 InstallContribNbextensionsApp] Copying: c:\\users\\gurgen\\anaconda3\\lib\\site-packages\\jupyter_contrib_nbextensions\\nbextensions\\load_tex_macros\\load_tex_macros.yaml -> C:\\ProgramData\\jupyter\\nbextensions\\load_tex_macros\\load_tex_macros.yaml\n",
      "[W 23:24:21 InstallContribNbextensionsApp] Out of date: C:\\ProgramData\\jupyter\\nbextensions\\load_tex_macros\\main.js\n",
      "[I 23:24:21 InstallContribNbextensionsApp] Copying: c:\\users\\gurgen\\anaconda3\\lib\\site-packages\\jupyter_contrib_nbextensions\\nbextensions\\load_tex_macros\\main.js -> C:\\ProgramData\\jupyter\\nbextensions\\load_tex_macros\\main.js\n",
      "[W 23:24:21 InstallContribNbextensionsApp] Out of date: C:\\ProgramData\\jupyter\\nbextensions\\load_tex_macros\\readme.md\n",
      "[I 23:24:21 InstallContribNbextensionsApp] Copying: c:\\users\\gurgen\\anaconda3\\lib\\site-packages\\jupyter_contrib_nbextensions\\nbextensions\\load_tex_macros\\readme.md -> C:\\ProgramData\\jupyter\\nbextensions\\load_tex_macros\\readme.md\n",
      "[I 23:24:21 InstallContribNbextensionsApp] - Validating: ok\n",
      "[I 23:24:21 InstallContribNbextensionsApp] Installing c:\\users\\gurgen\\anaconda3\\lib\\site-packages\\jupyter_contrib_nbextensions\\nbextensions\\move_selected_cells -> move_selected_cells\n",
      "[W 23:24:21 InstallContribNbextensionsApp] Out of date: C:\\ProgramData\\jupyter\\nbextensions\\move_selected_cells\\main.js\n",
      "[I 23:24:21 InstallContribNbextensionsApp] Copying: c:\\users\\gurgen\\anaconda3\\lib\\site-packages\\jupyter_contrib_nbextensions\\nbextensions\\move_selected_cells\\main.js -> C:\\ProgramData\\jupyter\\nbextensions\\move_selected_cells\\main.js\n",
      "[W 23:24:21 InstallContribNbextensionsApp] Out of date: C:\\ProgramData\\jupyter\\nbextensions\\move_selected_cells\\move_selected_cells.yaml\n",
      "[I 23:24:21 InstallContribNbextensionsApp] Copying: c:\\users\\gurgen\\anaconda3\\lib\\site-packages\\jupyter_contrib_nbextensions\\nbextensions\\move_selected_cells\\move_selected_cells.yaml -> C:\\ProgramData\\jupyter\\nbextensions\\move_selected_cells\\move_selected_cells.yaml\n",
      "[W 23:24:21 InstallContribNbextensionsApp] Out of date: C:\\ProgramData\\jupyter\\nbextensions\\move_selected_cells\\README.md\n",
      "[I 23:24:21 InstallContribNbextensionsApp] Copying: c:\\users\\gurgen\\anaconda3\\lib\\site-packages\\jupyter_contrib_nbextensions\\nbextensions\\move_selected_cells\\README.md -> C:\\ProgramData\\jupyter\\nbextensions\\move_selected_cells\\README.md\n",
      "[I 23:24:21 InstallContribNbextensionsApp] - Validating: ok\n",
      "[I 23:24:21 InstallContribNbextensionsApp] Installing c:\\users\\gurgen\\anaconda3\\lib\\site-packages\\jupyter_contrib_nbextensions\\nbextensions\\navigation-hotkeys -> navigation-hotkeys\n",
      "[W 23:24:21 InstallContribNbextensionsApp] Out of date: C:\\ProgramData\\jupyter\\nbextensions\\navigation-hotkeys\\hotkeys.yaml\n",
      "[I 23:24:21 InstallContribNbextensionsApp] Copying: c:\\users\\gurgen\\anaconda3\\lib\\site-packages\\jupyter_contrib_nbextensions\\nbextensions\\navigation-hotkeys\\hotkeys.yaml -> C:\\ProgramData\\jupyter\\nbextensions\\navigation-hotkeys\\hotkeys.yaml\n",
      "[W 23:24:21 InstallContribNbextensionsApp] Out of date: C:\\ProgramData\\jupyter\\nbextensions\\navigation-hotkeys\\icon.png\n",
      "[I 23:24:21 InstallContribNbextensionsApp] Copying: c:\\users\\gurgen\\anaconda3\\lib\\site-packages\\jupyter_contrib_nbextensions\\nbextensions\\navigation-hotkeys\\icon.png -> C:\\ProgramData\\jupyter\\nbextensions\\navigation-hotkeys\\icon.png\n",
      "[W 23:24:21 InstallContribNbextensionsApp] Out of date: C:\\ProgramData\\jupyter\\nbextensions\\navigation-hotkeys\\main.js\n",
      "[I 23:24:21 InstallContribNbextensionsApp] Copying: c:\\users\\gurgen\\anaconda3\\lib\\site-packages\\jupyter_contrib_nbextensions\\nbextensions\\navigation-hotkeys\\main.js -> C:\\ProgramData\\jupyter\\nbextensions\\navigation-hotkeys\\main.js\n",
      "[W 23:24:21 InstallContribNbextensionsApp] Out of date: C:\\ProgramData\\jupyter\\nbextensions\\navigation-hotkeys\\readme.md\n",
      "[I 23:24:21 InstallContribNbextensionsApp] Copying: c:\\users\\gurgen\\anaconda3\\lib\\site-packages\\jupyter_contrib_nbextensions\\nbextensions\\navigation-hotkeys\\readme.md -> C:\\ProgramData\\jupyter\\nbextensions\\navigation-hotkeys\\readme.md\n",
      "[I 23:24:21 InstallContribNbextensionsApp] - Validating: ok\n",
      "[I 23:24:21 InstallContribNbextensionsApp] Installing c:\\users\\gurgen\\anaconda3\\lib\\site-packages\\jupyter_contrib_nbextensions\\nbextensions\\nbTranslate -> nbTranslate\n",
      "[W 23:24:21 InstallContribNbextensionsApp] Out of date: C:\\ProgramData\\jupyter\\nbextensions\\nbTranslate\\demo1.gif\n",
      "[I 23:24:21 InstallContribNbextensionsApp] Copying: c:\\users\\gurgen\\anaconda3\\lib\\site-packages\\jupyter_contrib_nbextensions\\nbextensions\\nbTranslate\\demo1.gif -> C:\\ProgramData\\jupyter\\nbextensions\\nbTranslate\\demo1.gif\n",
      "[W 23:24:21 InstallContribNbextensionsApp] Out of date: C:\\ProgramData\\jupyter\\nbextensions\\nbTranslate\\demo2.gif\n",
      "[I 23:24:21 InstallContribNbextensionsApp] Copying: c:\\users\\gurgen\\anaconda3\\lib\\site-packages\\jupyter_contrib_nbextensions\\nbextensions\\nbTranslate\\demo2.gif -> C:\\ProgramData\\jupyter\\nbextensions\\nbTranslate\\demo2.gif\n",
      "[W 23:24:21 InstallContribNbextensionsApp] Out of date: C:\\ProgramData\\jupyter\\nbextensions\\nbTranslate\\languages.js\n",
      "[I 23:24:21 InstallContribNbextensionsApp] Copying: c:\\users\\gurgen\\anaconda3\\lib\\site-packages\\jupyter_contrib_nbextensions\\nbextensions\\nbTranslate\\languages.js -> C:\\ProgramData\\jupyter\\nbextensions\\nbTranslate\\languages.js\n",
      "[W 23:24:21 InstallContribNbextensionsApp] Out of date: C:\\ProgramData\\jupyter\\nbextensions\\nbTranslate\\main.js\n",
      "[I 23:24:21 InstallContribNbextensionsApp] Copying: c:\\users\\gurgen\\anaconda3\\lib\\site-packages\\jupyter_contrib_nbextensions\\nbextensions\\nbTranslate\\main.js -> C:\\ProgramData\\jupyter\\nbextensions\\nbTranslate\\main.js\n",
      "[W 23:24:21 InstallContribNbextensionsApp] Out of date: C:\\ProgramData\\jupyter\\nbextensions\\nbTranslate\\mutils.js\n",
      "[I 23:24:21 InstallContribNbextensionsApp] Copying: c:\\users\\gurgen\\anaconda3\\lib\\site-packages\\jupyter_contrib_nbextensions\\nbextensions\\nbTranslate\\mutils.js -> C:\\ProgramData\\jupyter\\nbextensions\\nbTranslate\\mutils.js\n",
      "[W 23:24:21 InstallContribNbextensionsApp] Out of date: C:\\ProgramData\\jupyter\\nbextensions\\nbTranslate\\nbTranslate.js\n",
      "[I 23:24:21 InstallContribNbextensionsApp] Copying: c:\\users\\gurgen\\anaconda3\\lib\\site-packages\\jupyter_contrib_nbextensions\\nbextensions\\nbTranslate\\nbTranslate.js -> C:\\ProgramData\\jupyter\\nbextensions\\nbTranslate\\nbTranslate.js\n",
      "[W 23:24:21 InstallContribNbextensionsApp] Out of date: C:\\ProgramData\\jupyter\\nbextensions\\nbTranslate\\nbTranslate.yaml\n",
      "[I 23:24:21 InstallContribNbextensionsApp] Copying: c:\\users\\gurgen\\anaconda3\\lib\\site-packages\\jupyter_contrib_nbextensions\\nbextensions\\nbTranslate\\nbTranslate.yaml -> C:\\ProgramData\\jupyter\\nbextensions\\nbTranslate\\nbTranslate.yaml\n",
      "[W 23:24:21 InstallContribNbextensionsApp] Out of date: C:\\ProgramData\\jupyter\\nbextensions\\nbTranslate\\README.md\n",
      "[I 23:24:21 InstallContribNbextensionsApp] Copying: c:\\users\\gurgen\\anaconda3\\lib\\site-packages\\jupyter_contrib_nbextensions\\nbextensions\\nbTranslate\\README.md -> C:\\ProgramData\\jupyter\\nbextensions\\nbTranslate\\README.md\n",
      "[I 23:24:21 InstallContribNbextensionsApp] - Validating: ok\n",
      "[I 23:24:21 InstallContribNbextensionsApp] Installing c:\\users\\gurgen\\anaconda3\\lib\\site-packages\\jupyter_contrib_nbextensions\\nbextensions\\notify -> notify\n",
      "[W 23:24:21 InstallContribNbextensionsApp] Out of date: C:\\ProgramData\\jupyter\\nbextensions\\notify\\notification.png\n",
      "[I 23:24:21 InstallContribNbextensionsApp] Copying: c:\\users\\gurgen\\anaconda3\\lib\\site-packages\\jupyter_contrib_nbextensions\\nbextensions\\notify\\notification.png -> C:\\ProgramData\\jupyter\\nbextensions\\notify\\notification.png\n",
      "[W 23:24:21 InstallContribNbextensionsApp] Out of date: C:\\ProgramData\\jupyter\\nbextensions\\notify\\notify.js\n",
      "[I 23:24:21 InstallContribNbextensionsApp] Copying: c:\\users\\gurgen\\anaconda3\\lib\\site-packages\\jupyter_contrib_nbextensions\\nbextensions\\notify\\notify.js -> C:\\ProgramData\\jupyter\\nbextensions\\notify\\notify.js\n",
      "[W 23:24:21 InstallContribNbextensionsApp] Out of date: C:\\ProgramData\\jupyter\\nbextensions\\notify\\notify.mp3\n",
      "[I 23:24:21 InstallContribNbextensionsApp] Copying: c:\\users\\gurgen\\anaconda3\\lib\\site-packages\\jupyter_contrib_nbextensions\\nbextensions\\notify\\notify.mp3 -> C:\\ProgramData\\jupyter\\nbextensions\\notify\\notify.mp3\n",
      "[W 23:24:21 InstallContribNbextensionsApp] Out of date: C:\\ProgramData\\jupyter\\nbextensions\\notify\\notify.yaml\n",
      "[I 23:24:21 InstallContribNbextensionsApp] Copying: c:\\users\\gurgen\\anaconda3\\lib\\site-packages\\jupyter_contrib_nbextensions\\nbextensions\\notify\\notify.yaml -> C:\\ProgramData\\jupyter\\nbextensions\\notify\\notify.yaml\n",
      "[W 23:24:21 InstallContribNbextensionsApp] Out of date: C:\\ProgramData\\jupyter\\nbextensions\\notify\\readme.md\n",
      "[I 23:24:21 InstallContribNbextensionsApp] Copying: c:\\users\\gurgen\\anaconda3\\lib\\site-packages\\jupyter_contrib_nbextensions\\nbextensions\\notify\\readme.md -> C:\\ProgramData\\jupyter\\nbextensions\\notify\\readme.md\n",
      "[I 23:24:21 InstallContribNbextensionsApp] - Validating: ok\n",
      "[I 23:24:21 InstallContribNbextensionsApp] Installing c:\\users\\gurgen\\anaconda3\\lib\\site-packages\\jupyter_contrib_nbextensions\\nbextensions\\printview -> printview\n",
      "[W 23:24:21 InstallContribNbextensionsApp] Out of date: C:\\ProgramData\\jupyter\\nbextensions\\printview\\icon.png\n",
      "[I 23:24:21 InstallContribNbextensionsApp] Copying: c:\\users\\gurgen\\anaconda3\\lib\\site-packages\\jupyter_contrib_nbextensions\\nbextensions\\printview\\icon.png -> C:\\ProgramData\\jupyter\\nbextensions\\printview\\icon.png\n",
      "[W 23:24:21 InstallContribNbextensionsApp] Out of date: C:\\ProgramData\\jupyter\\nbextensions\\printview\\main.js\n",
      "[I 23:24:21 InstallContribNbextensionsApp] Copying: c:\\users\\gurgen\\anaconda3\\lib\\site-packages\\jupyter_contrib_nbextensions\\nbextensions\\printview\\main.js -> C:\\ProgramData\\jupyter\\nbextensions\\printview\\main.js\n",
      "[W 23:24:21 InstallContribNbextensionsApp] Out of date: C:\\ProgramData\\jupyter\\nbextensions\\printview\\printview-button.png\n",
      "[I 23:24:21 InstallContribNbextensionsApp] Copying: c:\\users\\gurgen\\anaconda3\\lib\\site-packages\\jupyter_contrib_nbextensions\\nbextensions\\printview\\printview-button.png -> C:\\ProgramData\\jupyter\\nbextensions\\printview\\printview-button.png\n",
      "[W 23:24:21 InstallContribNbextensionsApp] Out of date: C:\\ProgramData\\jupyter\\nbextensions\\printview\\printview.yaml\n",
      "[I 23:24:21 InstallContribNbextensionsApp] Copying: c:\\users\\gurgen\\anaconda3\\lib\\site-packages\\jupyter_contrib_nbextensions\\nbextensions\\printview\\printview.yaml -> C:\\ProgramData\\jupyter\\nbextensions\\printview\\printview.yaml\n",
      "[W 23:24:21 InstallContribNbextensionsApp] Out of date: C:\\ProgramData\\jupyter\\nbextensions\\printview\\readme.md\n",
      "[I 23:24:21 InstallContribNbextensionsApp] Copying: c:\\users\\gurgen\\anaconda3\\lib\\site-packages\\jupyter_contrib_nbextensions\\nbextensions\\printview\\readme.md -> C:\\ProgramData\\jupyter\\nbextensions\\printview\\readme.md\n",
      "[I 23:24:21 InstallContribNbextensionsApp] - Validating: ok\n",
      "[I 23:24:21 InstallContribNbextensionsApp] Installing c:\\users\\gurgen\\anaconda3\\lib\\site-packages\\jupyter_contrib_nbextensions\\nbextensions\\python-markdown -> python-markdown\n",
      "[W 23:24:21 InstallContribNbextensionsApp] Out of date: C:\\ProgramData\\jupyter\\nbextensions\\python-markdown\\main.css\n",
      "[I 23:24:21 InstallContribNbextensionsApp] Copying: c:\\users\\gurgen\\anaconda3\\lib\\site-packages\\jupyter_contrib_nbextensions\\nbextensions\\python-markdown\\main.css -> C:\\ProgramData\\jupyter\\nbextensions\\python-markdown\\main.css\n",
      "[W 23:24:21 InstallContribNbextensionsApp] Out of date: C:\\ProgramData\\jupyter\\nbextensions\\python-markdown\\main.js\n",
      "[I 23:24:21 InstallContribNbextensionsApp] Copying: c:\\users\\gurgen\\anaconda3\\lib\\site-packages\\jupyter_contrib_nbextensions\\nbextensions\\python-markdown\\main.js -> C:\\ProgramData\\jupyter\\nbextensions\\python-markdown\\main.js\n",
      "[W 23:24:21 InstallContribNbextensionsApp] Out of date: C:\\ProgramData\\jupyter\\nbextensions\\python-markdown\\python-markdown-post.png\n",
      "[I 23:24:21 InstallContribNbextensionsApp] Copying: c:\\users\\gurgen\\anaconda3\\lib\\site-packages\\jupyter_contrib_nbextensions\\nbextensions\\python-markdown\\python-markdown-post.png -> C:\\ProgramData\\jupyter\\nbextensions\\python-markdown\\python-markdown-post.png\n",
      "[W 23:24:21 InstallContribNbextensionsApp] Out of date: C:\\ProgramData\\jupyter\\nbextensions\\python-markdown\\python-markdown-pre.png\n",
      "[I 23:24:21 InstallContribNbextensionsApp] Copying: c:\\users\\gurgen\\anaconda3\\lib\\site-packages\\jupyter_contrib_nbextensions\\nbextensions\\python-markdown\\python-markdown-pre.png -> C:\\ProgramData\\jupyter\\nbextensions\\python-markdown\\python-markdown-pre.png\n",
      "[W 23:24:21 InstallContribNbextensionsApp] Out of date: C:\\ProgramData\\jupyter\\nbextensions\\python-markdown\\python-markdown.png\n",
      "[I 23:24:21 InstallContribNbextensionsApp] Copying: c:\\users\\gurgen\\anaconda3\\lib\\site-packages\\jupyter_contrib_nbextensions\\nbextensions\\python-markdown\\python-markdown.png -> C:\\ProgramData\\jupyter\\nbextensions\\python-markdown\\python-markdown.png\n",
      "[W 23:24:21 InstallContribNbextensionsApp] Out of date: C:\\ProgramData\\jupyter\\nbextensions\\python-markdown\\python-markdown.yaml\n",
      "[I 23:24:21 InstallContribNbextensionsApp] Copying: c:\\users\\gurgen\\anaconda3\\lib\\site-packages\\jupyter_contrib_nbextensions\\nbextensions\\python-markdown\\python-markdown.yaml -> C:\\ProgramData\\jupyter\\nbextensions\\python-markdown\\python-markdown.yaml\n",
      "[W 23:24:21 InstallContribNbextensionsApp] Out of date: C:\\ProgramData\\jupyter\\nbextensions\\python-markdown\\readme.md\n",
      "[I 23:24:21 InstallContribNbextensionsApp] Copying: c:\\users\\gurgen\\anaconda3\\lib\\site-packages\\jupyter_contrib_nbextensions\\nbextensions\\python-markdown\\readme.md -> C:\\ProgramData\\jupyter\\nbextensions\\python-markdown\\readme.md\n",
      "[W 23:24:21 InstallContribNbextensionsApp] Out of date: C:\\ProgramData\\jupyter\\nbextensions\\python-markdown\\trusted.png\n",
      "[I 23:24:21 InstallContribNbextensionsApp] Copying: c:\\users\\gurgen\\anaconda3\\lib\\site-packages\\jupyter_contrib_nbextensions\\nbextensions\\python-markdown\\trusted.png -> C:\\ProgramData\\jupyter\\nbextensions\\python-markdown\\trusted.png\n",
      "[W 23:24:21 InstallContribNbextensionsApp] Out of date: C:\\ProgramData\\jupyter\\nbextensions\\python-markdown\\untrusted.png\n",
      "[I 23:24:21 InstallContribNbextensionsApp] Copying: c:\\users\\gurgen\\anaconda3\\lib\\site-packages\\jupyter_contrib_nbextensions\\nbextensions\\python-markdown\\untrusted.png -> C:\\ProgramData\\jupyter\\nbextensions\\python-markdown\\untrusted.png\n",
      "[I 23:24:21 InstallContribNbextensionsApp] - Validating: ok\n",
      "[I 23:24:21 InstallContribNbextensionsApp] Installing c:\\users\\gurgen\\anaconda3\\lib\\site-packages\\jupyter_contrib_nbextensions\\nbextensions\\qtconsole -> qtconsole\n",
      "[W 23:24:21 InstallContribNbextensionsApp] Out of date: C:\\ProgramData\\jupyter\\nbextensions\\qtconsole\\qtconsole.js\n",
      "[I 23:24:21 InstallContribNbextensionsApp] Copying: c:\\users\\gurgen\\anaconda3\\lib\\site-packages\\jupyter_contrib_nbextensions\\nbextensions\\qtconsole\\qtconsole.js -> C:\\ProgramData\\jupyter\\nbextensions\\qtconsole\\qtconsole.js\n",
      "[W 23:24:21 InstallContribNbextensionsApp] Out of date: C:\\ProgramData\\jupyter\\nbextensions\\qtconsole\\qtconsole.yaml\n",
      "[I 23:24:21 InstallContribNbextensionsApp] Copying: c:\\users\\gurgen\\anaconda3\\lib\\site-packages\\jupyter_contrib_nbextensions\\nbextensions\\qtconsole\\qtconsole.yaml -> C:\\ProgramData\\jupyter\\nbextensions\\qtconsole\\qtconsole.yaml\n",
      "[W 23:24:21 InstallContribNbextensionsApp] Out of date: C:\\ProgramData\\jupyter\\nbextensions\\qtconsole\\README.md\n",
      "[I 23:24:21 InstallContribNbextensionsApp] Copying: c:\\users\\gurgen\\anaconda3\\lib\\site-packages\\jupyter_contrib_nbextensions\\nbextensions\\qtconsole\\README.md -> C:\\ProgramData\\jupyter\\nbextensions\\qtconsole\\README.md\n",
      "[I 23:24:21 InstallContribNbextensionsApp] - Validating: ok\n",
      "[I 23:24:21 InstallContribNbextensionsApp] Installing c:\\users\\gurgen\\anaconda3\\lib\\site-packages\\jupyter_contrib_nbextensions\\nbextensions\\rubberband -> rubberband\n",
      "[W 23:24:21 InstallContribNbextensionsApp] Out of date: C:\\ProgramData\\jupyter\\nbextensions\\rubberband\\icon.png\n",
      "[I 23:24:21 InstallContribNbextensionsApp] Copying: c:\\users\\gurgen\\anaconda3\\lib\\site-packages\\jupyter_contrib_nbextensions\\nbextensions\\rubberband\\icon.png -> C:\\ProgramData\\jupyter\\nbextensions\\rubberband\\icon.png\n",
      "[W 23:24:21 InstallContribNbextensionsApp] Out of date: C:\\ProgramData\\jupyter\\nbextensions\\rubberband\\main.css\n",
      "[I 23:24:21 InstallContribNbextensionsApp] Copying: c:\\users\\gurgen\\anaconda3\\lib\\site-packages\\jupyter_contrib_nbextensions\\nbextensions\\rubberband\\main.css -> C:\\ProgramData\\jupyter\\nbextensions\\rubberband\\main.css\n",
      "[W 23:24:21 InstallContribNbextensionsApp] Out of date: C:\\ProgramData\\jupyter\\nbextensions\\rubberband\\main.js\n",
      "[I 23:24:21 InstallContribNbextensionsApp] Copying: c:\\users\\gurgen\\anaconda3\\lib\\site-packages\\jupyter_contrib_nbextensions\\nbextensions\\rubberband\\main.js -> C:\\ProgramData\\jupyter\\nbextensions\\rubberband\\main.js\n",
      "[W 23:24:21 InstallContribNbextensionsApp] Out of date: C:\\ProgramData\\jupyter\\nbextensions\\rubberband\\readme.md\n",
      "[I 23:24:21 InstallContribNbextensionsApp] Copying: c:\\users\\gurgen\\anaconda3\\lib\\site-packages\\jupyter_contrib_nbextensions\\nbextensions\\rubberband\\readme.md -> C:\\ProgramData\\jupyter\\nbextensions\\rubberband\\readme.md\n",
      "[W 23:24:21 InstallContribNbextensionsApp] Out of date: C:\\ProgramData\\jupyter\\nbextensions\\rubberband\\rubberband.yaml\n",
      "[I 23:24:21 InstallContribNbextensionsApp] Copying: c:\\users\\gurgen\\anaconda3\\lib\\site-packages\\jupyter_contrib_nbextensions\\nbextensions\\rubberband\\rubberband.yaml -> C:\\ProgramData\\jupyter\\nbextensions\\rubberband\\rubberband.yaml\n",
      "[I 23:24:21 InstallContribNbextensionsApp] - Validating: ok\n",
      "[I 23:24:21 InstallContribNbextensionsApp] Installing c:\\users\\gurgen\\anaconda3\\lib\\site-packages\\jupyter_contrib_nbextensions\\nbextensions\\ruler -> ruler\n",
      "[W 23:24:21 InstallContribNbextensionsApp] Out of date: C:\\ProgramData\\jupyter\\nbextensions\\ruler\\edit.js\n",
      "[I 23:24:21 InstallContribNbextensionsApp] Copying: c:\\users\\gurgen\\anaconda3\\lib\\site-packages\\jupyter_contrib_nbextensions\\nbextensions\\ruler\\edit.js -> C:\\ProgramData\\jupyter\\nbextensions\\ruler\\edit.js\n",
      "[W 23:24:21 InstallContribNbextensionsApp] Out of date: C:\\ProgramData\\jupyter\\nbextensions\\ruler\\icon.png\n",
      "[I 23:24:21 InstallContribNbextensionsApp] Copying: c:\\users\\gurgen\\anaconda3\\lib\\site-packages\\jupyter_contrib_nbextensions\\nbextensions\\ruler\\icon.png -> C:\\ProgramData\\jupyter\\nbextensions\\ruler\\icon.png\n",
      "[W 23:24:21 InstallContribNbextensionsApp] Out of date: C:\\ProgramData\\jupyter\\nbextensions\\ruler\\main.js\n",
      "[I 23:24:21 InstallContribNbextensionsApp] Copying: c:\\users\\gurgen\\anaconda3\\lib\\site-packages\\jupyter_contrib_nbextensions\\nbextensions\\ruler\\main.js -> C:\\ProgramData\\jupyter\\nbextensions\\ruler\\main.js\n",
      "[W 23:24:21 InstallContribNbextensionsApp] Out of date: C:\\ProgramData\\jupyter\\nbextensions\\ruler\\readme.md\n",
      "[I 23:24:21 InstallContribNbextensionsApp] Copying: c:\\users\\gurgen\\anaconda3\\lib\\site-packages\\jupyter_contrib_nbextensions\\nbextensions\\ruler\\readme.md -> C:\\ProgramData\\jupyter\\nbextensions\\ruler\\readme.md\n",
      "[W 23:24:21 InstallContribNbextensionsApp] Out of date: C:\\ProgramData\\jupyter\\nbextensions\\ruler\\ruler.yaml\n",
      "[I 23:24:21 InstallContribNbextensionsApp] Copying: c:\\users\\gurgen\\anaconda3\\lib\\site-packages\\jupyter_contrib_nbextensions\\nbextensions\\ruler\\ruler.yaml -> C:\\ProgramData\\jupyter\\nbextensions\\ruler\\ruler.yaml\n",
      "[W 23:24:21 InstallContribNbextensionsApp] Out of date: C:\\ProgramData\\jupyter\\nbextensions\\ruler\\ruler_editor.yaml\n",
      "[I 23:24:21 InstallContribNbextensionsApp] Copying: c:\\users\\gurgen\\anaconda3\\lib\\site-packages\\jupyter_contrib_nbextensions\\nbextensions\\ruler\\ruler_editor.yaml -> C:\\ProgramData\\jupyter\\nbextensions\\ruler\\ruler_editor.yaml\n",
      "[I 23:24:21 InstallContribNbextensionsApp] - Validating: ok\n",
      "[I 23:24:21 InstallContribNbextensionsApp] Installing c:\\users\\gurgen\\anaconda3\\lib\\site-packages\\jupyter_contrib_nbextensions\\nbextensions\\ruler -> ruler\n",
      "[I 23:24:21 InstallContribNbextensionsApp] Up to date: C:\\ProgramData\\jupyter\\nbextensions\\ruler\\edit.js\n",
      "[I 23:24:21 InstallContribNbextensionsApp] Up to date: C:\\ProgramData\\jupyter\\nbextensions\\ruler\\icon.png\n",
      "[I 23:24:21 InstallContribNbextensionsApp] Up to date: C:\\ProgramData\\jupyter\\nbextensions\\ruler\\main.js\n",
      "[I 23:24:21 InstallContribNbextensionsApp] Up to date: C:\\ProgramData\\jupyter\\nbextensions\\ruler\\readme.md\n",
      "[I 23:24:21 InstallContribNbextensionsApp] Up to date: C:\\ProgramData\\jupyter\\nbextensions\\ruler\\ruler.yaml\n",
      "[I 23:24:21 InstallContribNbextensionsApp] Up to date: C:\\ProgramData\\jupyter\\nbextensions\\ruler\\ruler_editor.yaml\n",
      "[I 23:24:21 InstallContribNbextensionsApp] - Validating: ok\n",
      "[I 23:24:21 InstallContribNbextensionsApp] Installing c:\\users\\gurgen\\anaconda3\\lib\\site-packages\\jupyter_contrib_nbextensions\\nbextensions\\runtools -> runtools\n",
      "[W 23:24:21 InstallContribNbextensionsApp] Out of date: C:\\ProgramData\\jupyter\\nbextensions\\runtools\\annotations.odg\n",
      "[I 23:24:21 InstallContribNbextensionsApp] Copying: c:\\users\\gurgen\\anaconda3\\lib\\site-packages\\jupyter_contrib_nbextensions\\nbextensions\\runtools\\annotations.odg -> C:\\ProgramData\\jupyter\\nbextensions\\runtools\\annotations.odg\n",
      "[W 23:24:21 InstallContribNbextensionsApp] Out of date: C:\\ProgramData\\jupyter\\nbextensions\\runtools\\cellstate.js\n",
      "[I 23:24:21 InstallContribNbextensionsApp] Copying: c:\\users\\gurgen\\anaconda3\\lib\\site-packages\\jupyter_contrib_nbextensions\\nbextensions\\runtools\\cellstate.js -> C:\\ProgramData\\jupyter\\nbextensions\\runtools\\cellstate.js\n",
      "[W 23:24:21 InstallContribNbextensionsApp] Out of date: C:\\ProgramData\\jupyter\\nbextensions\\runtools\\demo.gif\n",
      "[I 23:24:21 InstallContribNbextensionsApp] Copying: c:\\users\\gurgen\\anaconda3\\lib\\site-packages\\jupyter_contrib_nbextensions\\nbextensions\\runtools\\demo.gif -> C:\\ProgramData\\jupyter\\nbextensions\\runtools\\demo.gif\n",
      "[W 23:24:21 InstallContribNbextensionsApp] Out of date: C:\\ProgramData\\jupyter\\nbextensions\\runtools\\gutter.css\n",
      "[I 23:24:21 InstallContribNbextensionsApp] Copying: c:\\users\\gurgen\\anaconda3\\lib\\site-packages\\jupyter_contrib_nbextensions\\nbextensions\\runtools\\gutter.css -> C:\\ProgramData\\jupyter\\nbextensions\\runtools\\gutter.css\n",
      "[W 23:24:21 InstallContribNbextensionsApp] Out of date: C:\\ProgramData\\jupyter\\nbextensions\\runtools\\icon.png\n",
      "[I 23:24:21 InstallContribNbextensionsApp] Copying: c:\\users\\gurgen\\anaconda3\\lib\\site-packages\\jupyter_contrib_nbextensions\\nbextensions\\runtools\\icon.png -> C:\\ProgramData\\jupyter\\nbextensions\\runtools\\icon.png\n",
      "[W 23:24:21 InstallContribNbextensionsApp] Out of date: C:\\ProgramData\\jupyter\\nbextensions\\runtools\\main.css\n",
      "[I 23:24:21 InstallContribNbextensionsApp] Copying: c:\\users\\gurgen\\anaconda3\\lib\\site-packages\\jupyter_contrib_nbextensions\\nbextensions\\runtools\\main.css -> C:\\ProgramData\\jupyter\\nbextensions\\runtools\\main.css\n",
      "[W 23:24:21 InstallContribNbextensionsApp] Out of date: C:\\ProgramData\\jupyter\\nbextensions\\runtools\\main.js\n",
      "[I 23:24:21 InstallContribNbextensionsApp] Copying: c:\\users\\gurgen\\anaconda3\\lib\\site-packages\\jupyter_contrib_nbextensions\\nbextensions\\runtools\\main.js -> C:\\ProgramData\\jupyter\\nbextensions\\runtools\\main.js\n",
      "[W 23:24:21 InstallContribNbextensionsApp] Out of date: C:\\ProgramData\\jupyter\\nbextensions\\runtools\\readme.md\n",
      "[I 23:24:21 InstallContribNbextensionsApp] Copying: c:\\users\\gurgen\\anaconda3\\lib\\site-packages\\jupyter_contrib_nbextensions\\nbextensions\\runtools\\readme.md -> C:\\ProgramData\\jupyter\\nbextensions\\runtools\\readme.md\n",
      "[W 23:24:21 InstallContribNbextensionsApp] Out of date: C:\\ProgramData\\jupyter\\nbextensions\\runtools\\runtools.yaml\n",
      "[I 23:24:21 InstallContribNbextensionsApp] Copying: c:\\users\\gurgen\\anaconda3\\lib\\site-packages\\jupyter_contrib_nbextensions\\nbextensions\\runtools\\runtools.yaml -> C:\\ProgramData\\jupyter\\nbextensions\\runtools\\runtools.yaml\n",
      "[W 23:24:21 InstallContribNbextensionsApp] Out of date: C:\\ProgramData\\jupyter\\nbextensions\\runtools\\runtools_execute.png\n",
      "[I 23:24:21 InstallContribNbextensionsApp] Copying: c:\\users\\gurgen\\anaconda3\\lib\\site-packages\\jupyter_contrib_nbextensions\\nbextensions\\runtools\\runtools_execute.png -> C:\\ProgramData\\jupyter\\nbextensions\\runtools\\runtools_execute.png\n",
      "[W 23:24:21 InstallContribNbextensionsApp] Out of date: C:\\ProgramData\\jupyter\\nbextensions\\runtools\\runtools_lock.png\n",
      "[I 23:24:21 InstallContribNbextensionsApp] Copying: c:\\users\\gurgen\\anaconda3\\lib\\site-packages\\jupyter_contrib_nbextensions\\nbextensions\\runtools\\runtools_lock.png -> C:\\ProgramData\\jupyter\\nbextensions\\runtools\\runtools_lock.png\n",
      "[W 23:24:21 InstallContribNbextensionsApp] Out of date: C:\\ProgramData\\jupyter\\nbextensions\\runtools\\runtools_marker.png\n",
      "[I 23:24:21 InstallContribNbextensionsApp] Copying: c:\\users\\gurgen\\anaconda3\\lib\\site-packages\\jupyter_contrib_nbextensions\\nbextensions\\runtools\\runtools_marker.png -> C:\\ProgramData\\jupyter\\nbextensions\\runtools\\runtools_marker.png\n",
      "[W 23:24:21 InstallContribNbextensionsApp] Out of date: C:\\ProgramData\\jupyter\\nbextensions\\runtools\\runtools_nb.png\n",
      "[I 23:24:21 InstallContribNbextensionsApp] Copying: c:\\users\\gurgen\\anaconda3\\lib\\site-packages\\jupyter_contrib_nbextensions\\nbextensions\\runtools\\runtools_nb.png -> C:\\ProgramData\\jupyter\\nbextensions\\runtools\\runtools_nb.png\n",
      "[W 23:24:21 InstallContribNbextensionsApp] Out of date: C:\\ProgramData\\jupyter\\nbextensions\\runtools\\runtools_show_hide.png\n",
      "[I 23:24:21 InstallContribNbextensionsApp] Copying: c:\\users\\gurgen\\anaconda3\\lib\\site-packages\\jupyter_contrib_nbextensions\\nbextensions\\runtools\\runtools_show_hide.png -> C:\\ProgramData\\jupyter\\nbextensions\\runtools\\runtools_show_hide.png\n",
      "[I 23:24:21 InstallContribNbextensionsApp] - Validating: ok\n",
      "[I 23:24:21 InstallContribNbextensionsApp] Installing c:\\users\\gurgen\\anaconda3\\lib\\site-packages\\jupyter_contrib_nbextensions\\nbextensions\\scratchpad -> scratchpad\n",
      "[W 23:24:21 InstallContribNbextensionsApp] Out of date: C:\\ProgramData\\jupyter\\nbextensions\\scratchpad\\demo.gif\n",
      "[I 23:24:21 InstallContribNbextensionsApp] Copying: c:\\users\\gurgen\\anaconda3\\lib\\site-packages\\jupyter_contrib_nbextensions\\nbextensions\\scratchpad\\demo.gif -> C:\\ProgramData\\jupyter\\nbextensions\\scratchpad\\demo.gif\n",
      "[W 23:24:21 InstallContribNbextensionsApp] Out of date: C:\\ProgramData\\jupyter\\nbextensions\\scratchpad\\LICENSE\n",
      "[I 23:24:21 InstallContribNbextensionsApp] Copying: c:\\users\\gurgen\\anaconda3\\lib\\site-packages\\jupyter_contrib_nbextensions\\nbextensions\\scratchpad\\LICENSE -> C:\\ProgramData\\jupyter\\nbextensions\\scratchpad\\LICENSE\n",
      "[W 23:24:21 InstallContribNbextensionsApp] Out of date: C:\\ProgramData\\jupyter\\nbextensions\\scratchpad\\main.js\n",
      "[I 23:24:21 InstallContribNbextensionsApp] Copying: c:\\users\\gurgen\\anaconda3\\lib\\site-packages\\jupyter_contrib_nbextensions\\nbextensions\\scratchpad\\main.js -> C:\\ProgramData\\jupyter\\nbextensions\\scratchpad\\main.js\n",
      "[W 23:24:21 InstallContribNbextensionsApp] Out of date: C:\\ProgramData\\jupyter\\nbextensions\\scratchpad\\README.md\n",
      "[I 23:24:21 InstallContribNbextensionsApp] Copying: c:\\users\\gurgen\\anaconda3\\lib\\site-packages\\jupyter_contrib_nbextensions\\nbextensions\\scratchpad\\README.md -> C:\\ProgramData\\jupyter\\nbextensions\\scratchpad\\README.md\n",
      "[W 23:24:21 InstallContribNbextensionsApp] Out of date: C:\\ProgramData\\jupyter\\nbextensions\\scratchpad\\scratchpad.css\n",
      "[I 23:24:21 InstallContribNbextensionsApp] Copying: c:\\users\\gurgen\\anaconda3\\lib\\site-packages\\jupyter_contrib_nbextensions\\nbextensions\\scratchpad\\scratchpad.css -> C:\\ProgramData\\jupyter\\nbextensions\\scratchpad\\scratchpad.css\n",
      "[W 23:24:21 InstallContribNbextensionsApp] Out of date: C:\\ProgramData\\jupyter\\nbextensions\\scratchpad\\scratchpad.yaml\n",
      "[I 23:24:21 InstallContribNbextensionsApp] Copying: c:\\users\\gurgen\\anaconda3\\lib\\site-packages\\jupyter_contrib_nbextensions\\nbextensions\\scratchpad\\scratchpad.yaml -> C:\\ProgramData\\jupyter\\nbextensions\\scratchpad\\scratchpad.yaml\n",
      "[I 23:24:21 InstallContribNbextensionsApp] - Validating: ok\n",
      "[I 23:24:21 InstallContribNbextensionsApp] Installing c:\\users\\gurgen\\anaconda3\\lib\\site-packages\\jupyter_contrib_nbextensions\\nbextensions\\scroll_down -> scroll_down\n",
      "[W 23:24:21 InstallContribNbextensionsApp] Out of date: C:\\ProgramData\\jupyter\\nbextensions\\scroll_down\\config.yaml\n",
      "[I 23:24:21 InstallContribNbextensionsApp] Copying: c:\\users\\gurgen\\anaconda3\\lib\\site-packages\\jupyter_contrib_nbextensions\\nbextensions\\scroll_down\\config.yaml -> C:\\ProgramData\\jupyter\\nbextensions\\scroll_down\\config.yaml\n",
      "[W 23:24:21 InstallContribNbextensionsApp] Out of date: C:\\ProgramData\\jupyter\\nbextensions\\scroll_down\\icon.png\n",
      "[I 23:24:21 InstallContribNbextensionsApp] Copying: c:\\users\\gurgen\\anaconda3\\lib\\site-packages\\jupyter_contrib_nbextensions\\nbextensions\\scroll_down\\icon.png -> C:\\ProgramData\\jupyter\\nbextensions\\scroll_down\\icon.png\n",
      "[W 23:24:21 InstallContribNbextensionsApp] Out of date: C:\\ProgramData\\jupyter\\nbextensions\\scroll_down\\main.js\n",
      "[I 23:24:21 InstallContribNbextensionsApp] Copying: c:\\users\\gurgen\\anaconda3\\lib\\site-packages\\jupyter_contrib_nbextensions\\nbextensions\\scroll_down\\main.js -> C:\\ProgramData\\jupyter\\nbextensions\\scroll_down\\main.js\n",
      "[W 23:24:21 InstallContribNbextensionsApp] Out of date: C:\\ProgramData\\jupyter\\nbextensions\\scroll_down\\readme.md\n",
      "[I 23:24:21 InstallContribNbextensionsApp] Copying: c:\\users\\gurgen\\anaconda3\\lib\\site-packages\\jupyter_contrib_nbextensions\\nbextensions\\scroll_down\\readme.md -> C:\\ProgramData\\jupyter\\nbextensions\\scroll_down\\readme.md\n",
      "[I 23:24:21 InstallContribNbextensionsApp] - Validating: ok\n",
      "[I 23:24:21 InstallContribNbextensionsApp] Installing c:\\users\\gurgen\\anaconda3\\lib\\site-packages\\jupyter_contrib_nbextensions\\nbextensions\\select_keymap -> select_keymap\n",
      "[W 23:24:21 InstallContribNbextensionsApp] Out of date: C:\\ProgramData\\jupyter\\nbextensions\\select_keymap\\main.js\n",
      "[I 23:24:21 InstallContribNbextensionsApp] Copying: c:\\users\\gurgen\\anaconda3\\lib\\site-packages\\jupyter_contrib_nbextensions\\nbextensions\\select_keymap\\main.js -> C:\\ProgramData\\jupyter\\nbextensions\\select_keymap\\main.js\n",
      "[W 23:24:21 InstallContribNbextensionsApp] Out of date: C:\\ProgramData\\jupyter\\nbextensions\\select_keymap\\README.md\n",
      "[I 23:24:21 InstallContribNbextensionsApp] Copying: c:\\users\\gurgen\\anaconda3\\lib\\site-packages\\jupyter_contrib_nbextensions\\nbextensions\\select_keymap\\README.md -> C:\\ProgramData\\jupyter\\nbextensions\\select_keymap\\README.md\n",
      "[W 23:24:21 InstallContribNbextensionsApp] Out of date: C:\\ProgramData\\jupyter\\nbextensions\\select_keymap\\select_keymap.png\n",
      "[I 23:24:21 InstallContribNbextensionsApp] Copying: c:\\users\\gurgen\\anaconda3\\lib\\site-packages\\jupyter_contrib_nbextensions\\nbextensions\\select_keymap\\select_keymap.png -> C:\\ProgramData\\jupyter\\nbextensions\\select_keymap\\select_keymap.png\n",
      "[W 23:24:21 InstallContribNbextensionsApp] Out of date: C:\\ProgramData\\jupyter\\nbextensions\\select_keymap\\select_keymap.yaml\n",
      "[I 23:24:21 InstallContribNbextensionsApp] Copying: c:\\users\\gurgen\\anaconda3\\lib\\site-packages\\jupyter_contrib_nbextensions\\nbextensions\\select_keymap\\select_keymap.yaml -> C:\\ProgramData\\jupyter\\nbextensions\\select_keymap\\select_keymap.yaml\n",
      "[I 23:24:21 InstallContribNbextensionsApp] - Validating: ok\n",
      "[I 23:24:21 InstallContribNbextensionsApp] Installing c:\\users\\gurgen\\anaconda3\\lib\\site-packages\\jupyter_contrib_nbextensions\\nbextensions\\skill -> skill\n",
      "[W 23:24:21 InstallContribNbextensionsApp] Out of date: C:\\ProgramData\\jupyter\\nbextensions\\skill\\main.js\n",
      "[I 23:24:21 InstallContribNbextensionsApp] Copying: c:\\users\\gurgen\\anaconda3\\lib\\site-packages\\jupyter_contrib_nbextensions\\nbextensions\\skill\\main.js -> C:\\ProgramData\\jupyter\\nbextensions\\skill\\main.js\n",
      "[W 23:24:21 InstallContribNbextensionsApp] Out of date: C:\\ProgramData\\jupyter\\nbextensions\\skill\\README.md\n",
      "[I 23:24:21 InstallContribNbextensionsApp] Copying: c:\\users\\gurgen\\anaconda3\\lib\\site-packages\\jupyter_contrib_nbextensions\\nbextensions\\skill\\README.md -> C:\\ProgramData\\jupyter\\nbextensions\\skill\\README.md\n",
      "[W 23:24:21 InstallContribNbextensionsApp] Out of date: C:\\ProgramData\\jupyter\\nbextensions\\skill\\skill.js\n",
      "[I 23:24:21 InstallContribNbextensionsApp] Copying: c:\\users\\gurgen\\anaconda3\\lib\\site-packages\\jupyter_contrib_nbextensions\\nbextensions\\skill\\skill.js -> C:\\ProgramData\\jupyter\\nbextensions\\skill\\skill.js\n",
      "[W 23:24:21 InstallContribNbextensionsApp] Out of date: C:\\ProgramData\\jupyter\\nbextensions\\skill\\skill.yaml\n",
      "[I 23:24:21 InstallContribNbextensionsApp] Copying: c:\\users\\gurgen\\anaconda3\\lib\\site-packages\\jupyter_contrib_nbextensions\\nbextensions\\skill\\skill.yaml -> C:\\ProgramData\\jupyter\\nbextensions\\skill\\skill.yaml\n",
      "[I 23:24:21 InstallContribNbextensionsApp] - Validating: ok\n",
      "[I 23:24:21 InstallContribNbextensionsApp] Installing c:\\users\\gurgen\\anaconda3\\lib\\site-packages\\jupyter_contrib_nbextensions\\nbextensions\\skip-traceback -> skip-traceback\n",
      "[W 23:24:21 InstallContribNbextensionsApp] Out of date: C:\\ProgramData\\jupyter\\nbextensions\\skip-traceback\\icon.png\n",
      "[I 23:24:21 InstallContribNbextensionsApp] Copying: c:\\users\\gurgen\\anaconda3\\lib\\site-packages\\jupyter_contrib_nbextensions\\nbextensions\\skip-traceback\\icon.png -> C:\\ProgramData\\jupyter\\nbextensions\\skip-traceback\\icon.png\n",
      "[W 23:24:21 InstallContribNbextensionsApp] Out of date: C:\\ProgramData\\jupyter\\nbextensions\\skip-traceback\\main.js\n",
      "[I 23:24:21 InstallContribNbextensionsApp] Copying: c:\\users\\gurgen\\anaconda3\\lib\\site-packages\\jupyter_contrib_nbextensions\\nbextensions\\skip-traceback\\main.js -> C:\\ProgramData\\jupyter\\nbextensions\\skip-traceback\\main.js\n",
      "[W 23:24:21 InstallContribNbextensionsApp] Out of date: C:\\ProgramData\\jupyter\\nbextensions\\skip-traceback\\readme.md\n",
      "[I 23:24:21 InstallContribNbextensionsApp] Copying: c:\\users\\gurgen\\anaconda3\\lib\\site-packages\\jupyter_contrib_nbextensions\\nbextensions\\skip-traceback\\readme.md -> C:\\ProgramData\\jupyter\\nbextensions\\skip-traceback\\readme.md\n",
      "[W 23:24:21 InstallContribNbextensionsApp] Out of date: C:\\ProgramData\\jupyter\\nbextensions\\skip-traceback\\skip-traceback.png\n",
      "[I 23:24:21 InstallContribNbextensionsApp] Copying: c:\\users\\gurgen\\anaconda3\\lib\\site-packages\\jupyter_contrib_nbextensions\\nbextensions\\skip-traceback\\skip-traceback.png -> C:\\ProgramData\\jupyter\\nbextensions\\skip-traceback\\skip-traceback.png\n",
      "[W 23:24:21 InstallContribNbextensionsApp] Out of date: C:\\ProgramData\\jupyter\\nbextensions\\skip-traceback\\skip-traceback.yaml\n",
      "[I 23:24:21 InstallContribNbextensionsApp] Copying: c:\\users\\gurgen\\anaconda3\\lib\\site-packages\\jupyter_contrib_nbextensions\\nbextensions\\skip-traceback\\skip-traceback.yaml -> C:\\ProgramData\\jupyter\\nbextensions\\skip-traceback\\skip-traceback.yaml\n",
      "[W 23:24:21 InstallContribNbextensionsApp] Out of date: C:\\ProgramData\\jupyter\\nbextensions\\skip-traceback\\traceback.png\n",
      "[I 23:24:21 InstallContribNbextensionsApp] Copying: c:\\users\\gurgen\\anaconda3\\lib\\site-packages\\jupyter_contrib_nbextensions\\nbextensions\\skip-traceback\\traceback.png -> C:\\ProgramData\\jupyter\\nbextensions\\skip-traceback\\traceback.png\n",
      "[I 23:24:21 InstallContribNbextensionsApp] - Validating: ok\n",
      "[I 23:24:21 InstallContribNbextensionsApp] Installing c:\\users\\gurgen\\anaconda3\\lib\\site-packages\\jupyter_contrib_nbextensions\\nbextensions\\snippets -> snippets\n",
      "[W 23:24:21 InstallContribNbextensionsApp] Out of date: C:\\ProgramData\\jupyter\\nbextensions\\snippets\\main.js\n",
      "[I 23:24:21 InstallContribNbextensionsApp] Copying: c:\\users\\gurgen\\anaconda3\\lib\\site-packages\\jupyter_contrib_nbextensions\\nbextensions\\snippets\\main.js -> C:\\ProgramData\\jupyter\\nbextensions\\snippets\\main.js\n",
      "[W 23:24:21 InstallContribNbextensionsApp] Out of date: C:\\ProgramData\\jupyter\\nbextensions\\snippets\\README.md\n",
      "[I 23:24:21 InstallContribNbextensionsApp] Copying: c:\\users\\gurgen\\anaconda3\\lib\\site-packages\\jupyter_contrib_nbextensions\\nbextensions\\snippets\\README.md -> C:\\ProgramData\\jupyter\\nbextensions\\snippets\\README.md\n",
      "[W 23:24:21 InstallContribNbextensionsApp] Out of date: C:\\ProgramData\\jupyter\\nbextensions\\snippets\\snippets-demo.gif\n",
      "[I 23:24:21 InstallContribNbextensionsApp] Copying: c:\\users\\gurgen\\anaconda3\\lib\\site-packages\\jupyter_contrib_nbextensions\\nbextensions\\snippets\\snippets-demo.gif -> C:\\ProgramData\\jupyter\\nbextensions\\snippets\\snippets-demo.gif\n",
      "[W 23:24:21 InstallContribNbextensionsApp] Out of date: C:\\ProgramData\\jupyter\\nbextensions\\snippets\\snippets.json\n",
      "[I 23:24:21 InstallContribNbextensionsApp] Copying: c:\\users\\gurgen\\anaconda3\\lib\\site-packages\\jupyter_contrib_nbextensions\\nbextensions\\snippets\\snippets.json -> C:\\ProgramData\\jupyter\\nbextensions\\snippets\\snippets.json\n",
      "[W 23:24:21 InstallContribNbextensionsApp] Out of date: C:\\ProgramData\\jupyter\\nbextensions\\snippets\\snippets.yaml\n",
      "[I 23:24:21 InstallContribNbextensionsApp] Copying: c:\\users\\gurgen\\anaconda3\\lib\\site-packages\\jupyter_contrib_nbextensions\\nbextensions\\snippets\\snippets.yaml -> C:\\ProgramData\\jupyter\\nbextensions\\snippets\\snippets.yaml\n",
      "[I 23:24:21 InstallContribNbextensionsApp] - Validating: ok\n",
      "[I 23:24:21 InstallContribNbextensionsApp] Installing c:\\users\\gurgen\\anaconda3\\lib\\site-packages\\jupyter_contrib_nbextensions\\nbextensions\\snippets_menu -> snippets_menu\n",
      "[W 23:24:21 InstallContribNbextensionsApp] Out of date: C:\\ProgramData\\jupyter\\nbextensions\\snippets_menu\\config.yaml\n",
      "[I 23:24:21 InstallContribNbextensionsApp] Copying: c:\\users\\gurgen\\anaconda3\\lib\\site-packages\\jupyter_contrib_nbextensions\\nbextensions\\snippets_menu\\config.yaml -> C:\\ProgramData\\jupyter\\nbextensions\\snippets_menu\\config.yaml\n",
      "[W 23:24:21 InstallContribNbextensionsApp] Out of date: C:\\ProgramData\\jupyter\\nbextensions\\snippets_menu\\examples_for_custom.js\n",
      "[I 23:24:21 InstallContribNbextensionsApp] Copying: c:\\users\\gurgen\\anaconda3\\lib\\site-packages\\jupyter_contrib_nbextensions\\nbextensions\\snippets_menu\\examples_for_custom.js -> C:\\ProgramData\\jupyter\\nbextensions\\snippets_menu\\examples_for_custom.js\n",
      "[W 23:24:21 InstallContribNbextensionsApp] Out of date: C:\\ProgramData\\jupyter\\nbextensions\\snippets_menu\\main.js\n",
      "[I 23:24:21 InstallContribNbextensionsApp] Copying: c:\\users\\gurgen\\anaconda3\\lib\\site-packages\\jupyter_contrib_nbextensions\\nbextensions\\snippets_menu\\main.js -> C:\\ProgramData\\jupyter\\nbextensions\\snippets_menu\\main.js\n",
      "[W 23:24:21 InstallContribNbextensionsApp] Out of date: C:\\ProgramData\\jupyter\\nbextensions\\snippets_menu\\readme.md\n",
      "[I 23:24:21 InstallContribNbextensionsApp] Copying: c:\\users\\gurgen\\anaconda3\\lib\\site-packages\\jupyter_contrib_nbextensions\\nbextensions\\snippets_menu\\readme.md -> C:\\ProgramData\\jupyter\\nbextensions\\snippets_menu\\readme.md\n",
      "[W 23:24:21 InstallContribNbextensionsApp] Out of date: C:\\ProgramData\\jupyter\\nbextensions\\snippets_menu\\screenshot1.png\n",
      "[I 23:24:21 InstallContribNbextensionsApp] Copying: c:\\users\\gurgen\\anaconda3\\lib\\site-packages\\jupyter_contrib_nbextensions\\nbextensions\\snippets_menu\\screenshot1.png -> C:\\ProgramData\\jupyter\\nbextensions\\snippets_menu\\screenshot1.png\n",
      "[W 23:24:21 InstallContribNbextensionsApp] Out of date: C:\\ProgramData\\jupyter\\nbextensions\\snippets_menu\\screenshot2.png\n",
      "[I 23:24:21 InstallContribNbextensionsApp] Copying: c:\\users\\gurgen\\anaconda3\\lib\\site-packages\\jupyter_contrib_nbextensions\\nbextensions\\snippets_menu\\screenshot2.png -> C:\\ProgramData\\jupyter\\nbextensions\\snippets_menu\\screenshot2.png\n",
      "[W 23:24:21 InstallContribNbextensionsApp] Out of date: C:\\ProgramData\\jupyter\\nbextensions\\snippets_menu\\screenshot3.png\n",
      "[I 23:24:21 InstallContribNbextensionsApp] Copying: c:\\users\\gurgen\\anaconda3\\lib\\site-packages\\jupyter_contrib_nbextensions\\nbextensions\\snippets_menu\\screenshot3.png -> C:\\ProgramData\\jupyter\\nbextensions\\snippets_menu\\screenshot3.png\n",
      "[W 23:24:21 InstallContribNbextensionsApp] Out of date: C:\\ProgramData\\jupyter\\nbextensions\\snippets_menu\\snippets_menu.css\n",
      "[I 23:24:21 InstallContribNbextensionsApp] Copying: c:\\users\\gurgen\\anaconda3\\lib\\site-packages\\jupyter_contrib_nbextensions\\nbextensions\\snippets_menu\\snippets_menu.css -> C:\\ProgramData\\jupyter\\nbextensions\\snippets_menu\\snippets_menu.css\n",
      "[W 23:24:21 InstallContribNbextensionsApp] Out of date: C:\\ProgramData\\jupyter\\nbextensions\\snippets_menu\\snippets_submenu_markdown.js\n",
      "[I 23:24:21 InstallContribNbextensionsApp] Copying: c:\\users\\gurgen\\anaconda3\\lib\\site-packages\\jupyter_contrib_nbextensions\\nbextensions\\snippets_menu\\snippets_submenu_markdown.js -> C:\\ProgramData\\jupyter\\nbextensions\\snippets_menu\\snippets_submenu_markdown.js\n",
      "[W 23:24:21 InstallContribNbextensionsApp] Out of date: C:\\ProgramData\\jupyter\\nbextensions\\snippets_menu\\snippets_submenu_python.js\n",
      "[I 23:24:21 InstallContribNbextensionsApp] Copying: c:\\users\\gurgen\\anaconda3\\lib\\site-packages\\jupyter_contrib_nbextensions\\nbextensions\\snippets_menu\\snippets_submenu_python.js -> C:\\ProgramData\\jupyter\\nbextensions\\snippets_menu\\snippets_submenu_python.js\n",
      "[W 23:24:21 InstallContribNbextensionsApp] Out of date: C:\\ProgramData\\jupyter\\nbextensions\\snippets_menu\\thumbnail.png\n",
      "[I 23:24:21 InstallContribNbextensionsApp] Copying: c:\\users\\gurgen\\anaconda3\\lib\\site-packages\\jupyter_contrib_nbextensions\\nbextensions\\snippets_menu\\thumbnail.png -> C:\\ProgramData\\jupyter\\nbextensions\\snippets_menu\\thumbnail.png\n",
      "[W 23:24:21 InstallContribNbextensionsApp] Out of date: C:\\ProgramData\\jupyter\\nbextensions\\snippets_menu\\snippets_submenus_python\\astropy.js\n",
      "[I 23:24:21 InstallContribNbextensionsApp] Copying: c:\\users\\gurgen\\anaconda3\\lib\\site-packages\\jupyter_contrib_nbextensions\\nbextensions\\snippets_menu\\snippets_submenus_python\\astropy.js -> C:\\ProgramData\\jupyter\\nbextensions\\snippets_menu\\snippets_submenus_python\\astropy.js\n",
      "[W 23:24:21 InstallContribNbextensionsApp] Out of date: C:\\ProgramData\\jupyter\\nbextensions\\snippets_menu\\snippets_submenus_python\\h5py.js\n",
      "[I 23:24:21 InstallContribNbextensionsApp] Copying: c:\\users\\gurgen\\anaconda3\\lib\\site-packages\\jupyter_contrib_nbextensions\\nbextensions\\snippets_menu\\snippets_submenus_python\\h5py.js -> C:\\ProgramData\\jupyter\\nbextensions\\snippets_menu\\snippets_submenus_python\\h5py.js\n",
      "[W 23:24:21 InstallContribNbextensionsApp] Out of date: C:\\ProgramData\\jupyter\\nbextensions\\snippets_menu\\snippets_submenus_python\\matplotlib.js\n",
      "[I 23:24:21 InstallContribNbextensionsApp] Copying: c:\\users\\gurgen\\anaconda3\\lib\\site-packages\\jupyter_contrib_nbextensions\\nbextensions\\snippets_menu\\snippets_submenus_python\\matplotlib.js -> C:\\ProgramData\\jupyter\\nbextensions\\snippets_menu\\snippets_submenus_python\\matplotlib.js\n",
      "[W 23:24:21 InstallContribNbextensionsApp] Out of date: C:\\ProgramData\\jupyter\\nbextensions\\snippets_menu\\snippets_submenus_python\\numba.js\n",
      "[I 23:24:21 InstallContribNbextensionsApp] Copying: c:\\users\\gurgen\\anaconda3\\lib\\site-packages\\jupyter_contrib_nbextensions\\nbextensions\\snippets_menu\\snippets_submenus_python\\numba.js -> C:\\ProgramData\\jupyter\\nbextensions\\snippets_menu\\snippets_submenus_python\\numba.js\n",
      "[W 23:24:21 InstallContribNbextensionsApp] Out of date: C:\\ProgramData\\jupyter\\nbextensions\\snippets_menu\\snippets_submenus_python\\numpy.js\n",
      "[I 23:24:21 InstallContribNbextensionsApp] Copying: c:\\users\\gurgen\\anaconda3\\lib\\site-packages\\jupyter_contrib_nbextensions\\nbextensions\\snippets_menu\\snippets_submenus_python\\numpy.js -> C:\\ProgramData\\jupyter\\nbextensions\\snippets_menu\\snippets_submenus_python\\numpy.js\n",
      "[W 23:24:21 InstallContribNbextensionsApp] Out of date: C:\\ProgramData\\jupyter\\nbextensions\\snippets_menu\\snippets_submenus_python\\numpy_polynomial.js\n",
      "[I 23:24:21 InstallContribNbextensionsApp] Copying: c:\\users\\gurgen\\anaconda3\\lib\\site-packages\\jupyter_contrib_nbextensions\\nbextensions\\snippets_menu\\snippets_submenus_python\\numpy_polynomial.js -> C:\\ProgramData\\jupyter\\nbextensions\\snippets_menu\\snippets_submenus_python\\numpy_polynomial.js\n",
      "[W 23:24:21 InstallContribNbextensionsApp] Out of date: C:\\ProgramData\\jupyter\\nbextensions\\snippets_menu\\snippets_submenus_python\\numpy_ufuncs.js\n",
      "[I 23:24:21 InstallContribNbextensionsApp] Copying: c:\\users\\gurgen\\anaconda3\\lib\\site-packages\\jupyter_contrib_nbextensions\\nbextensions\\snippets_menu\\snippets_submenus_python\\numpy_ufuncs.js -> C:\\ProgramData\\jupyter\\nbextensions\\snippets_menu\\snippets_submenus_python\\numpy_ufuncs.js\n",
      "[W 23:24:21 InstallContribNbextensionsApp] Out of date: C:\\ProgramData\\jupyter\\nbextensions\\snippets_menu\\snippets_submenus_python\\pandas.js\n",
      "[I 23:24:21 InstallContribNbextensionsApp] Copying: c:\\users\\gurgen\\anaconda3\\lib\\site-packages\\jupyter_contrib_nbextensions\\nbextensions\\snippets_menu\\snippets_submenus_python\\pandas.js -> C:\\ProgramData\\jupyter\\nbextensions\\snippets_menu\\snippets_submenus_python\\pandas.js\n",
      "[W 23:24:21 InstallContribNbextensionsApp] Out of date: C:\\ProgramData\\jupyter\\nbextensions\\snippets_menu\\snippets_submenus_python\\python.js\n",
      "[I 23:24:21 InstallContribNbextensionsApp] Copying: c:\\users\\gurgen\\anaconda3\\lib\\site-packages\\jupyter_contrib_nbextensions\\nbextensions\\snippets_menu\\snippets_submenus_python\\python.js -> C:\\ProgramData\\jupyter\\nbextensions\\snippets_menu\\snippets_submenus_python\\python.js\n",
      "[W 23:24:21 InstallContribNbextensionsApp] Out of date: C:\\ProgramData\\jupyter\\nbextensions\\snippets_menu\\snippets_submenus_python\\python_regex.js\n",
      "[I 23:24:21 InstallContribNbextensionsApp] Copying: c:\\users\\gurgen\\anaconda3\\lib\\site-packages\\jupyter_contrib_nbextensions\\nbextensions\\snippets_menu\\snippets_submenus_python\\python_regex.js -> C:\\ProgramData\\jupyter\\nbextensions\\snippets_menu\\snippets_submenus_python\\python_regex.js\n",
      "[W 23:24:21 InstallContribNbextensionsApp] Out of date: C:\\ProgramData\\jupyter\\nbextensions\\snippets_menu\\snippets_submenus_python\\scipy.js\n",
      "[I 23:24:21 InstallContribNbextensionsApp] Copying: c:\\users\\gurgen\\anaconda3\\lib\\site-packages\\jupyter_contrib_nbextensions\\nbextensions\\snippets_menu\\snippets_submenus_python\\scipy.js -> C:\\ProgramData\\jupyter\\nbextensions\\snippets_menu\\snippets_submenus_python\\scipy.js\n",
      "[W 23:24:21 InstallContribNbextensionsApp] Out of date: C:\\ProgramData\\jupyter\\nbextensions\\snippets_menu\\snippets_submenus_python\\scipy_constants.js\n",
      "[I 23:24:21 InstallContribNbextensionsApp] Copying: c:\\users\\gurgen\\anaconda3\\lib\\site-packages\\jupyter_contrib_nbextensions\\nbextensions\\snippets_menu\\snippets_submenus_python\\scipy_constants.js -> C:\\ProgramData\\jupyter\\nbextensions\\snippets_menu\\snippets_submenus_python\\scipy_constants.js\n",
      "[W 23:24:21 InstallContribNbextensionsApp] Out of date: C:\\ProgramData\\jupyter\\nbextensions\\snippets_menu\\snippets_submenus_python\\scipy_special.js\n",
      "[I 23:24:21 InstallContribNbextensionsApp] Copying: c:\\users\\gurgen\\anaconda3\\lib\\site-packages\\jupyter_contrib_nbextensions\\nbextensions\\snippets_menu\\snippets_submenus_python\\scipy_special.js -> C:\\ProgramData\\jupyter\\nbextensions\\snippets_menu\\snippets_submenus_python\\scipy_special.js\n",
      "[W 23:24:21 InstallContribNbextensionsApp] Out of date: C:\\ProgramData\\jupyter\\nbextensions\\snippets_menu\\snippets_submenus_python\\sympy.js\n",
      "[I 23:24:21 InstallContribNbextensionsApp] Copying: c:\\users\\gurgen\\anaconda3\\lib\\site-packages\\jupyter_contrib_nbextensions\\nbextensions\\snippets_menu\\snippets_submenus_python\\sympy.js -> C:\\ProgramData\\jupyter\\nbextensions\\snippets_menu\\snippets_submenus_python\\sympy.js\n",
      "[W 23:24:21 InstallContribNbextensionsApp] Out of date: C:\\ProgramData\\jupyter\\nbextensions\\snippets_menu\\snippets_submenus_python\\sympy_assumptions.js\n",
      "[I 23:24:21 InstallContribNbextensionsApp] Copying: c:\\users\\gurgen\\anaconda3\\lib\\site-packages\\jupyter_contrib_nbextensions\\nbextensions\\snippets_menu\\snippets_submenus_python\\sympy_assumptions.js -> C:\\ProgramData\\jupyter\\nbextensions\\snippets_menu\\snippets_submenus_python\\sympy_assumptions.js\n",
      "[W 23:24:21 InstallContribNbextensionsApp] Out of date: C:\\ProgramData\\jupyter\\nbextensions\\snippets_menu\\snippets_submenus_python\\sympy_functions.js\n",
      "[I 23:24:21 InstallContribNbextensionsApp] Copying: c:\\users\\gurgen\\anaconda3\\lib\\site-packages\\jupyter_contrib_nbextensions\\nbextensions\\snippets_menu\\snippets_submenus_python\\sympy_functions.js -> C:\\ProgramData\\jupyter\\nbextensions\\snippets_menu\\snippets_submenus_python\\sympy_functions.js\n",
      "[I 23:24:21 InstallContribNbextensionsApp] - Validating: ok\n",
      "[I 23:24:21 InstallContribNbextensionsApp] Installing c:\\users\\gurgen\\anaconda3\\lib\\site-packages\\jupyter_contrib_nbextensions\\nbextensions\\spellchecker -> spellchecker\n",
      "[W 23:24:21 InstallContribNbextensionsApp] Out of date: C:\\ProgramData\\jupyter\\nbextensions\\spellchecker\\config.yaml\n",
      "[I 23:24:21 InstallContribNbextensionsApp] Copying: c:\\users\\gurgen\\anaconda3\\lib\\site-packages\\jupyter_contrib_nbextensions\\nbextensions\\spellchecker\\config.yaml -> C:\\ProgramData\\jupyter\\nbextensions\\spellchecker\\config.yaml\n",
      "[W 23:24:21 InstallContribNbextensionsApp] Out of date: C:\\ProgramData\\jupyter\\nbextensions\\spellchecker\\download_new_dict.py\n",
      "[I 23:24:21 InstallContribNbextensionsApp] Copying: c:\\users\\gurgen\\anaconda3\\lib\\site-packages\\jupyter_contrib_nbextensions\\nbextensions\\spellchecker\\download_new_dict.py -> C:\\ProgramData\\jupyter\\nbextensions\\spellchecker\\download_new_dict.py\n",
      "[W 23:24:21 InstallContribNbextensionsApp] Out of date: C:\\ProgramData\\jupyter\\nbextensions\\spellchecker\\main.css\n",
      "[I 23:24:21 InstallContribNbextensionsApp] Copying: c:\\users\\gurgen\\anaconda3\\lib\\site-packages\\jupyter_contrib_nbextensions\\nbextensions\\spellchecker\\main.css -> C:\\ProgramData\\jupyter\\nbextensions\\spellchecker\\main.css\n",
      "[W 23:24:21 InstallContribNbextensionsApp] Out of date: C:\\ProgramData\\jupyter\\nbextensions\\spellchecker\\main.js\n",
      "[I 23:24:21 InstallContribNbextensionsApp] Copying: c:\\users\\gurgen\\anaconda3\\lib\\site-packages\\jupyter_contrib_nbextensions\\nbextensions\\spellchecker\\main.js -> C:\\ProgramData\\jupyter\\nbextensions\\spellchecker\\main.js\n",
      "[W 23:24:21 InstallContribNbextensionsApp] Out of date: C:\\ProgramData\\jupyter\\nbextensions\\spellchecker\\README.md\n",
      "[I 23:24:21 InstallContribNbextensionsApp] Copying: c:\\users\\gurgen\\anaconda3\\lib\\site-packages\\jupyter_contrib_nbextensions\\nbextensions\\spellchecker\\README.md -> C:\\ProgramData\\jupyter\\nbextensions\\spellchecker\\README.md\n",
      "[W 23:24:21 InstallContribNbextensionsApp] Out of date: C:\\ProgramData\\jupyter\\nbextensions\\spellchecker\\screenshot.png\n",
      "[I 23:24:21 InstallContribNbextensionsApp] Copying: c:\\users\\gurgen\\anaconda3\\lib\\site-packages\\jupyter_contrib_nbextensions\\nbextensions\\spellchecker\\screenshot.png -> C:\\ProgramData\\jupyter\\nbextensions\\spellchecker\\screenshot.png\n",
      "[W 23:24:21 InstallContribNbextensionsApp] Out of date: C:\\ProgramData\\jupyter\\nbextensions\\spellchecker\\typo\\LICENSE.txt\n",
      "[I 23:24:21 InstallContribNbextensionsApp] Copying: c:\\users\\gurgen\\anaconda3\\lib\\site-packages\\jupyter_contrib_nbextensions\\nbextensions\\spellchecker\\typo\\LICENSE.txt -> C:\\ProgramData\\jupyter\\nbextensions\\spellchecker\\typo\\LICENSE.txt\n",
      "[W 23:24:21 InstallContribNbextensionsApp] Out of date: C:\\ProgramData\\jupyter\\nbextensions\\spellchecker\\typo\\typo.js\n",
      "[I 23:24:21 InstallContribNbextensionsApp] Copying: c:\\users\\gurgen\\anaconda3\\lib\\site-packages\\jupyter_contrib_nbextensions\\nbextensions\\spellchecker\\typo\\typo.js -> C:\\ProgramData\\jupyter\\nbextensions\\spellchecker\\typo\\typo.js\n",
      "[I 23:24:21 InstallContribNbextensionsApp] Copying: c:\\users\\gurgen\\anaconda3\\lib\\site-packages\\jupyter_contrib_nbextensions\\nbextensions\\spellchecker\\__pycache__\\download_new_dict.cpython-38.pyc -> C:\\ProgramData\\jupyter\\nbextensions\\spellchecker\\__pycache__\\download_new_dict.cpython-38.pyc\n",
      "[I 23:24:21 InstallContribNbextensionsApp] - Validating: ok\n",
      "[I 23:24:21 InstallContribNbextensionsApp] Installing c:\\users\\gurgen\\anaconda3\\lib\\site-packages\\jupyter_contrib_nbextensions\\nbextensions\\splitcell -> splitcell\n",
      "[W 23:24:21 InstallContribNbextensionsApp] Out of date: C:\\ProgramData\\jupyter\\nbextensions\\splitcell\\icon.png\n",
      "[I 23:24:21 InstallContribNbextensionsApp] Copying: c:\\users\\gurgen\\anaconda3\\lib\\site-packages\\jupyter_contrib_nbextensions\\nbextensions\\splitcell\\icon.png -> C:\\ProgramData\\jupyter\\nbextensions\\splitcell\\icon.png\n",
      "[W 23:24:21 InstallContribNbextensionsApp] Out of date: C:\\ProgramData\\jupyter\\nbextensions\\splitcell\\readme.md\n",
      "[I 23:24:21 InstallContribNbextensionsApp] Copying: c:\\users\\gurgen\\anaconda3\\lib\\site-packages\\jupyter_contrib_nbextensions\\nbextensions\\splitcell\\readme.md -> C:\\ProgramData\\jupyter\\nbextensions\\splitcell\\readme.md\n",
      "[W 23:24:21 InstallContribNbextensionsApp] Out of date: C:\\ProgramData\\jupyter\\nbextensions\\splitcell\\splitcell.js\n",
      "[I 23:24:21 InstallContribNbextensionsApp] Copying: c:\\users\\gurgen\\anaconda3\\lib\\site-packages\\jupyter_contrib_nbextensions\\nbextensions\\splitcell\\splitcell.js -> C:\\ProgramData\\jupyter\\nbextensions\\splitcell\\splitcell.js\n",
      "[W 23:24:21 InstallContribNbextensionsApp] Out of date: C:\\ProgramData\\jupyter\\nbextensions\\splitcell\\splitcell.yaml\n",
      "[I 23:24:21 InstallContribNbextensionsApp] Copying: c:\\users\\gurgen\\anaconda3\\lib\\site-packages\\jupyter_contrib_nbextensions\\nbextensions\\splitcell\\splitcell.yaml -> C:\\ProgramData\\jupyter\\nbextensions\\splitcell\\splitcell.yaml\n",
      "[I 23:24:21 InstallContribNbextensionsApp] - Validating: ok\n",
      "[I 23:24:21 InstallContribNbextensionsApp] Installing c:\\users\\gurgen\\anaconda3\\lib\\site-packages\\jupyter_contrib_nbextensions\\nbextensions\\table_beautifier -> table_beautifier\n",
      "[W 23:24:21 InstallContribNbextensionsApp] Out of date: C:\\ProgramData\\jupyter\\nbextensions\\table_beautifier\\main.css\n",
      "[I 23:24:21 InstallContribNbextensionsApp] Copying: c:\\users\\gurgen\\anaconda3\\lib\\site-packages\\jupyter_contrib_nbextensions\\nbextensions\\table_beautifier\\main.css -> C:\\ProgramData\\jupyter\\nbextensions\\table_beautifier\\main.css\n",
      "[W 23:24:21 InstallContribNbextensionsApp] Out of date: C:\\ProgramData\\jupyter\\nbextensions\\table_beautifier\\main.js\n",
      "[I 23:24:21 InstallContribNbextensionsApp] Copying: c:\\users\\gurgen\\anaconda3\\lib\\site-packages\\jupyter_contrib_nbextensions\\nbextensions\\table_beautifier\\main.js -> C:\\ProgramData\\jupyter\\nbextensions\\table_beautifier\\main.js\n",
      "[W 23:24:21 InstallContribNbextensionsApp] Out of date: C:\\ProgramData\\jupyter\\nbextensions\\table_beautifier\\README.md\n",
      "[I 23:24:21 InstallContribNbextensionsApp] Copying: c:\\users\\gurgen\\anaconda3\\lib\\site-packages\\jupyter_contrib_nbextensions\\nbextensions\\table_beautifier\\README.md -> C:\\ProgramData\\jupyter\\nbextensions\\table_beautifier\\README.md\n",
      "[W 23:24:21 InstallContribNbextensionsApp] Out of date: C:\\ProgramData\\jupyter\\nbextensions\\table_beautifier\\table_beautifier.yaml\n",
      "[I 23:24:21 InstallContribNbextensionsApp] Copying: c:\\users\\gurgen\\anaconda3\\lib\\site-packages\\jupyter_contrib_nbextensions\\nbextensions\\table_beautifier\\table_beautifier.yaml -> C:\\ProgramData\\jupyter\\nbextensions\\table_beautifier\\table_beautifier.yaml\n",
      "[I 23:24:21 InstallContribNbextensionsApp] - Validating: ok\n",
      "[I 23:24:21 InstallContribNbextensionsApp] Installing c:\\users\\gurgen\\anaconda3\\lib\\site-packages\\jupyter_contrib_nbextensions\\nbextensions\\toc2 -> toc2\n",
      "[W 23:24:21 InstallContribNbextensionsApp] Out of date: C:\\ProgramData\\jupyter\\nbextensions\\toc2\\demo.gif\n",
      "[I 23:24:21 InstallContribNbextensionsApp] Copying: c:\\users\\gurgen\\anaconda3\\lib\\site-packages\\jupyter_contrib_nbextensions\\nbextensions\\toc2\\demo.gif -> C:\\ProgramData\\jupyter\\nbextensions\\toc2\\demo.gif\n",
      "[W 23:24:21 InstallContribNbextensionsApp] Out of date: C:\\ProgramData\\jupyter\\nbextensions\\toc2\\demo2.gif\n",
      "[I 23:24:21 InstallContribNbextensionsApp] Copying: c:\\users\\gurgen\\anaconda3\\lib\\site-packages\\jupyter_contrib_nbextensions\\nbextensions\\toc2\\demo2.gif -> C:\\ProgramData\\jupyter\\nbextensions\\toc2\\demo2.gif\n",
      "[W 23:24:21 InstallContribNbextensionsApp] Out of date: C:\\ProgramData\\jupyter\\nbextensions\\toc2\\demo3.gif\n",
      "[I 23:24:21 InstallContribNbextensionsApp] Copying: c:\\users\\gurgen\\anaconda3\\lib\\site-packages\\jupyter_contrib_nbextensions\\nbextensions\\toc2\\demo3.gif -> C:\\ProgramData\\jupyter\\nbextensions\\toc2\\demo3.gif\n",
      "[W 23:24:21 InstallContribNbextensionsApp] Out of date: C:\\ProgramData\\jupyter\\nbextensions\\toc2\\demo_dark.png\n",
      "[I 23:24:21 InstallContribNbextensionsApp] Copying: c:\\users\\gurgen\\anaconda3\\lib\\site-packages\\jupyter_contrib_nbextensions\\nbextensions\\toc2\\demo_dark.png -> C:\\ProgramData\\jupyter\\nbextensions\\toc2\\demo_dark.png\n",
      "[W 23:24:21 InstallContribNbextensionsApp] Out of date: C:\\ProgramData\\jupyter\\nbextensions\\toc2\\icon.png\n",
      "[I 23:24:21 InstallContribNbextensionsApp] Copying: c:\\users\\gurgen\\anaconda3\\lib\\site-packages\\jupyter_contrib_nbextensions\\nbextensions\\toc2\\icon.png -> C:\\ProgramData\\jupyter\\nbextensions\\toc2\\icon.png\n",
      "[W 23:24:21 InstallContribNbextensionsApp] Out of date: C:\\ProgramData\\jupyter\\nbextensions\\toc2\\image.png\n",
      "[I 23:24:21 InstallContribNbextensionsApp] Copying: c:\\users\\gurgen\\anaconda3\\lib\\site-packages\\jupyter_contrib_nbextensions\\nbextensions\\toc2\\image.png -> C:\\ProgramData\\jupyter\\nbextensions\\toc2\\image.png\n",
      "[W 23:24:21 InstallContribNbextensionsApp] Out of date: C:\\ProgramData\\jupyter\\nbextensions\\toc2\\main.css\n",
      "[I 23:24:21 InstallContribNbextensionsApp] Copying: c:\\users\\gurgen\\anaconda3\\lib\\site-packages\\jupyter_contrib_nbextensions\\nbextensions\\toc2\\main.css -> C:\\ProgramData\\jupyter\\nbextensions\\toc2\\main.css\n",
      "[W 23:24:21 InstallContribNbextensionsApp] Out of date: C:\\ProgramData\\jupyter\\nbextensions\\toc2\\main.js\n",
      "[I 23:24:21 InstallContribNbextensionsApp] Copying: c:\\users\\gurgen\\anaconda3\\lib\\site-packages\\jupyter_contrib_nbextensions\\nbextensions\\toc2\\main.js -> C:\\ProgramData\\jupyter\\nbextensions\\toc2\\main.js\n",
      "[W 23:24:21 InstallContribNbextensionsApp] Out of date: C:\\ProgramData\\jupyter\\nbextensions\\toc2\\README.md\n",
      "[I 23:24:21 InstallContribNbextensionsApp] Copying: c:\\users\\gurgen\\anaconda3\\lib\\site-packages\\jupyter_contrib_nbextensions\\nbextensions\\toc2\\README.md -> C:\\ProgramData\\jupyter\\nbextensions\\toc2\\README.md\n",
      "[W 23:24:21 InstallContribNbextensionsApp] Out of date: C:\\ProgramData\\jupyter\\nbextensions\\toc2\\toc2.js\n",
      "[I 23:24:21 InstallContribNbextensionsApp] Copying: c:\\users\\gurgen\\anaconda3\\lib\\site-packages\\jupyter_contrib_nbextensions\\nbextensions\\toc2\\toc2.js -> C:\\ProgramData\\jupyter\\nbextensions\\toc2\\toc2.js\n",
      "[W 23:24:21 InstallContribNbextensionsApp] Out of date: C:\\ProgramData\\jupyter\\nbextensions\\toc2\\toc2.yaml\n",
      "[I 23:24:21 InstallContribNbextensionsApp] Copying: c:\\users\\gurgen\\anaconda3\\lib\\site-packages\\jupyter_contrib_nbextensions\\nbextensions\\toc2\\toc2.yaml -> C:\\ProgramData\\jupyter\\nbextensions\\toc2\\toc2.yaml\n",
      "[I 23:24:21 InstallContribNbextensionsApp] - Validating: ok\n",
      "[I 23:24:21 InstallContribNbextensionsApp] Installing c:\\users\\gurgen\\anaconda3\\lib\\site-packages\\jupyter_contrib_nbextensions\\nbextensions\\toggle_all_line_numbers -> toggle_all_line_numbers\n",
      "[W 23:24:21 InstallContribNbextensionsApp] Out of date: C:\\ProgramData\\jupyter\\nbextensions\\toggle_all_line_numbers\\icon.png\n",
      "[I 23:24:21 InstallContribNbextensionsApp] Copying: c:\\users\\gurgen\\anaconda3\\lib\\site-packages\\jupyter_contrib_nbextensions\\nbextensions\\toggle_all_line_numbers\\icon.png -> C:\\ProgramData\\jupyter\\nbextensions\\toggle_all_line_numbers\\icon.png\n",
      "[W 23:24:21 InstallContribNbextensionsApp] Out of date: C:\\ProgramData\\jupyter\\nbextensions\\toggle_all_line_numbers\\main.js\n",
      "[I 23:24:21 InstallContribNbextensionsApp] Copying: c:\\users\\gurgen\\anaconda3\\lib\\site-packages\\jupyter_contrib_nbextensions\\nbextensions\\toggle_all_line_numbers\\main.js -> C:\\ProgramData\\jupyter\\nbextensions\\toggle_all_line_numbers\\main.js\n",
      "[W 23:24:21 InstallContribNbextensionsApp] Out of date: C:\\ProgramData\\jupyter\\nbextensions\\toggle_all_line_numbers\\main.yaml\n",
      "[I 23:24:21 InstallContribNbextensionsApp] Copying: c:\\users\\gurgen\\anaconda3\\lib\\site-packages\\jupyter_contrib_nbextensions\\nbextensions\\toggle_all_line_numbers\\main.yaml -> C:\\ProgramData\\jupyter\\nbextensions\\toggle_all_line_numbers\\main.yaml\n",
      "[W 23:24:21 InstallContribNbextensionsApp] Out of date: C:\\ProgramData\\jupyter\\nbextensions\\toggle_all_line_numbers\\readme.md\n",
      "[I 23:24:21 InstallContribNbextensionsApp] Copying: c:\\users\\gurgen\\anaconda3\\lib\\site-packages\\jupyter_contrib_nbextensions\\nbextensions\\toggle_all_line_numbers\\readme.md -> C:\\ProgramData\\jupyter\\nbextensions\\toggle_all_line_numbers\\readme.md\n",
      "[I 23:24:21 InstallContribNbextensionsApp] - Validating: ok\n",
      "[I 23:24:21 InstallContribNbextensionsApp] Installing c:\\users\\gurgen\\anaconda3\\lib\\site-packages\\jupyter_contrib_nbextensions\\nbextensions\\tree-filter -> tree-filter\n",
      "[W 23:24:21 InstallContribNbextensionsApp] Out of date: C:\\ProgramData\\jupyter\\nbextensions\\tree-filter\\demo.gif\n",
      "[I 23:24:21 InstallContribNbextensionsApp] Copying: c:\\users\\gurgen\\anaconda3\\lib\\site-packages\\jupyter_contrib_nbextensions\\nbextensions\\tree-filter\\demo.gif -> C:\\ProgramData\\jupyter\\nbextensions\\tree-filter\\demo.gif\n",
      "[W 23:24:21 InstallContribNbextensionsApp] Out of date: C:\\ProgramData\\jupyter\\nbextensions\\tree-filter\\index.js\n",
      "[I 23:24:21 InstallContribNbextensionsApp] Copying: c:\\users\\gurgen\\anaconda3\\lib\\site-packages\\jupyter_contrib_nbextensions\\nbextensions\\tree-filter\\index.js -> C:\\ProgramData\\jupyter\\nbextensions\\tree-filter\\index.js\n",
      "[W 23:24:21 InstallContribNbextensionsApp] Out of date: C:\\ProgramData\\jupyter\\nbextensions\\tree-filter\\readme.md\n",
      "[I 23:24:21 InstallContribNbextensionsApp] Copying: c:\\users\\gurgen\\anaconda3\\lib\\site-packages\\jupyter_contrib_nbextensions\\nbextensions\\tree-filter\\readme.md -> C:\\ProgramData\\jupyter\\nbextensions\\tree-filter\\readme.md\n",
      "[W 23:24:21 InstallContribNbextensionsApp] Out of date: C:\\ProgramData\\jupyter\\nbextensions\\tree-filter\\tree-filter.yaml\n",
      "[I 23:24:21 InstallContribNbextensionsApp] Copying: c:\\users\\gurgen\\anaconda3\\lib\\site-packages\\jupyter_contrib_nbextensions\\nbextensions\\tree-filter\\tree-filter.yaml -> C:\\ProgramData\\jupyter\\nbextensions\\tree-filter\\tree-filter.yaml\n",
      "[I 23:24:21 InstallContribNbextensionsApp] - Validating: ok\n",
      "[I 23:24:21 InstallContribNbextensionsApp] Installing c:\\users\\gurgen\\anaconda3\\lib\\site-packages\\jupyter_contrib_nbextensions\\nbextensions\\varInspector -> varInspector\n",
      "[W 23:24:21 InstallContribNbextensionsApp] Out of date: C:\\ProgramData\\jupyter\\nbextensions\\varInspector\\demo.gif\n",
      "[I 23:24:21 InstallContribNbextensionsApp] Copying: c:\\users\\gurgen\\anaconda3\\lib\\site-packages\\jupyter_contrib_nbextensions\\nbextensions\\varInspector\\demo.gif -> C:\\ProgramData\\jupyter\\nbextensions\\varInspector\\demo.gif\n",
      "[W 23:24:21 InstallContribNbextensionsApp] Out of date: C:\\ProgramData\\jupyter\\nbextensions\\varInspector\\icon.png\n",
      "[I 23:24:21 InstallContribNbextensionsApp] Copying: c:\\users\\gurgen\\anaconda3\\lib\\site-packages\\jupyter_contrib_nbextensions\\nbextensions\\varInspector\\icon.png -> C:\\ProgramData\\jupyter\\nbextensions\\varInspector\\icon.png\n",
      "[W 23:24:21 InstallContribNbextensionsApp] Out of date: C:\\ProgramData\\jupyter\\nbextensions\\varInspector\\jquery.tablesorter.min.js\n",
      "[I 23:24:21 InstallContribNbextensionsApp] Copying: c:\\users\\gurgen\\anaconda3\\lib\\site-packages\\jupyter_contrib_nbextensions\\nbextensions\\varInspector\\jquery.tablesorter.min.js -> C:\\ProgramData\\jupyter\\nbextensions\\varInspector\\jquery.tablesorter.min.js\n",
      "[W 23:24:21 InstallContribNbextensionsApp] Out of date: C:\\ProgramData\\jupyter\\nbextensions\\varInspector\\main.css\n",
      "[I 23:24:21 InstallContribNbextensionsApp] Copying: c:\\users\\gurgen\\anaconda3\\lib\\site-packages\\jupyter_contrib_nbextensions\\nbextensions\\varInspector\\main.css -> C:\\ProgramData\\jupyter\\nbextensions\\varInspector\\main.css\n",
      "[W 23:24:21 InstallContribNbextensionsApp] Out of date: C:\\ProgramData\\jupyter\\nbextensions\\varInspector\\main.js\n",
      "[I 23:24:21 InstallContribNbextensionsApp] Copying: c:\\users\\gurgen\\anaconda3\\lib\\site-packages\\jupyter_contrib_nbextensions\\nbextensions\\varInspector\\main.js -> C:\\ProgramData\\jupyter\\nbextensions\\varInspector\\main.js\n",
      "[W 23:24:21 InstallContribNbextensionsApp] Out of date: C:\\ProgramData\\jupyter\\nbextensions\\varInspector\\README.md\n",
      "[I 23:24:21 InstallContribNbextensionsApp] Copying: c:\\users\\gurgen\\anaconda3\\lib\\site-packages\\jupyter_contrib_nbextensions\\nbextensions\\varInspector\\README.md -> C:\\ProgramData\\jupyter\\nbextensions\\varInspector\\README.md\n",
      "[W 23:24:21 InstallContribNbextensionsApp] Out of date: C:\\ProgramData\\jupyter\\nbextensions\\varInspector\\tablesorter_LICENSE.txt\n",
      "[I 23:24:21 InstallContribNbextensionsApp] Copying: c:\\users\\gurgen\\anaconda3\\lib\\site-packages\\jupyter_contrib_nbextensions\\nbextensions\\varInspector\\tablesorter_LICENSE.txt -> C:\\ProgramData\\jupyter\\nbextensions\\varInspector\\tablesorter_LICENSE.txt\n",
      "[W 23:24:21 InstallContribNbextensionsApp] Out of date: C:\\ProgramData\\jupyter\\nbextensions\\varInspector\\varInspector.yaml\n",
      "[I 23:24:21 InstallContribNbextensionsApp] Copying: c:\\users\\gurgen\\anaconda3\\lib\\site-packages\\jupyter_contrib_nbextensions\\nbextensions\\varInspector\\varInspector.yaml -> C:\\ProgramData\\jupyter\\nbextensions\\varInspector\\varInspector.yaml\n",
      "[W 23:24:21 InstallContribNbextensionsApp] Out of date: C:\\ProgramData\\jupyter\\nbextensions\\varInspector\\var_list.py\n",
      "[I 23:24:21 InstallContribNbextensionsApp] Copying: c:\\users\\gurgen\\anaconda3\\lib\\site-packages\\jupyter_contrib_nbextensions\\nbextensions\\varInspector\\var_list.py -> C:\\ProgramData\\jupyter\\nbextensions\\varInspector\\var_list.py\n",
      "[W 23:24:21 InstallContribNbextensionsApp] Out of date: C:\\ProgramData\\jupyter\\nbextensions\\varInspector\\var_list.r\n",
      "[I 23:24:21 InstallContribNbextensionsApp] Copying: c:\\users\\gurgen\\anaconda3\\lib\\site-packages\\jupyter_contrib_nbextensions\\nbextensions\\varInspector\\var_list.r -> C:\\ProgramData\\jupyter\\nbextensions\\varInspector\\var_list.r\n",
      "[I 23:24:21 InstallContribNbextensionsApp] Copying: c:\\users\\gurgen\\anaconda3\\lib\\site-packages\\jupyter_contrib_nbextensions\\nbextensions\\varInspector\\__pycache__\\var_list.cpython-38.pyc -> C:\\ProgramData\\jupyter\\nbextensions\\varInspector\\__pycache__\\var_list.cpython-38.pyc\n",
      "[I 23:24:21 InstallContribNbextensionsApp] - Validating: ok\n",
      "[I 23:24:21 InstallContribNbextensionsApp] Installing c:\\users\\gurgen\\anaconda3\\lib\\site-packages\\jupyter_contrib_nbextensions\\nbextensions\\zenmode -> zenmode\n",
      "[W 23:24:21 InstallContribNbextensionsApp] Out of date: C:\\ProgramData\\jupyter\\nbextensions\\zenmode\\main.css\n",
      "[I 23:24:21 InstallContribNbextensionsApp] Copying: c:\\users\\gurgen\\anaconda3\\lib\\site-packages\\jupyter_contrib_nbextensions\\nbextensions\\zenmode\\main.css -> C:\\ProgramData\\jupyter\\nbextensions\\zenmode\\main.css\n",
      "[W 23:24:21 InstallContribNbextensionsApp] Out of date: C:\\ProgramData\\jupyter\\nbextensions\\zenmode\\main.js\n",
      "[I 23:24:21 InstallContribNbextensionsApp] Copying: c:\\users\\gurgen\\anaconda3\\lib\\site-packages\\jupyter_contrib_nbextensions\\nbextensions\\zenmode\\main.js -> C:\\ProgramData\\jupyter\\nbextensions\\zenmode\\main.js\n",
      "[W 23:24:21 InstallContribNbextensionsApp] Out of date: C:\\ProgramData\\jupyter\\nbextensions\\zenmode\\README.md\n",
      "[I 23:24:21 InstallContribNbextensionsApp] Copying: c:\\users\\gurgen\\anaconda3\\lib\\site-packages\\jupyter_contrib_nbextensions\\nbextensions\\zenmode\\README.md -> C:\\ProgramData\\jupyter\\nbextensions\\zenmode\\README.md\n",
      "[W 23:24:21 InstallContribNbextensionsApp] Out of date: C:\\ProgramData\\jupyter\\nbextensions\\zenmode\\zenmode.yaml\n",
      "[I 23:24:21 InstallContribNbextensionsApp] Copying: c:\\users\\gurgen\\anaconda3\\lib\\site-packages\\jupyter_contrib_nbextensions\\nbextensions\\zenmode\\zenmode.yaml -> C:\\ProgramData\\jupyter\\nbextensions\\zenmode\\zenmode.yaml\n",
      "[W 23:24:21 InstallContribNbextensionsApp] Out of date: C:\\ProgramData\\jupyter\\nbextensions\\zenmode\\images\\back1.jpg\n",
      "[I 23:24:21 InstallContribNbextensionsApp] Copying: c:\\users\\gurgen\\anaconda3\\lib\\site-packages\\jupyter_contrib_nbextensions\\nbextensions\\zenmode\\images\\back1.jpg -> C:\\ProgramData\\jupyter\\nbextensions\\zenmode\\images\\back1.jpg\n",
      "[W 23:24:21 InstallContribNbextensionsApp] Out of date: C:\\ProgramData\\jupyter\\nbextensions\\zenmode\\images\\back11.jpg\n",
      "[I 23:24:21 InstallContribNbextensionsApp] Copying: c:\\users\\gurgen\\anaconda3\\lib\\site-packages\\jupyter_contrib_nbextensions\\nbextensions\\zenmode\\images\\back11.jpg -> C:\\ProgramData\\jupyter\\nbextensions\\zenmode\\images\\back11.jpg\n",
      "[W 23:24:21 InstallContribNbextensionsApp] Out of date: C:\\ProgramData\\jupyter\\nbextensions\\zenmode\\images\\back12.jpg\n",
      "[I 23:24:21 InstallContribNbextensionsApp] Copying: c:\\users\\gurgen\\anaconda3\\lib\\site-packages\\jupyter_contrib_nbextensions\\nbextensions\\zenmode\\images\\back12.jpg -> C:\\ProgramData\\jupyter\\nbextensions\\zenmode\\images\\back12.jpg\n",
      "[W 23:24:21 InstallContribNbextensionsApp] Out of date: C:\\ProgramData\\jupyter\\nbextensions\\zenmode\\images\\back2.jpg\n",
      "[I 23:24:21 InstallContribNbextensionsApp] Copying: c:\\users\\gurgen\\anaconda3\\lib\\site-packages\\jupyter_contrib_nbextensions\\nbextensions\\zenmode\\images\\back2.jpg -> C:\\ProgramData\\jupyter\\nbextensions\\zenmode\\images\\back2.jpg\n",
      "[W 23:24:21 InstallContribNbextensionsApp] Out of date: C:\\ProgramData\\jupyter\\nbextensions\\zenmode\\images\\back21.jpg\n",
      "[I 23:24:21 InstallContribNbextensionsApp] Copying: c:\\users\\gurgen\\anaconda3\\lib\\site-packages\\jupyter_contrib_nbextensions\\nbextensions\\zenmode\\images\\back21.jpg -> C:\\ProgramData\\jupyter\\nbextensions\\zenmode\\images\\back21.jpg\n",
      "[W 23:24:21 InstallContribNbextensionsApp] Out of date: C:\\ProgramData\\jupyter\\nbextensions\\zenmode\\images\\back22.jpg\n",
      "[I 23:24:21 InstallContribNbextensionsApp] Copying: c:\\users\\gurgen\\anaconda3\\lib\\site-packages\\jupyter_contrib_nbextensions\\nbextensions\\zenmode\\images\\back22.jpg -> C:\\ProgramData\\jupyter\\nbextensions\\zenmode\\images\\back22.jpg\n",
      "[W 23:24:21 InstallContribNbextensionsApp] Out of date: C:\\ProgramData\\jupyter\\nbextensions\\zenmode\\images\\back3.jpg\n",
      "[I 23:24:21 InstallContribNbextensionsApp] Copying: c:\\users\\gurgen\\anaconda3\\lib\\site-packages\\jupyter_contrib_nbextensions\\nbextensions\\zenmode\\images\\back3.jpg -> C:\\ProgramData\\jupyter\\nbextensions\\zenmode\\images\\back3.jpg\n",
      "[W 23:24:21 InstallContribNbextensionsApp] Out of date: C:\\ProgramData\\jupyter\\nbextensions\\zenmode\\images\\ipynblogo0.png\n",
      "[I 23:24:21 InstallContribNbextensionsApp] Copying: c:\\users\\gurgen\\anaconda3\\lib\\site-packages\\jupyter_contrib_nbextensions\\nbextensions\\zenmode\\images\\ipynblogo0.png -> C:\\ProgramData\\jupyter\\nbextensions\\zenmode\\images\\ipynblogo0.png\n",
      "[W 23:24:21 InstallContribNbextensionsApp] Out of date: C:\\ProgramData\\jupyter\\nbextensions\\zenmode\\images\\ipynblogo1.png\n",
      "[I 23:24:21 InstallContribNbextensionsApp] Copying: c:\\users\\gurgen\\anaconda3\\lib\\site-packages\\jupyter_contrib_nbextensions\\nbextensions\\zenmode\\images\\ipynblogo1.png -> C:\\ProgramData\\jupyter\\nbextensions\\zenmode\\images\\ipynblogo1.png\n",
      "[I 23:24:21 InstallContribNbextensionsApp] - Validating: ok\n",
      "[I 23:24:21 InstallContribNbextensionsApp] Installing c:\\users\\gurgen\\anaconda3\\lib\\site-packages\\jupyter_highlight_selected_word\\static\\highlight_selected_word -> highlight_selected_word\n",
      "[W 23:24:21 InstallContribNbextensionsApp] Out of date: C:\\ProgramData\\jupyter\\nbextensions\\highlight_selected_word\\configurator.yaml\n",
      "[I 23:24:21 InstallContribNbextensionsApp] Copying: c:\\users\\gurgen\\anaconda3\\lib\\site-packages\\jupyter_highlight_selected_word\\static\\highlight_selected_word\\configurator.yaml -> C:\\ProgramData\\jupyter\\nbextensions\\highlight_selected_word\\configurator.yaml\n",
      "[W 23:24:21 InstallContribNbextensionsApp] Out of date: C:\\ProgramData\\jupyter\\nbextensions\\highlight_selected_word\\main.js\n",
      "[I 23:24:21 InstallContribNbextensionsApp] Copying: c:\\users\\gurgen\\anaconda3\\lib\\site-packages\\jupyter_highlight_selected_word\\static\\highlight_selected_word\\main.js -> C:\\ProgramData\\jupyter\\nbextensions\\highlight_selected_word\\main.js\n",
      "[W 23:24:21 InstallContribNbextensionsApp] Out of date: C:\\ProgramData\\jupyter\\nbextensions\\highlight_selected_word\\README.md\n",
      "[I 23:24:21 InstallContribNbextensionsApp] Copying: c:\\users\\gurgen\\anaconda3\\lib\\site-packages\\jupyter_highlight_selected_word\\static\\highlight_selected_word\\README.md -> C:\\ProgramData\\jupyter\\nbextensions\\highlight_selected_word\\README.md\n",
      "[I 23:24:21 InstallContribNbextensionsApp] - Validating: ok\n",
      "[I 23:24:21 InstallContribNbextensionsApp] Installing c:\\users\\gurgen\\anaconda3\\lib\\site-packages\\latex_envs\\static -> latex_envs\n",
      "[W 23:24:21 InstallContribNbextensionsApp] Out of date: C:\\ProgramData\\jupyter\\nbextensions\\latex_envs\\bibInNb4.js\n",
      "[I 23:24:21 InstallContribNbextensionsApp] Copying: c:\\users\\gurgen\\anaconda3\\lib\\site-packages\\latex_envs\\static\\bibInNb4.js -> C:\\ProgramData\\jupyter\\nbextensions\\latex_envs\\bibInNb4.js\n",
      "[W 23:24:21 InstallContribNbextensionsApp] Out of date: C:\\ProgramData\\jupyter\\nbextensions\\latex_envs\\bibtex2.js\n",
      "[I 23:24:21 InstallContribNbextensionsApp] Copying: c:\\users\\gurgen\\anaconda3\\lib\\site-packages\\latex_envs\\static\\bibtex2.js -> C:\\ProgramData\\jupyter\\nbextensions\\latex_envs\\bibtex2.js\n",
      "[W 23:24:21 InstallContribNbextensionsApp] Out of date: C:\\ProgramData\\jupyter\\nbextensions\\latex_envs\\configuration_toolbar.png\n",
      "[I 23:24:21 InstallContribNbextensionsApp] Copying: c:\\users\\gurgen\\anaconda3\\lib\\site-packages\\latex_envs\\static\\configuration_toolbar.png -> C:\\ProgramData\\jupyter\\nbextensions\\latex_envs\\configuration_toolbar.png\n",
      "[W 23:24:21 InstallContribNbextensionsApp] Out of date: C:\\ProgramData\\jupyter\\nbextensions\\latex_envs\\envsLatex.js\n",
      "[I 23:24:21 InstallContribNbextensionsApp] Copying: c:\\users\\gurgen\\anaconda3\\lib\\site-packages\\latex_envs\\static\\envsLatex.js -> C:\\ProgramData\\jupyter\\nbextensions\\latex_envs\\envsLatex.js\n",
      "[W 23:24:21 InstallContribNbextensionsApp] Out of date: C:\\ProgramData\\jupyter\\nbextensions\\latex_envs\\envsLatex.json\n",
      "[I 23:24:21 InstallContribNbextensionsApp] Copying: c:\\users\\gurgen\\anaconda3\\lib\\site-packages\\latex_envs\\static\\envsLatex.json -> C:\\ProgramData\\jupyter\\nbextensions\\latex_envs\\envsLatex.json\n",
      "[W 23:24:21 InstallContribNbextensionsApp] Out of date: C:\\ProgramData\\jupyter\\nbextensions\\latex_envs\\example.png\n",
      "[I 23:24:21 InstallContribNbextensionsApp] Copying: c:\\users\\gurgen\\anaconda3\\lib\\site-packages\\latex_envs\\static\\example.png -> C:\\ProgramData\\jupyter\\nbextensions\\latex_envs\\example.png\n",
      "[W 23:24:21 InstallContribNbextensionsApp] Out of date: C:\\ProgramData\\jupyter\\nbextensions\\latex_envs\\example_user_envs.json\n",
      "[I 23:24:21 InstallContribNbextensionsApp] Copying: c:\\users\\gurgen\\anaconda3\\lib\\site-packages\\latex_envs\\static\\example_user_envs.json -> C:\\ProgramData\\jupyter\\nbextensions\\latex_envs\\example_user_envs.json\n",
      "[W 23:24:21 InstallContribNbextensionsApp] Out of date: C:\\ProgramData\\jupyter\\nbextensions\\latex_envs\\icon.png\n",
      "[I 23:24:21 InstallContribNbextensionsApp] Copying: c:\\users\\gurgen\\anaconda3\\lib\\site-packages\\latex_envs\\static\\icon.png -> C:\\ProgramData\\jupyter\\nbextensions\\latex_envs\\icon.png\n",
      "[W 23:24:21 InstallContribNbextensionsApp] Out of date: C:\\ProgramData\\jupyter\\nbextensions\\latex_envs\\initNb.js\n",
      "[I 23:24:21 InstallContribNbextensionsApp] Copying: c:\\users\\gurgen\\anaconda3\\lib\\site-packages\\latex_envs\\static\\initNb.js -> C:\\ProgramData\\jupyter\\nbextensions\\latex_envs\\initNb.js\n",
      "[W 23:24:21 InstallContribNbextensionsApp] Out of date: C:\\ProgramData\\jupyter\\nbextensions\\latex_envs\\latex_envs.css\n",
      "[I 23:24:21 InstallContribNbextensionsApp] Copying: c:\\users\\gurgen\\anaconda3\\lib\\site-packages\\latex_envs\\static\\latex_envs.css -> C:\\ProgramData\\jupyter\\nbextensions\\latex_envs\\latex_envs.css\n",
      "[W 23:24:21 InstallContribNbextensionsApp] Out of date: C:\\ProgramData\\jupyter\\nbextensions\\latex_envs\\latex_envs.js\n",
      "[I 23:24:21 InstallContribNbextensionsApp] Copying: c:\\users\\gurgen\\anaconda3\\lib\\site-packages\\latex_envs\\static\\latex_envs.js -> C:\\ProgramData\\jupyter\\nbextensions\\latex_envs\\latex_envs.js\n",
      "[W 23:24:21 InstallContribNbextensionsApp] Out of date: C:\\ProgramData\\jupyter\\nbextensions\\latex_envs\\latex_envs.yaml\n",
      "[I 23:24:21 InstallContribNbextensionsApp] Copying: c:\\users\\gurgen\\anaconda3\\lib\\site-packages\\latex_envs\\static\\latex_envs.yaml -> C:\\ProgramData\\jupyter\\nbextensions\\latex_envs\\latex_envs.yaml\n",
      "[W 23:24:21 InstallContribNbextensionsApp] Out of date: C:\\ProgramData\\jupyter\\nbextensions\\latex_envs\\main_toolbar.png\n",
      "[I 23:24:21 InstallContribNbextensionsApp] Copying: c:\\users\\gurgen\\anaconda3\\lib\\site-packages\\latex_envs\\static\\main_toolbar.png -> C:\\ProgramData\\jupyter\\nbextensions\\latex_envs\\main_toolbar.png\n",
      "[W 23:24:21 InstallContribNbextensionsApp] Out of date: C:\\ProgramData\\jupyter\\nbextensions\\latex_envs\\README.md\n",
      "[I 23:24:21 InstallContribNbextensionsApp] Copying: c:\\users\\gurgen\\anaconda3\\lib\\site-packages\\latex_envs\\static\\README.md -> C:\\ProgramData\\jupyter\\nbextensions\\latex_envs\\README.md\n",
      "[W 23:24:21 InstallContribNbextensionsApp] Out of date: C:\\ProgramData\\jupyter\\nbextensions\\latex_envs\\thmsInNb4.js\n",
      "[I 23:24:21 InstallContribNbextensionsApp] Copying: c:\\users\\gurgen\\anaconda3\\lib\\site-packages\\latex_envs\\static\\thmsInNb4.js -> C:\\ProgramData\\jupyter\\nbextensions\\latex_envs\\thmsInNb4.js\n",
      "[W 23:24:21 InstallContribNbextensionsApp] Out of date: C:\\ProgramData\\jupyter\\nbextensions\\latex_envs\\doc\\biblio_ipython.bib\n",
      "[I 23:24:21 InstallContribNbextensionsApp] Copying: c:\\users\\gurgen\\anaconda3\\lib\\site-packages\\latex_envs\\static\\doc\\biblio_ipython.bib -> C:\\ProgramData\\jupyter\\nbextensions\\latex_envs\\doc\\biblio_ipython.bib\n",
      "[W 23:24:21 InstallContribNbextensionsApp] Out of date: C:\\ProgramData\\jupyter\\nbextensions\\latex_envs\\doc\\configuration_toolbar.png\n",
      "[I 23:24:21 InstallContribNbextensionsApp] Copying: c:\\users\\gurgen\\anaconda3\\lib\\site-packages\\latex_envs\\static\\doc\\configuration_toolbar.png -> C:\\ProgramData\\jupyter\\nbextensions\\latex_envs\\doc\\configuration_toolbar.png\n",
      "[W 23:24:21 InstallContribNbextensionsApp] Out of date: C:\\ProgramData\\jupyter\\nbextensions\\latex_envs\\doc\\config_toolbar.png\n",
      "[I 23:24:21 InstallContribNbextensionsApp] Copying: c:\\users\\gurgen\\anaconda3\\lib\\site-packages\\latex_envs\\static\\doc\\config_toolbar.png -> C:\\ProgramData\\jupyter\\nbextensions\\latex_envs\\doc\\config_toolbar.png\n",
      "[W 23:24:21 InstallContribNbextensionsApp] Out of date: C:\\ProgramData\\jupyter\\nbextensions\\latex_envs\\doc\\documentation.pdf\n",
      "[I 23:24:21 InstallContribNbextensionsApp] Copying: c:\\users\\gurgen\\anaconda3\\lib\\site-packages\\latex_envs\\static\\doc\\documentation.pdf -> C:\\ProgramData\\jupyter\\nbextensions\\latex_envs\\doc\\documentation.pdf\n",
      "[W 23:24:21 InstallContribNbextensionsApp] Out of date: C:\\ProgramData\\jupyter\\nbextensions\\latex_envs\\doc\\documentation.tex\n",
      "[I 23:24:21 InstallContribNbextensionsApp] Copying: c:\\users\\gurgen\\anaconda3\\lib\\site-packages\\latex_envs\\static\\doc\\documentation.tex -> C:\\ProgramData\\jupyter\\nbextensions\\latex_envs\\doc\\documentation.tex\n",
      "[W 23:24:21 InstallContribNbextensionsApp] Out of date: C:\\ProgramData\\jupyter\\nbextensions\\latex_envs\\doc\\example.png\n",
      "[I 23:24:21 InstallContribNbextensionsApp] Copying: c:\\users\\gurgen\\anaconda3\\lib\\site-packages\\latex_envs\\static\\doc\\example.png -> C:\\ProgramData\\jupyter\\nbextensions\\latex_envs\\doc\\example.png\n",
      "[W 23:24:21 InstallContribNbextensionsApp] Out of date: C:\\ProgramData\\jupyter\\nbextensions\\latex_envs\\doc\\header.tex\n",
      "[I 23:24:21 InstallContribNbextensionsApp] Copying: c:\\users\\gurgen\\anaconda3\\lib\\site-packages\\latex_envs\\static\\doc\\header.tex -> C:\\ProgramData\\jupyter\\nbextensions\\latex_envs\\doc\\header.tex\n",
      "[W 23:24:21 InstallContribNbextensionsApp] Out of date: C:\\ProgramData\\jupyter\\nbextensions\\latex_envs\\doc\\IEEEtran.bst\n",
      "[I 23:24:21 InstallContribNbextensionsApp] Copying: c:\\users\\gurgen\\anaconda3\\lib\\site-packages\\latex_envs\\static\\doc\\IEEEtran.bst -> C:\\ProgramData\\jupyter\\nbextensions\\latex_envs\\doc\\IEEEtran.bst\n",
      "[W 23:24:21 InstallContribNbextensionsApp] Out of date: C:\\ProgramData\\jupyter\\nbextensions\\latex_envs\\doc\\LaTeX_envs_menu.png\n",
      "[I 23:24:21 InstallContribNbextensionsApp] Copying: c:\\users\\gurgen\\anaconda3\\lib\\site-packages\\latex_envs\\static\\doc\\LaTeX_envs_menu.png -> C:\\ProgramData\\jupyter\\nbextensions\\latex_envs\\doc\\LaTeX_envs_menu.png\n",
      "[W 23:24:21 InstallContribNbextensionsApp] Out of date: C:\\ProgramData\\jupyter\\nbextensions\\latex_envs\\doc\\latex_env_doc.html\n",
      "[I 23:24:21 InstallContribNbextensionsApp] Copying: c:\\users\\gurgen\\anaconda3\\lib\\site-packages\\latex_envs\\static\\doc\\latex_env_doc.html -> C:\\ProgramData\\jupyter\\nbextensions\\latex_envs\\doc\\latex_env_doc.html\n",
      "[W 23:24:21 InstallContribNbextensionsApp] Out of date: C:\\ProgramData\\jupyter\\nbextensions\\latex_envs\\doc\\latex_env_doc.ipynb\n",
      "[I 23:24:21 InstallContribNbextensionsApp] Copying: c:\\users\\gurgen\\anaconda3\\lib\\site-packages\\latex_envs\\static\\doc\\latex_env_doc.ipynb -> C:\\ProgramData\\jupyter\\nbextensions\\latex_envs\\doc\\latex_env_doc.ipynb\n",
      "[W 23:24:21 InstallContribNbextensionsApp] Out of date: C:\\ProgramData\\jupyter\\nbextensions\\latex_envs\\doc\\latex_env_doc.tex\n",
      "[I 23:24:21 InstallContribNbextensionsApp] Copying: c:\\users\\gurgen\\anaconda3\\lib\\site-packages\\latex_envs\\static\\doc\\latex_env_doc.tex -> C:\\ProgramData\\jupyter\\nbextensions\\latex_envs\\doc\\latex_env_doc.tex\n",
      "[W 23:24:21 InstallContribNbextensionsApp] Out of date: C:\\ProgramData\\jupyter\\nbextensions\\latex_envs\\doc\\main_toolbar.png\n",
      "[I 23:24:21 InstallContribNbextensionsApp] Copying: c:\\users\\gurgen\\anaconda3\\lib\\site-packages\\latex_envs\\static\\doc\\main_toolbar.png -> C:\\ProgramData\\jupyter\\nbextensions\\latex_envs\\doc\\main_toolbar.png\n",
      "[W 23:24:21 InstallContribNbextensionsApp] Out of date: C:\\ProgramData\\jupyter\\nbextensions\\latex_envs\\doc\\README.md\n",
      "[I 23:24:21 InstallContribNbextensionsApp] Copying: c:\\users\\gurgen\\anaconda3\\lib\\site-packages\\latex_envs\\static\\doc\\README.md -> C:\\ProgramData\\jupyter\\nbextensions\\latex_envs\\doc\\README.md\n",
      "[W 23:24:21 InstallContribNbextensionsApp] Out of date: C:\\ProgramData\\jupyter\\nbextensions\\latex_envs\\doc\\Toggles.png\n",
      "[I 23:24:21 InstallContribNbextensionsApp] Copying: c:\\users\\gurgen\\anaconda3\\lib\\site-packages\\latex_envs\\static\\doc\\Toggles.png -> C:\\ProgramData\\jupyter\\nbextensions\\latex_envs\\doc\\Toggles.png\n",
      "[W 23:24:21 InstallContribNbextensionsApp] Out of date: C:\\ProgramData\\jupyter\\nbextensions\\latex_envs\\doc\\.ipynb_checkpoints\\latex_env_doc-checkpoint.ipynb\n",
      "[I 23:24:21 InstallContribNbextensionsApp] Copying: c:\\users\\gurgen\\anaconda3\\lib\\site-packages\\latex_envs\\static\\doc\\.ipynb_checkpoints\\latex_env_doc-checkpoint.ipynb -> C:\\ProgramData\\jupyter\\nbextensions\\latex_envs\\doc\\.ipynb_checkpoints\\latex_env_doc-checkpoint.ipynb\n",
      "[W 23:24:21 InstallContribNbextensionsApp] Out of date: C:\\ProgramData\\jupyter\\nbextensions\\latex_envs\\doc\\latex_env_doc_files\\latex_env_doc_23_2.png\n",
      "[I 23:24:21 InstallContribNbextensionsApp] Copying: c:\\users\\gurgen\\anaconda3\\lib\\site-packages\\latex_envs\\static\\doc\\latex_env_doc_files\\latex_env_doc_23_2.png -> C:\\ProgramData\\jupyter\\nbextensions\\latex_envs\\doc\\latex_env_doc_files\\latex_env_doc_23_2.png\n",
      "[W 23:24:21 InstallContribNbextensionsApp] Out of date: C:\\ProgramData\\jupyter\\nbextensions\\latex_envs\\doc\\latex_env_doc_files\\latex_env_doc_24_2.png\n",
      "[I 23:24:21 InstallContribNbextensionsApp] Copying: c:\\users\\gurgen\\anaconda3\\lib\\site-packages\\latex_envs\\static\\doc\\latex_env_doc_files\\latex_env_doc_24_2.png -> C:\\ProgramData\\jupyter\\nbextensions\\latex_envs\\doc\\latex_env_doc_files\\latex_env_doc_24_2.png\n",
      "[W 23:24:21 InstallContribNbextensionsApp] Out of date: C:\\ProgramData\\jupyter\\nbextensions\\latex_envs\\doc\\latex_env_doc_files\\latex_env_doc_26_2.png\n",
      "[I 23:24:21 InstallContribNbextensionsApp] Copying: c:\\users\\gurgen\\anaconda3\\lib\\site-packages\\latex_envs\\static\\doc\\latex_env_doc_files\\latex_env_doc_26_2.png -> C:\\ProgramData\\jupyter\\nbextensions\\latex_envs\\doc\\latex_env_doc_files\\latex_env_doc_26_2.png\n",
      "[W 23:24:21 InstallContribNbextensionsApp] Out of date: C:\\ProgramData\\jupyter\\nbextensions\\latex_envs\\doc\\latex_env_doc_files\\latex_env_doc_27_2.png\n",
      "[I 23:24:21 InstallContribNbextensionsApp] Copying: c:\\users\\gurgen\\anaconda3\\lib\\site-packages\\latex_envs\\static\\doc\\latex_env_doc_files\\latex_env_doc_27_2.png -> C:\\ProgramData\\jupyter\\nbextensions\\latex_envs\\doc\\latex_env_doc_files\\latex_env_doc_27_2.png\n",
      "[W 23:24:21 InstallContribNbextensionsApp] Out of date: C:\\ProgramData\\jupyter\\nbextensions\\latex_envs\\doc\\latex_env_doc_files\\latex_env_doc_41_0.png\n",
      "[I 23:24:21 InstallContribNbextensionsApp] Copying: c:\\users\\gurgen\\anaconda3\\lib\\site-packages\\latex_envs\\static\\doc\\latex_env_doc_files\\latex_env_doc_41_0.png -> C:\\ProgramData\\jupyter\\nbextensions\\latex_envs\\doc\\latex_env_doc_files\\latex_env_doc_41_0.png\n",
      "[W 23:24:21 InstallContribNbextensionsApp] Out of date: C:\\ProgramData\\jupyter\\nbextensions\\latex_envs\\doc\\latex_env_doc_files\\latex_env_doc_42_0.png\n",
      "[I 23:24:21 InstallContribNbextensionsApp] Copying: c:\\users\\gurgen\\anaconda3\\lib\\site-packages\\latex_envs\\static\\doc\\latex_env_doc_files\\latex_env_doc_42_0.png -> C:\\ProgramData\\jupyter\\nbextensions\\latex_envs\\doc\\latex_env_doc_files\\latex_env_doc_42_0.png\n",
      "[W 23:24:21 InstallContribNbextensionsApp] Out of date: C:\\ProgramData\\jupyter\\nbextensions\\latex_envs\\doc\\latex_env_doc_files\\latex_env_doc_43_0.png\n",
      "[I 23:24:21 InstallContribNbextensionsApp] Copying: c:\\users\\gurgen\\anaconda3\\lib\\site-packages\\latex_envs\\static\\doc\\latex_env_doc_files\\latex_env_doc_43_0.png -> C:\\ProgramData\\jupyter\\nbextensions\\latex_envs\\doc\\latex_env_doc_files\\latex_env_doc_43_0.png\n",
      "[W 23:24:21 InstallContribNbextensionsApp] Out of date: C:\\ProgramData\\jupyter\\nbextensions\\latex_envs\\doc\\latex_env_doc_files\\latex_env_doc_44_0.png\n",
      "[I 23:24:21 InstallContribNbextensionsApp] Copying: c:\\users\\gurgen\\anaconda3\\lib\\site-packages\\latex_envs\\static\\doc\\latex_env_doc_files\\latex_env_doc_44_0.png -> C:\\ProgramData\\jupyter\\nbextensions\\latex_envs\\doc\\latex_env_doc_files\\latex_env_doc_44_0.png\n",
      "[W 23:24:21 InstallContribNbextensionsApp] Out of date: C:\\ProgramData\\jupyter\\nbextensions\\latex_envs\\doc\\latex_env_doc_files\\latex_env_doc_45_0.png\n",
      "[I 23:24:21 InstallContribNbextensionsApp] Copying: c:\\users\\gurgen\\anaconda3\\lib\\site-packages\\latex_envs\\static\\doc\\latex_env_doc_files\\latex_env_doc_45_0.png -> C:\\ProgramData\\jupyter\\nbextensions\\latex_envs\\doc\\latex_env_doc_files\\latex_env_doc_45_0.png\n",
      "[W 23:24:21 InstallContribNbextensionsApp] Out of date: C:\\ProgramData\\jupyter\\nbextensions\\latex_envs\\doc\\latex_env_doc_files\\latex_env_doc_46_0.png\n",
      "[I 23:24:21 InstallContribNbextensionsApp] Copying: c:\\users\\gurgen\\anaconda3\\lib\\site-packages\\latex_envs\\static\\doc\\latex_env_doc_files\\latex_env_doc_46_0.png -> C:\\ProgramData\\jupyter\\nbextensions\\latex_envs\\doc\\latex_env_doc_files\\latex_env_doc_46_0.png\n",
      "[W 23:24:21 InstallContribNbextensionsApp] Out of date: C:\\ProgramData\\jupyter\\nbextensions\\latex_envs\\doc\\latex_env_doc_files\\latex_env_doc_47_0.png\n",
      "[I 23:24:21 InstallContribNbextensionsApp] Copying: c:\\users\\gurgen\\anaconda3\\lib\\site-packages\\latex_envs\\static\\doc\\latex_env_doc_files\\latex_env_doc_47_0.png -> C:\\ProgramData\\jupyter\\nbextensions\\latex_envs\\doc\\latex_env_doc_files\\latex_env_doc_47_0.png\n",
      "[W 23:24:21 InstallContribNbextensionsApp] Out of date: C:\\ProgramData\\jupyter\\nbextensions\\latex_envs\\doc\\latex_env_doc_files\\latex_env_doc_48_0.png\n",
      "[I 23:24:21 InstallContribNbextensionsApp] Copying: c:\\users\\gurgen\\anaconda3\\lib\\site-packages\\latex_envs\\static\\doc\\latex_env_doc_files\\latex_env_doc_48_0.png -> C:\\ProgramData\\jupyter\\nbextensions\\latex_envs\\doc\\latex_env_doc_files\\latex_env_doc_48_0.png\n",
      "[W 23:24:21 InstallContribNbextensionsApp] Out of date: C:\\ProgramData\\jupyter\\nbextensions\\latex_envs\\doc\\latex_env_doc_files\\latex_env_doc_49_0.png\n",
      "[I 23:24:21 InstallContribNbextensionsApp] Copying: c:\\users\\gurgen\\anaconda3\\lib\\site-packages\\latex_envs\\static\\doc\\latex_env_doc_files\\latex_env_doc_49_0.png -> C:\\ProgramData\\jupyter\\nbextensions\\latex_envs\\doc\\latex_env_doc_files\\latex_env_doc_49_0.png\n",
      "[W 23:24:21 InstallContribNbextensionsApp] Out of date: C:\\ProgramData\\jupyter\\nbextensions\\latex_envs\\doc\\latex_env_doc_files\\latex_env_doc_50_0.png\n",
      "[I 23:24:21 InstallContribNbextensionsApp] Copying: c:\\users\\gurgen\\anaconda3\\lib\\site-packages\\latex_envs\\static\\doc\\latex_env_doc_files\\latex_env_doc_50_0.png -> C:\\ProgramData\\jupyter\\nbextensions\\latex_envs\\doc\\latex_env_doc_files\\latex_env_doc_50_0.png\n",
      "[W 23:24:21 InstallContribNbextensionsApp] Out of date: C:\\ProgramData\\jupyter\\nbextensions\\latex_envs\\doc\\latex_env_doc_files\\latex_env_doc_51_0.png\n",
      "[I 23:24:21 InstallContribNbextensionsApp] Copying: c:\\users\\gurgen\\anaconda3\\lib\\site-packages\\latex_envs\\static\\doc\\latex_env_doc_files\\latex_env_doc_51_0.png -> C:\\ProgramData\\jupyter\\nbextensions\\latex_envs\\doc\\latex_env_doc_files\\latex_env_doc_51_0.png\n",
      "[W 23:24:21 InstallContribNbextensionsApp] Out of date: C:\\ProgramData\\jupyter\\nbextensions\\latex_envs\\doc\\latex_env_doc_files\\latex_env_doc_52_0.png\n",
      "[I 23:24:21 InstallContribNbextensionsApp] Copying: c:\\users\\gurgen\\anaconda3\\lib\\site-packages\\latex_envs\\static\\doc\\latex_env_doc_files\\latex_env_doc_52_0.png -> C:\\ProgramData\\jupyter\\nbextensions\\latex_envs\\doc\\latex_env_doc_files\\latex_env_doc_52_0.png\n",
      "[I 23:24:21 InstallContribNbextensionsApp] - Validating: ok\n",
      "[I 23:24:21 InstallContribNbextensionsApp] Installing jupyter_contrib_nbextensions items to config in C:\\ProgramData\\jupyter\n",
      "Enabling: jupyter_nbextensions_configurator\n",
      "- Writing config: C:\\ProgramData\\jupyter\n",
      "    - Validating...\n",
      "      jupyter_nbextensions_configurator 0.4.1 ok\n",
      "Enabling notebook nbextension nbextensions_configurator/config_menu/main...\n",
      "Enabling tree nbextension nbextensions_configurator/tree_tab/main...\n",
      "[I 23:24:21 InstallContribNbextensionsApp] Enabling notebook extension contrib_nbextensions_help_item/main...\n",
      "[I 23:24:21 InstallContribNbextensionsApp]       - Validating: ok\n",
      "[I 23:24:21 InstallContribNbextensionsApp] - Editing config: C:\\ProgramData\\jupyter\\jupyter_nbconvert_config.json\n",
      "[I 23:24:21 InstallContribNbextensionsApp] --  Configuring nbconvert template path\n",
      "[I 23:24:21 InstallContribNbextensionsApp] --  Configuring nbconvert preprocessors\n",
      "[I 23:24:21 InstallContribNbextensionsApp] - Writing config: C:\\ProgramData\\jupyter\\jupyter_nbconvert_config.json\n",
      "[I 23:24:21 InstallContribNbextensionsApp] --  Writing updated config file C:\\ProgramData\\jupyter\\jupyter_nbconvert_config.json\n"
     ]
    }
   ],
   "source": [
    "pip install jupyter_contrib_nbextensions && jupyter contrib nbextension install "
   ]
  },
  {
   "cell_type": "markdown",
   "metadata": {},
   "source": [
    "## Create an array"
   ]
  },
  {
   "cell_type": "markdown",
   "metadata": {},
   "source": [
    "**help** is a handy built-in python function, returns the description of your object, if such a description exeists  (it does exist for most liberary functions and classes)"
   ]
  },
  {
   "cell_type": "code",
   "execution_count": 2,
   "metadata": {
    "ExecuteTime": {
     "end_time": "2021-02-17T19:22:38.526243Z",
     "start_time": "2021-02-17T19:22:38.513379Z"
    },
    "scrolled": true
   },
   "outputs": [
    {
     "name": "stdout",
     "output_type": "stream",
     "text": [
      "Help on built-in function array in module numpy:\n",
      "\n",
      "array(...)\n",
      "    array(object, dtype=None, *, copy=True, order='K', subok=False, ndmin=0)\n",
      "    \n",
      "    Create an array.\n",
      "    \n",
      "    Parameters\n",
      "    ----------\n",
      "    object : array_like\n",
      "        An array, any object exposing the array interface, an object whose\n",
      "        __array__ method returns an array, or any (nested) sequence.\n",
      "    dtype : data-type, optional\n",
      "        The desired data-type for the array.  If not given, then the type will\n",
      "        be determined as the minimum type required to hold the objects in the\n",
      "        sequence.\n",
      "    copy : bool, optional\n",
      "        If true (default), then the object is copied.  Otherwise, a copy will\n",
      "        only be made if __array__ returns a copy, if obj is a nested sequence,\n",
      "        or if a copy is needed to satisfy any of the other requirements\n",
      "        (`dtype`, `order`, etc.).\n",
      "    order : {'K', 'A', 'C', 'F'}, optional\n",
      "        Specify the memory layout of the array. If object is not an array, the\n",
      "        newly created array will be in C order (row major) unless 'F' is\n",
      "        specified, in which case it will be in Fortran order (column major).\n",
      "        If object is an array the following holds.\n",
      "    \n",
      "        ===== ========= ===================================================\n",
      "        order  no copy                     copy=True\n",
      "        ===== ========= ===================================================\n",
      "        'K'   unchanged F & C order preserved, otherwise most similar order\n",
      "        'A'   unchanged F order if input is F and not C, otherwise C order\n",
      "        'C'   C order   C order\n",
      "        'F'   F order   F order\n",
      "        ===== ========= ===================================================\n",
      "    \n",
      "        When ``copy=False`` and a copy is made for other reasons, the result is\n",
      "        the same as if ``copy=True``, with some exceptions for `A`, see the\n",
      "        Notes section. The default order is 'K'.\n",
      "    subok : bool, optional\n",
      "        If True, then sub-classes will be passed-through, otherwise\n",
      "        the returned array will be forced to be a base-class array (default).\n",
      "    ndmin : int, optional\n",
      "        Specifies the minimum number of dimensions that the resulting\n",
      "        array should have.  Ones will be pre-pended to the shape as\n",
      "        needed to meet this requirement.\n",
      "    \n",
      "    Returns\n",
      "    -------\n",
      "    out : ndarray\n",
      "        An array object satisfying the specified requirements.\n",
      "    \n",
      "    See Also\n",
      "    --------\n",
      "    empty_like : Return an empty array with shape and type of input.\n",
      "    ones_like : Return an array of ones with shape and type of input.\n",
      "    zeros_like : Return an array of zeros with shape and type of input.\n",
      "    full_like : Return a new array with shape of input filled with value.\n",
      "    empty : Return a new uninitialized array.\n",
      "    ones : Return a new array setting values to one.\n",
      "    zeros : Return a new array setting values to zero.\n",
      "    full : Return a new array of given shape filled with value.\n",
      "    \n",
      "    \n",
      "    Notes\n",
      "    -----\n",
      "    When order is 'A' and `object` is an array in neither 'C' nor 'F' order,\n",
      "    and a copy is forced by a change in dtype, then the order of the result is\n",
      "    not necessarily 'C' as expected. This is likely a bug.\n",
      "    \n",
      "    Examples\n",
      "    --------\n",
      "    >>> np.array([1, 2, 3])\n",
      "    array([1, 2, 3])\n",
      "    \n",
      "    Upcasting:\n",
      "    \n",
      "    >>> np.array([1, 2, 3.0])\n",
      "    array([ 1.,  2.,  3.])\n",
      "    \n",
      "    More than one dimension:\n",
      "    \n",
      "    >>> np.array([[1, 2], [3, 4]])\n",
      "    array([[1, 2],\n",
      "           [3, 4]])\n",
      "    \n",
      "    Minimum dimensions 2:\n",
      "    \n",
      "    >>> np.array([1, 2, 3], ndmin=2)\n",
      "    array([[1, 2, 3]])\n",
      "    \n",
      "    Type provided:\n",
      "    \n",
      "    >>> np.array([1, 2, 3], dtype=complex)\n",
      "    array([ 1.+0.j,  2.+0.j,  3.+0.j])\n",
      "    \n",
      "    Data-type consisting of more than one element:\n",
      "    \n",
      "    >>> x = np.array([(1,2),(3,4)],dtype=[('a','<i4'),('b','<i4')])\n",
      "    >>> x['a']\n",
      "    array([1, 3])\n",
      "    \n",
      "    Creating an array from sub-classes:\n",
      "    \n",
      "    >>> np.array(np.mat('1 2; 3 4'))\n",
      "    array([[1, 2],\n",
      "           [3, 4]])\n",
      "    \n",
      "    >>> np.array(np.mat('1 2; 3 4'), subok=True)\n",
      "    matrix([[1, 2],\n",
      "            [3, 4]])\n",
      "\n"
     ]
    }
   ],
   "source": [
    "help(np.array)"
   ]
  },
  {
   "cell_type": "markdown",
   "metadata": {},
   "source": [
    "The variable `matrix` contains a list of lists. Turn it into an `ndarray` and assign it to the variable `myarray`. Verify that its type is correct."
   ]
  },
  {
   "cell_type": "code",
   "execution_count": 3,
   "metadata": {
    "ExecuteTime": {
     "end_time": "2021-02-17T19:22:39.810612Z",
     "start_time": "2021-02-17T19:22:39.784824Z"
    }
   },
   "outputs": [
    {
     "data": {
      "text/plain": [
       "array([[0, 1, 2, 3],\n",
       "       [4, 5, 6, 7]])"
      ]
     },
     "execution_count": 3,
     "metadata": {},
     "output_type": "execute_result"
    }
   ],
   "source": [
    "matrix = [[0,1,2,3], [4,5,6,7]]\n",
    "myarray = np.array(matrix)\n",
    "myarray"
   ]
  },
  {
   "cell_type": "code",
   "execution_count": 4,
   "metadata": {
    "ExecuteTime": {
     "end_time": "2021-02-17T19:22:39.947090Z",
     "start_time": "2021-02-17T19:22:39.931044Z"
    }
   },
   "outputs": [
    {
     "name": "stdout",
     "output_type": "stream",
     "text": [
      "<class 'list'>\n",
      "<class 'numpy.ndarray'>\n"
     ]
    }
   ],
   "source": [
    "print(type(matrix))\n",
    "print(type(myarray))"
   ]
  },
  {
   "cell_type": "markdown",
   "metadata": {},
   "source": [
    "For practicing purposes, arrays can conveniently be created with the `arange` method."
   ]
  },
  {
   "cell_type": "code",
   "execution_count": 5,
   "metadata": {
    "ExecuteTime": {
     "end_time": "2021-02-17T19:17:53.899355Z",
     "start_time": "2021-02-17T19:17:53.878251Z"
    }
   },
   "outputs": [
    {
     "data": {
      "text/plain": [
       "array([0, 1, 2, 3, 4, 5])"
      ]
     },
     "execution_count": 5,
     "metadata": {},
     "output_type": "execute_result"
    }
   ],
   "source": [
    "myarray1 = np.arange(6)\n",
    "myarray1"
   ]
  },
  {
   "cell_type": "code",
   "execution_count": 6,
   "metadata": {
    "ExecuteTime": {
     "end_time": "2021-02-17T19:17:53.917139Z",
     "start_time": "2021-02-17T19:17:53.901871Z"
    }
   },
   "outputs": [],
   "source": [
    "def array_attributes(a):\n",
    "    for attr in ('ndim', 'size', 'itemsize', 'dtype', 'shape', 'strides'):\n",
    "        print('{:8s}: {}'.format(attr, getattr(a, attr)))"
   ]
  },
  {
   "cell_type": "code",
   "execution_count": 7,
   "metadata": {
    "ExecuteTime": {
     "end_time": "2021-02-17T19:17:53.926148Z",
     "start_time": "2021-02-17T19:17:53.918407Z"
    }
   },
   "outputs": [
    {
     "name": "stdout",
     "output_type": "stream",
     "text": [
      "ndim    : 1\n",
      "size    : 6\n",
      "itemsize: 4\n",
      "dtype   : int32\n",
      "shape   : (6,)\n",
      "strides : (4,)\n"
     ]
    }
   ],
   "source": [
    "array_attributes(myarray1)"
   ]
  },
  {
   "cell_type": "code",
   "execution_count": 8,
   "metadata": {
    "ExecuteTime": {
     "end_time": "2021-02-17T19:17:53.940302Z",
     "start_time": "2021-02-17T19:17:53.930856Z"
    }
   },
   "outputs": [
    {
     "data": {
      "text/plain": [
       "1"
      ]
     },
     "execution_count": 8,
     "metadata": {},
     "output_type": "execute_result"
    }
   ],
   "source": [
    "myarray1.ndim"
   ]
  },
  {
   "cell_type": "code",
   "execution_count": 9,
   "metadata": {
    "ExecuteTime": {
     "end_time": "2021-02-17T19:17:53.955650Z",
     "start_time": "2021-02-17T19:17:53.944212Z"
    }
   },
   "outputs": [
    {
     "data": {
      "text/plain": [
       "8"
      ]
     },
     "execution_count": 9,
     "metadata": {},
     "output_type": "execute_result"
    }
   ],
   "source": [
    "myarray.size"
   ]
  },
  {
   "cell_type": "code",
   "execution_count": 10,
   "metadata": {
    "ExecuteTime": {
     "end_time": "2021-02-17T19:17:53.971153Z",
     "start_time": "2021-02-17T19:17:53.958651Z"
    }
   },
   "outputs": [
    {
     "data": {
      "text/plain": [
       "(4,)"
      ]
     },
     "execution_count": 10,
     "metadata": {},
     "output_type": "execute_result"
    }
   ],
   "source": [
    "myarray1.strides"
   ]
  },
  {
   "cell_type": "markdown",
   "metadata": {},
   "source": [
    "## Data types"
   ]
  },
  {
   "cell_type": "markdown",
   "metadata": {},
   "source": [
    "Use `np.array()` to create arrays containing\n",
    " * floats\n",
    " * complex numbers\n",
    " * booleans\n",
    " * strings\n",
    " \n",
    "and check the `dtype` attribute."
   ]
  },
  {
   "cell_type": "code",
   "execution_count": 11,
   "metadata": {
    "ExecuteTime": {
     "end_time": "2021-02-17T19:17:53.991348Z",
     "start_time": "2021-02-17T19:17:53.974329Z"
    }
   },
   "outputs": [
    {
     "data": {
      "text/plain": [
       "dtype('float64')"
      ]
     },
     "execution_count": 11,
     "metadata": {},
     "output_type": "execute_result"
    }
   ],
   "source": [
    "np.array([[1.0, 2.0], [3.0, 4.0]]).dtype"
   ]
  },
  {
   "cell_type": "code",
   "execution_count": 12,
   "metadata": {
    "ExecuteTime": {
     "end_time": "2021-02-17T19:17:54.006673Z",
     "start_time": "2021-02-17T19:17:53.992344Z"
    }
   },
   "outputs": [
    {
     "data": {
      "text/plain": [
       "dtype('complex128')"
      ]
     },
     "execution_count": 12,
     "metadata": {},
     "output_type": "execute_result"
    }
   ],
   "source": [
    "np.array([[1+2j, 3+4j], [3-4j, 1-2j]]).dtype"
   ]
  },
  {
   "cell_type": "code",
   "execution_count": 13,
   "metadata": {
    "ExecuteTime": {
     "end_time": "2021-02-17T19:17:54.026623Z",
     "start_time": "2021-02-17T19:17:54.011289Z"
    }
   },
   "outputs": [
    {
     "data": {
      "text/plain": [
       "dtype('bool')"
      ]
     },
     "execution_count": 13,
     "metadata": {},
     "output_type": "execute_result"
    }
   ],
   "source": [
    "np.array([True, False]).dtype"
   ]
  },
  {
   "cell_type": "code",
   "execution_count": 14,
   "metadata": {
    "ExecuteTime": {
     "end_time": "2021-02-17T19:17:54.049356Z",
     "start_time": "2021-02-17T19:17:54.030502Z"
    }
   },
   "outputs": [
    {
     "data": {
      "text/plain": [
       "dtype('<U9')"
      ]
     },
     "execution_count": 14,
     "metadata": {},
     "output_type": "execute_result"
    }
   ],
   "source": [
    "np.array(['Python', 'EuroSciPy', 'Erlangen']).dtype"
   ]
  },
  {
   "cell_type": "markdown",
   "metadata": {},
   "source": [
    "Do you understand what is happening in the following statement?"
   ]
  },
  {
   "cell_type": "code",
   "execution_count": 15,
   "metadata": {
    "ExecuteTime": {
     "end_time": "2021-02-17T19:17:54.064920Z",
     "start_time": "2021-02-17T19:17:54.053427Z"
    }
   },
   "outputs": [
    {
     "data": {
      "text/plain": [
       "array([   1,   11,   21,   31,   41,   51,   61,   71,   81,   91,  101,\n",
       "        111,  121, -125, -115, -105], dtype=int8)"
      ]
     },
     "execution_count": 15,
     "metadata": {},
     "output_type": "execute_result"
    }
   ],
   "source": [
    "np.arange(1, 160, 10, dtype=np.int8)"
   ]
  },
  {
   "cell_type": "markdown",
   "metadata": {},
   "source": [
    "## Strides"
   ]
  },
  {
   "cell_type": "code",
   "execution_count": 16,
   "metadata": {
    "ExecuteTime": {
     "end_time": "2021-02-17T19:17:54.080437Z",
     "start_time": "2021-02-17T19:17:54.069130Z"
    }
   },
   "outputs": [
    {
     "data": {
      "text/plain": [
       "array([0, 1, 2, 3, 4, 5])"
      ]
     },
     "execution_count": 16,
     "metadata": {},
     "output_type": "execute_result"
    }
   ],
   "source": [
    "myarray1"
   ]
  },
  {
   "cell_type": "code",
   "execution_count": 17,
   "metadata": {
    "ExecuteTime": {
     "end_time": "2021-02-17T19:17:54.099327Z",
     "start_time": "2021-02-17T19:17:54.084135Z"
    }
   },
   "outputs": [
    {
     "data": {
      "text/plain": [
       "array([[0, 1, 2],\n",
       "       [3, 4, 5]])"
      ]
     },
     "execution_count": 17,
     "metadata": {},
     "output_type": "execute_result"
    }
   ],
   "source": [
    "myarray2 = myarray1.reshape(2, 3)\n",
    "myarray2"
   ]
  },
  {
   "cell_type": "code",
   "execution_count": 18,
   "metadata": {
    "ExecuteTime": {
     "end_time": "2021-02-17T19:17:54.115345Z",
     "start_time": "2021-02-17T19:17:54.102846Z"
    }
   },
   "outputs": [
    {
     "name": "stdout",
     "output_type": "stream",
     "text": [
      "ndim    : 2\n",
      "size    : 6\n",
      "itemsize: 4\n",
      "dtype   : int32\n",
      "shape   : (2, 3)\n",
      "strides : (12, 4)\n"
     ]
    }
   ],
   "source": [
    "array_attributes(myarray2)"
   ]
  },
  {
   "cell_type": "code",
   "execution_count": 19,
   "metadata": {
    "ExecuteTime": {
     "end_time": "2021-02-17T19:17:54.158299Z",
     "start_time": "2021-02-17T19:17:54.120275Z"
    }
   },
   "outputs": [],
   "source": [
    "myarray3 = myarray1.reshape(3, 2)"
   ]
  },
  {
   "cell_type": "code",
   "execution_count": 20,
   "metadata": {
    "ExecuteTime": {
     "end_time": "2021-02-17T19:17:54.174951Z",
     "start_time": "2021-02-17T19:17:54.162643Z"
    }
   },
   "outputs": [
    {
     "data": {
      "text/plain": [
       "array([[0, 1],\n",
       "       [2, 3],\n",
       "       [4, 5]])"
      ]
     },
     "execution_count": 20,
     "metadata": {},
     "output_type": "execute_result"
    }
   ],
   "source": [
    "myarray3"
   ]
  },
  {
   "cell_type": "code",
   "execution_count": 21,
   "metadata": {
    "ExecuteTime": {
     "end_time": "2021-02-17T19:17:54.206470Z",
     "start_time": "2021-02-17T19:17:54.179020Z"
    }
   },
   "outputs": [
    {
     "name": "stdout",
     "output_type": "stream",
     "text": [
      "ndim    : 2\n",
      "size    : 6\n",
      "itemsize: 4\n",
      "dtype   : int32\n",
      "shape   : (3, 2)\n",
      "strides : (8, 4)\n"
     ]
    }
   ],
   "source": [
    "array_attributes(myarray3)"
   ]
  },
  {
   "cell_type": "markdown",
   "metadata": {},
   "source": [
    "## Views"
   ]
  },
  {
   "cell_type": "markdown",
   "metadata": {},
   "source": [
    "Set the first entry of `myarray1` to a new value, e.g. 42."
   ]
  },
  {
   "cell_type": "code",
   "execution_count": 22,
   "metadata": {
    "ExecuteTime": {
     "end_time": "2021-02-17T19:17:54.239965Z",
     "start_time": "2021-02-17T19:17:54.206470Z"
    }
   },
   "outputs": [],
   "source": [
    "myarray2[0, 0] = 0"
   ]
  },
  {
   "cell_type": "code",
   "execution_count": 23,
   "metadata": {
    "ExecuteTime": {
     "end_time": "2021-02-17T19:17:54.266859Z",
     "start_time": "2021-02-17T19:17:54.250191Z"
    }
   },
   "outputs": [
    {
     "data": {
      "text/plain": [
       "array([[0, 1, 2],\n",
       "       [3, 4, 5]])"
      ]
     },
     "execution_count": 23,
     "metadata": {},
     "output_type": "execute_result"
    }
   ],
   "source": [
    "myarray2"
   ]
  },
  {
   "cell_type": "code",
   "execution_count": 24,
   "metadata": {
    "ExecuteTime": {
     "end_time": "2021-02-17T19:17:54.293969Z",
     "start_time": "2021-02-17T19:17:54.274861Z"
    }
   },
   "outputs": [
    {
     "data": {
      "text/plain": [
       "3"
      ]
     },
     "execution_count": 24,
     "metadata": {},
     "output_type": "execute_result"
    }
   ],
   "source": [
    "myarray2[1, 0]"
   ]
  },
  {
   "cell_type": "markdown",
   "metadata": {},
   "source": [
    "What happened to `myarray2`?"
   ]
  },
  {
   "cell_type": "code",
   "execution_count": 25,
   "metadata": {
    "ExecuteTime": {
     "end_time": "2021-02-17T19:17:54.309140Z",
     "start_time": "2021-02-17T19:17:54.298221Z"
    }
   },
   "outputs": [
    {
     "data": {
      "text/plain": [
       "array([0, 1, 2, 3, 4, 5])"
      ]
     },
     "execution_count": 25,
     "metadata": {},
     "output_type": "execute_result"
    }
   ],
   "source": [
    "myarray1"
   ]
  },
  {
   "cell_type": "markdown",
   "metadata": {},
   "source": [
    "What happens when a matrix is transposed?"
   ]
  },
  {
   "cell_type": "code",
   "execution_count": 26,
   "metadata": {
    "ExecuteTime": {
     "end_time": "2021-02-17T19:17:54.332624Z",
     "start_time": "2021-02-17T19:17:54.312840Z"
    }
   },
   "outputs": [
    {
     "data": {
      "text/plain": [
       "array([[0, 1, 2],\n",
       "       [3, 4, 5],\n",
       "       [6, 7, 8]])"
      ]
     },
     "execution_count": 26,
     "metadata": {},
     "output_type": "execute_result"
    }
   ],
   "source": [
    "a = np.arange(9).reshape(3, 3)\n",
    "a"
   ]
  },
  {
   "cell_type": "code",
   "execution_count": 27,
   "metadata": {
    "ExecuteTime": {
     "end_time": "2021-02-17T19:17:54.352744Z",
     "start_time": "2021-02-17T19:17:54.333625Z"
    }
   },
   "outputs": [
    {
     "data": {
      "text/plain": [
       "array([[0, 3, 6],\n",
       "       [1, 4, 7],\n",
       "       [2, 5, 8]])"
      ]
     },
     "execution_count": 27,
     "metadata": {},
     "output_type": "execute_result"
    }
   ],
   "source": [
    "a.T"
   ]
  },
  {
   "cell_type": "code",
   "execution_count": 28,
   "metadata": {
    "ExecuteTime": {
     "end_time": "2021-02-17T19:17:54.368638Z",
     "start_time": "2021-02-17T19:17:54.356767Z"
    }
   },
   "outputs": [
    {
     "data": {
      "text/plain": [
       "array([ 0,  1,  2,  3,  4,  5,  6,  7,  8,  9, 10, 11, 12, 13, 14, 15, 16,\n",
       "       17, 18, 19, 20, 21, 22, 23, 24, 25, 26])"
      ]
     },
     "execution_count": 28,
     "metadata": {},
     "output_type": "execute_result"
    }
   ],
   "source": [
    "b = np.arange(27)\n",
    "b"
   ]
  },
  {
   "cell_type": "code",
   "execution_count": 29,
   "metadata": {
    "ExecuteTime": {
     "end_time": "2021-02-17T19:17:54.384229Z",
     "start_time": "2021-02-17T19:17:54.369818Z"
    }
   },
   "outputs": [
    {
     "data": {
      "text/plain": [
       "array([[[ 0,  1,  2],\n",
       "        [ 3,  4,  5],\n",
       "        [ 6,  7,  8]],\n",
       "\n",
       "       [[ 9, 10, 11],\n",
       "        [12, 13, 14],\n",
       "        [15, 16, 17]],\n",
       "\n",
       "       [[18, 19, 20],\n",
       "        [21, 22, 23],\n",
       "        [24, 25, 26]]])"
      ]
     },
     "execution_count": 29,
     "metadata": {},
     "output_type": "execute_result"
    }
   ],
   "source": [
    "b.reshape(3, 3, 3)"
   ]
  },
  {
   "cell_type": "markdown",
   "metadata": {},
   "source": [
    "Check the strides!"
   ]
  },
  {
   "cell_type": "code",
   "execution_count": 30,
   "metadata": {
    "ExecuteTime": {
     "end_time": "2021-02-17T19:17:54.402483Z",
     "start_time": "2021-02-17T19:17:54.386224Z"
    }
   },
   "outputs": [
    {
     "data": {
      "text/plain": [
       "(12, 4)"
      ]
     },
     "execution_count": 30,
     "metadata": {},
     "output_type": "execute_result"
    }
   ],
   "source": [
    "a.strides"
   ]
  },
  {
   "cell_type": "code",
   "execution_count": 31,
   "metadata": {
    "ExecuteTime": {
     "end_time": "2021-02-17T19:17:54.415787Z",
     "start_time": "2021-02-17T19:17:54.406928Z"
    }
   },
   "outputs": [
    {
     "data": {
      "text/plain": [
       "(4, 12)"
      ]
     },
     "execution_count": 31,
     "metadata": {},
     "output_type": "execute_result"
    }
   ],
   "source": [
    "a.T.strides"
   ]
  },
  {
   "cell_type": "markdown",
   "metadata": {
    "collapsed": true
   },
   "source": [
    "## Some array creation routines"
   ]
  },
  {
   "cell_type": "markdown",
   "metadata": {},
   "source": [
    "### numerical ranges"
   ]
  },
  {
   "cell_type": "markdown",
   "metadata": {},
   "source": [
    "arange(*start*, *stop*, *step*), *stop* is not included in the array"
   ]
  },
  {
   "cell_type": "code",
   "execution_count": 32,
   "metadata": {
    "ExecuteTime": {
     "end_time": "2021-02-17T19:17:54.430938Z",
     "start_time": "2021-02-17T19:17:54.419888Z"
    }
   },
   "outputs": [
    {
     "data": {
      "text/plain": [
       "array([ 5, 10, 15, 20, 25])"
      ]
     },
     "execution_count": 32,
     "metadata": {},
     "output_type": "execute_result"
    }
   ],
   "source": [
    "np.arange(5, 30, 5)"
   ]
  },
  {
   "cell_type": "markdown",
   "metadata": {},
   "source": [
    "arange resembles range, but also works for floats\n",
    "\n",
    "Create the array [1, 1.1, 1.2, 1.3, 1.4, 1.5]"
   ]
  },
  {
   "cell_type": "code",
   "execution_count": 33,
   "metadata": {
    "ExecuteTime": {
     "end_time": "2021-02-17T19:17:54.447751Z",
     "start_time": "2021-02-17T19:17:54.434447Z"
    }
   },
   "outputs": [
    {
     "data": {
      "text/plain": [
       "array([1. , 1.1, 1.2, 1.3, 1.4, 1.5])"
      ]
     },
     "execution_count": 33,
     "metadata": {},
     "output_type": "execute_result"
    }
   ],
   "source": [
    "np.arange(1, 1.55, 0.1)"
   ]
  },
  {
   "cell_type": "markdown",
   "metadata": {},
   "source": [
    "linspace(*start*, *stop*, *num*) determines the step to produce *num* equally spaced values, *stop* is included\n",
    "\n",
    "Create the array [1., 1.1, 1.2, 1.3, 1.4, 1.5, 1.6, 1.7, 1.8, 1.9, 2.]"
   ]
  },
  {
   "cell_type": "code",
   "execution_count": 34,
   "metadata": {
    "ExecuteTime": {
     "end_time": "2021-02-17T19:17:54.476772Z",
     "start_time": "2021-02-17T19:17:54.451938Z"
    }
   },
   "outputs": [
    {
     "data": {
      "text/plain": [
       "array([1. , 1.1, 1.2, 1.3, 1.4, 1.5, 1.6, 1.7, 1.8, 1.9, 2. ])"
      ]
     },
     "execution_count": 34,
     "metadata": {},
     "output_type": "execute_result"
    }
   ],
   "source": [
    "np.linspace(1, 2, 11)"
   ]
  },
  {
   "cell_type": "markdown",
   "metadata": {},
   "source": [
    "For equally spaced values on a logarithmic scale, use logspace."
   ]
  },
  {
   "cell_type": "code",
   "execution_count": 35,
   "metadata": {
    "ExecuteTime": {
     "end_time": "2021-02-17T19:17:54.493198Z",
     "start_time": "2021-02-17T19:17:54.477769Z"
    }
   },
   "outputs": [
    {
     "data": {
      "text/plain": [
       "array([1.e-02, 1.e-01, 1.e+00, 1.e+01, 1.e+02])"
      ]
     },
     "execution_count": 35,
     "metadata": {},
     "output_type": "execute_result"
    }
   ],
   "source": [
    "np.logspace(-2, 2, 5)"
   ]
  },
  {
   "cell_type": "code",
   "execution_count": 36,
   "metadata": {
    "ExecuteTime": {
     "end_time": "2021-02-17T19:17:54.508365Z",
     "start_time": "2021-02-17T19:17:54.494194Z"
    }
   },
   "outputs": [
    {
     "data": {
      "text/plain": [
       "array([ 1.        ,  1.41421356,  2.        ,  2.82842712,  4.        ,\n",
       "        5.65685425,  8.        , 11.3137085 , 16.        ])"
      ]
     },
     "execution_count": 36,
     "metadata": {},
     "output_type": "execute_result"
    }
   ],
   "source": [
    "np.logspace(0, 4, 9, base=2)"
   ]
  },
  {
   "cell_type": "markdown",
   "metadata": {},
   "source": [
    "## Matplotlib Visualizations\n",
    "#### In the above code, matplotlib.pyplot will be used to both demonstrate the vizualizations cabilities and different methods that Matplotlib offeres and to understand what numpy can do. As they say, it's better to see once then listen seven times :) "
   ]
  },
  {
   "cell_type": "code",
   "execution_count": 37,
   "metadata": {
    "ExecuteTime": {
     "end_time": "2021-02-17T19:18:03.762915Z",
     "start_time": "2021-02-17T19:17:54.512617Z"
    }
   },
   "outputs": [
    {
     "name": "stderr",
     "output_type": "stream",
     "text": [
      "Matplotlib is building the font cache; this may take a moment.\n"
     ]
    }
   ],
   "source": [
    "# matplotlib's pyplot is often (almost always) imported with acrony plt\n",
    "import matplotlib.pyplot as plt"
   ]
  },
  {
   "cell_type": "code",
   "execution_count": 38,
   "metadata": {
    "ExecuteTime": {
     "end_time": "2021-02-17T19:18:03.778152Z",
     "start_time": "2021-02-17T19:18:03.765596Z"
    }
   },
   "outputs": [],
   "source": [
    "%matplotlib inline"
   ]
  },
  {
   "cell_type": "markdown",
   "metadata": {},
   "source": [
    "## The most common way of visualization is plotting wich is implemented as plt.plot finction in matplotlib. \n",
    "### Given input pairs (x, y) it draws a line connecting all the points"
   ]
  },
  {
   "cell_type": "code",
   "execution_count": 39,
   "metadata": {
    "ExecuteTime": {
     "end_time": "2021-02-17T19:18:03.845259Z",
     "start_time": "2021-02-17T19:18:03.781966Z"
    }
   },
   "outputs": [],
   "source": [
    "x = np.linspace(0, 10, 100)\n",
    "y = np.cos(x)\n",
    "x2 = np.linspace(0, 10, 100)\n",
    "y2 = np.sin(x2)"
   ]
  },
  {
   "cell_type": "code",
   "execution_count": 40,
   "metadata": {
    "ExecuteTime": {
     "end_time": "2021-02-17T19:18:04.190722Z",
     "start_time": "2021-02-17T19:18:03.849732Z"
    }
   },
   "outputs": [
    {
     "data": {
      "text/plain": [
       "[<matplotlib.lines.Line2D at 0x18aff44b9a0>]"
      ]
     },
     "execution_count": 40,
     "metadata": {},
     "output_type": "execute_result"
    },
    {
     "data": {
      "image/png": "[encoded data removed]",
      "text/plain": [
       "<Figure size 432x288 with 1 Axes>"
      ]
     },
     "metadata": {
      "needs_background": "light"
     },
     "output_type": "display_data"
    }
   ],
   "source": [
    "plt.plot(x, y, \".\")\n",
    "plt.plot(x2, y2, \">\")"
   ]
  },
  {
   "cell_type": "markdown",
   "metadata": {},
   "source": [
    "### numpy on Homogeneous data"
   ]
  },
  {
   "cell_type": "code",
   "execution_count": 41,
   "metadata": {
    "ExecuteTime": {
     "end_time": "2021-02-17T19:18:04.214955Z",
     "start_time": "2021-02-17T19:18:04.194107Z"
    }
   },
   "outputs": [
    {
     "data": {
      "text/plain": [
       "array([[0., 0., 0., 0.],\n",
       "       [0., 0., 0., 0.],\n",
       "       [0., 0., 0., 0.],\n",
       "       [0., 0., 0., 0.]])"
      ]
     },
     "execution_count": 41,
     "metadata": {},
     "output_type": "execute_result"
    }
   ],
   "source": [
    "np.zeros((4, 4))"
   ]
  },
  {
   "cell_type": "markdown",
   "metadata": {},
   "source": [
    "Create a 4x4 array with integer zeros"
   ]
  },
  {
   "cell_type": "code",
   "execution_count": 42,
   "metadata": {
    "ExecuteTime": {
     "end_time": "2021-02-17T19:18:04.261189Z",
     "start_time": "2021-02-17T19:18:04.218399Z"
    }
   },
   "outputs": [
    {
     "data": {
      "text/plain": [
       "array([[0, 0, 0, 0],\n",
       "       [0, 0, 0, 0],\n",
       "       [0, 0, 0, 0],\n",
       "       [0, 0, 0, 0]])"
      ]
     },
     "execution_count": 42,
     "metadata": {},
     "output_type": "execute_result"
    }
   ],
   "source": [
    "np.zeros((4, 4), dtype=int)"
   ]
  },
  {
   "cell_type": "code",
   "execution_count": 43,
   "metadata": {
    "ExecuteTime": {
     "end_time": "2021-02-17T19:18:04.276964Z",
     "start_time": "2021-02-17T19:18:04.265571Z"
    }
   },
   "outputs": [
    {
     "data": {
      "text/plain": [
       "array([[[1., 1., 1.],\n",
       "        [1., 1., 1.],\n",
       "        [1., 1., 1.]],\n",
       "\n",
       "       [[1., 1., 1.],\n",
       "        [1., 1., 1.],\n",
       "        [1., 1., 1.]]])"
      ]
     },
     "execution_count": 43,
     "metadata": {},
     "output_type": "execute_result"
    }
   ],
   "source": [
    "np.ones((2, 3, 3))"
   ]
  },
  {
   "cell_type": "markdown",
   "metadata": {},
   "source": [
    "Create a 3x3 array filled with tens"
   ]
  },
  {
   "cell_type": "code",
   "execution_count": 44,
   "metadata": {
    "ExecuteTime": {
     "end_time": "2021-02-17T19:18:04.292501Z",
     "start_time": "2021-02-17T19:18:04.280864Z"
    }
   },
   "outputs": [
    {
     "data": {
      "text/plain": [
       "array([[10., 10., 10.],\n",
       "       [10., 10., 10.],\n",
       "       [10., 10., 10.]])"
      ]
     },
     "execution_count": 44,
     "metadata": {},
     "output_type": "execute_result"
    }
   ],
   "source": [
    "10*np.ones((3, 3))"
   ]
  },
  {
   "cell_type": "markdown",
   "metadata": {},
   "source": [
    "### Diagonal elements"
   ]
  },
  {
   "cell_type": "code",
   "execution_count": 45,
   "metadata": {
    "ExecuteTime": {
     "end_time": "2021-02-17T19:18:04.307810Z",
     "start_time": "2021-02-17T19:18:04.296391Z"
    }
   },
   "outputs": [
    {
     "data": {
      "text/plain": [
       "array([[1, 0, 0, 0],\n",
       "       [0, 2, 0, 0],\n",
       "       [0, 0, 3, 0],\n",
       "       [0, 0, 0, 4]])"
      ]
     },
     "execution_count": 45,
     "metadata": {},
     "output_type": "execute_result"
    }
   ],
   "source": [
    "np.diag([1, 2, 3, 4])"
   ]
  },
  {
   "cell_type": "markdown",
   "metadata": {},
   "source": [
    "diag has an optional argument k. Try to find out what its effect is."
   ]
  },
  {
   "cell_type": "code",
   "execution_count": 46,
   "metadata": {
    "ExecuteTime": {
     "end_time": "2021-02-17T19:18:04.324763Z",
     "start_time": "2021-02-17T19:18:04.311354Z"
    }
   },
   "outputs": [
    {
     "data": {
      "text/plain": [
       "array([[1, 0, 0, 0],\n",
       "       [0, 2, 0, 0],\n",
       "       [0, 0, 3, 0],\n",
       "       [0, 0, 0, 4]])"
      ]
     },
     "execution_count": 46,
     "metadata": {},
     "output_type": "execute_result"
    }
   ],
   "source": [
    "np.diag([1, 2, 3, 4])"
   ]
  },
  {
   "cell_type": "code",
   "execution_count": 47,
   "metadata": {
    "ExecuteTime": {
     "end_time": "2021-02-17T19:18:04.340963Z",
     "start_time": "2021-02-17T19:18:04.328390Z"
    }
   },
   "outputs": [
    {
     "data": {
      "text/plain": [
       "array([[0., 0., 0.],\n",
       "       [0., 0., 0.],\n",
       "       [1., 0., 0.],\n",
       "       [0., 1., 0.]])"
      ]
     },
     "execution_count": 47,
     "metadata": {},
     "output_type": "execute_result"
    }
   ],
   "source": [
    "np.eye(4,3,-2)"
   ]
  },
  {
   "cell_type": "code",
   "execution_count": 48,
   "metadata": {
    "ExecuteTime": {
     "end_time": "2021-02-17T19:18:04.358504Z",
     "start_time": "2021-02-17T19:18:04.344065Z"
    },
    "scrolled": true
   },
   "outputs": [
    {
     "name": "stdout",
     "output_type": "stream",
     "text": [
      " eye(N, M=None, k=0, dtype=<class 'float'>, order='C')\n",
      "\n",
      "Return a 2-D array with ones on the diagonal and zeros elsewhere.\n",
      "\n",
      "Parameters\n",
      "----------\n",
      "N : int\n",
      "  Number of rows in the output.\n",
      "M : int, optional\n",
      "  Number of columns in the output. If None, defaults to `N`.\n",
      "k : int, optional\n",
      "  Index of the diagonal: 0 (the default) refers to the main diagonal,\n",
      "  a positive value refers to an upper diagonal, and a negative value\n",
      "  to a lower diagonal.\n",
      "dtype : data-type, optional\n",
      "  Data-type of the returned array.\n",
      "order : {'C', 'F'}, optional\n",
      "    Whether the output should be stored in row-major (C-style) or\n",
      "    column-major (Fortran-style) order in memory.\n",
      "\n",
      "    .. versionadded:: 1.14.0\n",
      "\n",
      "Returns\n",
      "-------\n",
      "I : ndarray of shape (N,M)\n",
      "  An array where all elements are equal to zero, except for the `k`-th\n",
      "  diagonal, whose values are equal to one.\n",
      "\n",
      "See Also\n",
      "--------\n",
      "identity : (almost) equivalent function\n",
      "diag : diagonal 2-D array from a 1-D array specified by the user.\n",
      "\n",
      "Examples\n",
      "--------\n",
      ">>> np.eye(2, dtype=int)\n",
      "array([[1, 0],\n",
      "       [0, 1]])\n",
      ">>> np.eye(3, k=1)\n",
      "array([[0.,  1.,  0.],\n",
      "       [0.,  0.,  1.],\n",
      "       [0.,  0.,  0.]])\n"
     ]
    }
   ],
   "source": [
    "np.info(np.eye)"
   ]
  },
  {
   "cell_type": "markdown",
   "metadata": {},
   "source": [
    "Create the 3x3 array\n",
    "\n",
    "```[[2, 1, 0],\n",
    " [1, 2, 1],\n",
    " [0, 1, 2]]\n",
    "```"
   ]
  },
  {
   "cell_type": "code",
   "execution_count": 49,
   "metadata": {
    "ExecuteTime": {
     "end_time": "2021-02-17T19:18:04.373675Z",
     "start_time": "2021-02-17T19:18:04.362643Z"
    }
   },
   "outputs": [
    {
     "data": {
      "text/plain": [
       "array([[2., 1., 0.],\n",
       "       [1., 2., 1.],\n",
       "       [0., 1., 2.]])"
      ]
     },
     "execution_count": 49,
     "metadata": {},
     "output_type": "execute_result"
    }
   ],
   "source": [
    "2*np.eye(3)+np.eye(3, k=1)+np.eye(3, k=-1)"
   ]
  },
  {
   "cell_type": "markdown",
   "metadata": {},
   "source": [
    "### Random numbers"
   ]
  },
  {
   "cell_type": "code",
   "execution_count": 50,
   "metadata": {
    "ExecuteTime": {
     "end_time": "2021-02-17T19:18:04.389461Z",
     "start_time": "2021-02-17T19:18:04.376048Z"
    }
   },
   "outputs": [
    {
     "data": {
      "text/plain": [
       "array([[0.60592187, 0.02484961],\n",
       "       [0.0218646 , 0.65577996],\n",
       "       [0.11354639, 0.99788557],\n",
       "       [0.69882659, 0.08545429],\n",
       "       [0.8157688 , 0.18393297],\n",
       "       [0.5761162 , 0.78410539],\n",
       "       [0.54213766, 0.86692693],\n",
       "       [0.84920746, 0.67026708],\n",
       "       [0.50192212, 0.1452915 ],\n",
       "       [0.99294478, 0.83972275]])"
      ]
     },
     "execution_count": 50,
     "metadata": {},
     "output_type": "execute_result"
    }
   ],
   "source": [
    "np.random.rand(10, 2)"
   ]
  },
  {
   "cell_type": "code",
   "execution_count": 51,
   "metadata": {
    "ExecuteTime": {
     "end_time": "2021-02-17T19:18:04.408045Z",
     "start_time": "2021-02-17T19:18:04.391402Z"
    }
   },
   "outputs": [
    {
     "data": {
      "text/plain": [
       "array([[0.19151945, 0.62210877],\n",
       "       [0.43772774, 0.78535858],\n",
       "       [0.77997581, 0.27259261],\n",
       "       [0.27646426, 0.80187218],\n",
       "       [0.95813935, 0.87593263]])"
      ]
     },
     "execution_count": 51,
     "metadata": {},
     "output_type": "execute_result"
    }
   ],
   "source": [
    "np.random.seed(1234)\n",
    "np.random.rand(5, 2)"
   ]
  },
  {
   "cell_type": "markdown",
   "metadata": {},
   "source": [
    "## imshow is a useful function that visualizes 2D and 3D matrices by drawing them as a picutre\n",
    "### higher intensity indicates a bigger value at that location in the matrix"
   ]
  },
  {
   "cell_type": "code",
   "execution_count": 52,
   "metadata": {
    "ExecuteTime": {
     "end_time": "2021-02-17T19:18:04.763735Z",
     "start_time": "2021-02-17T19:18:04.412034Z"
    }
   },
   "outputs": [
    {
     "data": {
      "image/png": "[encoded data removed]",
      "text/plain": [
       "<Figure size 432x288 with 2 Axes>"
      ]
     },
     "metadata": {
      "needs_background": "light"
     },
     "output_type": "display_data"
    }
   ],
   "source": [
    "data = np.random.rand(20, 20)\n",
    "plt.imshow(data, cmap=plt.cm.Accent, interpolation='none')\n",
    "plt.colorbar();"
   ]
  },
  {
   "cell_type": "markdown",
   "metadata": {},
   "source": [
    "You can also visualize the matrix as a grayscale image, where darker colors indicate greater values"
   ]
  },
  {
   "cell_type": "code",
   "execution_count": 53,
   "metadata": {
    "ExecuteTime": {
     "end_time": "2021-02-17T19:18:05.127817Z",
     "start_time": "2021-02-17T19:18:04.767395Z"
    }
   },
   "outputs": [
    {
     "data": {
      "text/plain": [
       "<matplotlib.colorbar.Colorbar at 0x18aff625640>"
      ]
     },
     "execution_count": 53,
     "metadata": {},
     "output_type": "execute_result"
    },
    {
     "data": {
      "image/png": "[encoded data removed]",
      "text/plain": [
       "<Figure size 432x288 with 2 Axes>"
      ]
     },
     "metadata": {
      "needs_background": "light"
     },
     "output_type": "display_data"
    }
   ],
   "source": [
    "data = np.random.rand(20, 20)\n",
    "plt.imshow(data, cmap=\"gray\", interpolation='nearest')\n",
    "plt.colorbar()"
   ]
  },
  {
   "cell_type": "markdown",
   "metadata": {},
   "source": [
    "## Another great visualization tool is hist, which draws the histogram of the input with given number of bins and custom adjustable bin coordinates"
   ]
  },
  {
   "cell_type": "code",
   "execution_count": 54,
   "metadata": {
    "ExecuteTime": {
     "end_time": "2021-02-17T19:18:05.377671Z",
     "start_time": "2021-02-17T19:18:05.130508Z"
    }
   },
   "outputs": [
    {
     "data": {
      "text/plain": [
       "(array([[17., 15., 14., 24., 13., 17.],\n",
       "        [21., 17., 10., 22., 16., 14.],\n",
       "        [19., 21., 17., 18., 14., 11.]]),\n",
       " array([0.5, 1.5, 2.5, 3.5, 4.5, 5.5, 6.5]),\n",
       " <a list of 3 BarContainer objects>)"
      ]
     },
     "execution_count": 54,
     "metadata": {},
     "output_type": "execute_result"
    },
    {
     "data": {
      "image/png": "[encoded data removed]",
      "text/plain": [
       "<Figure size 432x288 with 1 Axes>"
      ]
     },
     "metadata": {
      "needs_background": "light"
     },
     "output_type": "display_data"
    }
   ],
   "source": [
    "casts = np.random.randint(1, 7, (100, 3))\n",
    "plt.hist(casts, np.linspace(0.5, 6.5, 7))"
   ]
  },
  {
   "cell_type": "code",
   "execution_count": 55,
   "metadata": {
    "ExecuteTime": {
     "end_time": "2021-02-17T19:18:05.394027Z",
     "start_time": "2021-02-17T19:18:05.380281Z"
    }
   },
   "outputs": [
    {
     "data": {
      "text/plain": [
       "(100, 3)"
      ]
     },
     "execution_count": 55,
     "metadata": {},
     "output_type": "execute_result"
    }
   ],
   "source": [
    "casts.shape"
   ]
  },
  {
   "cell_type": "code",
   "execution_count": 56,
   "metadata": {
    "ExecuteTime": {
     "end_time": "2021-02-17T19:18:05.450891Z",
     "start_time": "2021-02-17T19:18:05.399449Z"
    },
    "scrolled": true
   },
   "outputs": [],
   "source": [
    "r = np.random.normal(0,1,20000)"
   ]
  },
  {
   "cell_type": "code",
   "execution_count": 57,
   "metadata": {
    "ExecuteTime": {
     "end_time": "2021-02-17T19:18:05.980383Z",
     "start_time": "2021-02-17T19:18:05.453011Z"
    }
   },
   "outputs": [
    {
     "data": {
      "image/png": "[encoded data removed]",
      "text/plain": [
       "<Figure size 432x288 with 1 Axes>"
      ]
     },
     "metadata": {
      "needs_background": "light"
     },
     "output_type": "display_data"
    }
   ],
   "source": [
    "plt.hist(r, bins=100)\n",
    "plt.show()"
   ]
  },
  {
   "cell_type": "markdown",
   "metadata": {},
   "source": [
    "## Last common method of visualization if scatter plotting. \n",
    "### It's the same as plot, but without connecting the point"
   ]
  },
  {
   "cell_type": "code",
   "execution_count": 58,
   "metadata": {
    "ExecuteTime": {
     "end_time": "2021-02-17T19:18:06.306180Z",
     "start_time": "2021-02-17T19:18:05.984352Z"
    }
   },
   "outputs": [
    {
     "data": {
      "text/plain": [
       "<matplotlib.collections.PathCollection at 0x18aff88aee0>"
      ]
     },
     "execution_count": 58,
     "metadata": {},
     "output_type": "execute_result"
    },
    {
     "data": {
      "image/png": "[encoded data removed]",
      "text/plain": [
       "<Figure size 432x288 with 1 Axes>"
      ]
     },
     "metadata": {
      "needs_background": "light"
     },
     "output_type": "display_data"
    }
   ],
   "source": [
    "x, y = np.random.normal(-1, 1, 100), np.random.uniform(-1, 1, 100)\n",
    "plt.scatter(x, y)"
   ]
  },
  {
   "cell_type": "markdown",
   "metadata": {},
   "source": [
    "***Histograms, Plots, Scatter Plots and imshow function are the most used tools for data visualization and most likely these 4 will suffice for all your needs***"
   ]
  },
  {
   "cell_type": "markdown",
   "metadata": {},
   "source": [
    "## Indexing and slicing"
   ]
  },
  {
   "cell_type": "markdown",
   "metadata": {},
   "source": [
    "### 1d arrays"
   ]
  },
  {
   "cell_type": "code",
   "execution_count": 59,
   "metadata": {
    "ExecuteTime": {
     "end_time": "2021-02-17T19:18:06.321324Z",
     "start_time": "2021-02-17T19:18:06.307178Z"
    }
   },
   "outputs": [
    {
     "data": {
      "text/plain": [
       "array([0, 1, 2, 3, 4, 5, 6, 7, 8, 9])"
      ]
     },
     "execution_count": 59,
     "metadata": {},
     "output_type": "execute_result"
    }
   ],
   "source": [
    "a = np.arange(10)\n",
    "a"
   ]
  },
  {
   "cell_type": "markdown",
   "metadata": {},
   "source": [
    "Create the array [7, 8, 9]"
   ]
  },
  {
   "cell_type": "code",
   "execution_count": 60,
   "metadata": {
    "ExecuteTime": {
     "end_time": "2021-02-17T19:18:06.380228Z",
     "start_time": "2021-02-17T19:18:06.324505Z"
    }
   },
   "outputs": [
    {
     "data": {
      "text/plain": [
       "array([7, 8, 9])"
      ]
     },
     "execution_count": 60,
     "metadata": {},
     "output_type": "execute_result"
    }
   ],
   "source": [
    "a[7:]"
   ]
  },
  {
   "cell_type": "markdown",
   "metadata": {},
   "source": [
    "Create the array [2, 4, 6, 8]"
   ]
  },
  {
   "cell_type": "code",
   "execution_count": 61,
   "metadata": {
    "ExecuteTime": {
     "end_time": "2021-02-17T19:18:06.405970Z",
     "start_time": "2021-02-17T19:18:06.382222Z"
    }
   },
   "outputs": [
    {
     "data": {
      "text/plain": [
       "array([2, 4, 6, 8])"
      ]
     },
     "execution_count": 61,
     "metadata": {},
     "output_type": "execute_result"
    }
   ],
   "source": [
    "a[2::2]"
   ]
  },
  {
   "cell_type": "markdown",
   "metadata": {},
   "source": [
    "Create the array [9, 8, 7, 6, 5, 4, 3, 2, 1, 0]"
   ]
  },
  {
   "cell_type": "code",
   "execution_count": 62,
   "metadata": {
    "ExecuteTime": {
     "end_time": "2021-02-17T19:18:06.426666Z",
     "start_time": "2021-02-17T19:18:06.405970Z"
    }
   },
   "outputs": [
    {
     "data": {
      "text/plain": [
       "array([0, 3, 6, 9])"
      ]
     },
     "execution_count": 62,
     "metadata": {},
     "output_type": "execute_result"
    }
   ],
   "source": [
    "a[::3]"
   ]
  },
  {
   "cell_type": "markdown",
   "metadata": {},
   "source": [
    "### Higher dimensions"
   ]
  },
  {
   "cell_type": "code",
   "execution_count": 63,
   "metadata": {
    "ExecuteTime": {
     "end_time": "2021-02-17T19:18:06.439493Z",
     "start_time": "2021-02-17T19:18:06.430259Z"
    }
   },
   "outputs": [],
   "source": [
    "a = np.arange(40).reshape(5, 8)"
   ]
  },
  {
   "cell_type": "code",
   "execution_count": 64,
   "metadata": {
    "ExecuteTime": {
     "end_time": "2021-02-17T19:18:06.452251Z",
     "start_time": "2021-02-17T19:18:06.439493Z"
    }
   },
   "outputs": [
    {
     "data": {
      "text/plain": [
       "array([[21, 22, 23],\n",
       "       [29, 30, 31],\n",
       "       [37, 38, 39]])"
      ]
     },
     "execution_count": 64,
     "metadata": {},
     "output_type": "execute_result"
    }
   ],
   "source": [
    "a[-3:, -3:]"
   ]
  },
  {
   "cell_type": "code",
   "execution_count": 65,
   "metadata": {
    "ExecuteTime": {
     "end_time": "2021-02-17T19:18:06.474187Z",
     "start_time": "2021-02-17T19:18:06.453249Z"
    }
   },
   "outputs": [
    {
     "data": {
      "text/plain": [
       "array([ 8,  9, 10, 11, 12, 13, 14, 15])"
      ]
     },
     "execution_count": 65,
     "metadata": {},
     "output_type": "execute_result"
    }
   ],
   "source": [
    "a[1]"
   ]
  },
  {
   "cell_type": "code",
   "execution_count": 66,
   "metadata": {
    "ExecuteTime": {
     "end_time": "2021-02-17T19:18:06.496927Z",
     "start_time": "2021-02-17T19:18:06.474187Z"
    }
   },
   "outputs": [
    {
     "data": {
      "text/plain": [
       "array([ 3, 11, 19, 27, 35])"
      ]
     },
     "execution_count": 66,
     "metadata": {},
     "output_type": "execute_result"
    }
   ],
   "source": [
    "a[:, 3]"
   ]
  },
  {
   "cell_type": "code",
   "execution_count": 67,
   "metadata": {
    "ExecuteTime": {
     "end_time": "2021-02-17T19:18:06.515545Z",
     "start_time": "2021-02-17T19:18:06.498921Z"
    }
   },
   "outputs": [
    {
     "data": {
      "text/plain": [
       "array([11, 12, 13])"
      ]
     },
     "execution_count": 67,
     "metadata": {},
     "output_type": "execute_result"
    }
   ],
   "source": [
    "a[1, 3:6]"
   ]
  },
  {
   "cell_type": "code",
   "execution_count": 68,
   "metadata": {
    "ExecuteTime": {
     "end_time": "2021-02-17T19:18:06.555993Z",
     "start_time": "2021-02-17T19:18:06.531274Z"
    }
   },
   "outputs": [
    {
     "data": {
      "text/plain": [
       "array([[ 8, 11, 14],\n",
       "       [24, 27, 30]])"
      ]
     },
     "execution_count": 68,
     "metadata": {},
     "output_type": "execute_result"
    }
   ],
   "source": [
    "a[1::2, ::3]"
   ]
  },
  {
   "cell_type": "markdown",
   "metadata": {},
   "source": [
    "## Fancy indexing ‒ Boolean mask"
   ]
  },
  {
   "cell_type": "code",
   "execution_count": 69,
   "metadata": {
    "ExecuteTime": {
     "end_time": "2021-02-17T19:18:06.580216Z",
     "start_time": "2021-02-17T19:18:06.565499Z"
    }
   },
   "outputs": [],
   "source": [
    "v = np.random.rand(200)\n",
    "b = v[(v > 0.5) + (v < 0.9)]"
   ]
  },
  {
   "cell_type": "code",
   "execution_count": 70,
   "metadata": {
    "ExecuteTime": {
     "end_time": "2021-02-17T19:18:06.596847Z",
     "start_time": "2021-02-17T19:18:06.584173Z"
    }
   },
   "outputs": [],
   "source": [
    "a = np.arange(40).reshape(5, 8)"
   ]
  },
  {
   "cell_type": "code",
   "execution_count": 71,
   "metadata": {
    "ExecuteTime": {
     "end_time": "2021-02-17T19:18:06.614766Z",
     "start_time": "2021-02-17T19:18:06.598843Z"
    }
   },
   "outputs": [
    {
     "data": {
      "text/plain": [
       "200"
      ]
     },
     "execution_count": 71,
     "metadata": {},
     "output_type": "execute_result"
    }
   ],
   "source": [
    "len(b)"
   ]
  },
  {
   "cell_type": "code",
   "execution_count": 72,
   "metadata": {
    "ExecuteTime": {
     "end_time": "2021-02-17T19:18:06.627866Z",
     "start_time": "2021-02-17T19:18:06.614766Z"
    }
   },
   "outputs": [
    {
     "data": {
      "text/plain": [
       "array([[False,  True, False, False,  True, False, False,  True],\n",
       "       [False, False,  True, False, False,  True, False, False],\n",
       "       [ True, False, False,  True, False, False,  True, False],\n",
       "       [False,  True, False, False,  True, False, False,  True],\n",
       "       [False, False,  True, False, False,  True, False, False]])"
      ]
     },
     "execution_count": 72,
     "metadata": {},
     "output_type": "execute_result"
    }
   ],
   "source": [
    "a % 3 == 1"
   ]
  },
  {
   "cell_type": "code",
   "execution_count": 73,
   "metadata": {
    "ExecuteTime": {
     "end_time": "2021-02-17T19:18:06.646361Z",
     "start_time": "2021-02-17T19:18:06.631102Z"
    }
   },
   "outputs": [
    {
     "data": {
      "text/plain": [
       "1"
      ]
     },
     "execution_count": 73,
     "metadata": {},
     "output_type": "execute_result"
    }
   ],
   "source": [
    "False + 1"
   ]
  },
  {
   "cell_type": "code",
   "execution_count": 74,
   "metadata": {
    "ExecuteTime": {
     "end_time": "2021-02-17T19:18:06.660239Z",
     "start_time": "2021-02-17T19:18:06.649355Z"
    }
   },
   "outputs": [
    {
     "data": {
      "text/plain": [
       "array([ 1,  4,  7, 10, 13, 16, 19, 22, 25, 28, 31, 34, 37])"
      ]
     },
     "execution_count": 74,
     "metadata": {},
     "output_type": "execute_result"
    }
   ],
   "source": [
    "a[a %3 == 1]"
   ]
  },
  {
   "cell_type": "code",
   "execution_count": 75,
   "metadata": {
    "ExecuteTime": {
     "end_time": "2021-02-17T19:18:06.680192Z",
     "start_time": "2021-02-17T19:18:06.663897Z"
    }
   },
   "outputs": [
    {
     "data": {
      "text/plain": [
       "array([11, 12, 18, 21, 27, 28])"
      ]
     },
     "execution_count": 75,
     "metadata": {},
     "output_type": "execute_result"
    }
   ],
   "source": [
    "a[(1, 1, 2, 2, 3, 3), (3, 4, 2, 5, 3, 4)]"
   ]
  },
  {
   "cell_type": "markdown",
   "metadata": {},
   "source": [
    "## Application: sieve of Eratosthenes"
   ]
  },
  {
   "cell_type": "code",
   "execution_count": 76,
   "metadata": {
    "ExecuteTime": {
     "end_time": "2021-02-17T19:18:06.702885Z",
     "start_time": "2021-02-17T19:18:06.683281Z"
    },
    "scrolled": true
   },
   "outputs": [
    {
     "name": "stdout",
     "output_type": "stream",
     "text": [
      "[ 2  3  4  5  6  7  8  9 10 11 12 13 14 15 16 17 18 19 20 21 22 23 24 25\n",
      " 26 27 28 29 30 31 32 33 34 35 36 37 38 39 40 41 42 43 44 45 46 47 48 49]\n",
      "[ 2  3  5  7  9 11 13 15 17 19 21 23 25 27 29 31 33 35 37 39 41 43 45 47\n",
      " 49]\n",
      "[ 2  3  5  7 11 13 17 19 23 25 29 31 35 37 41 43 47 49]\n",
      "[ 2  3  5  7 11 13 17 19 23 29 31 37 41 43 47 49]\n",
      "[ 2  3  5  7 11 13 17 19 23 29 31 37 41 43 47]\n"
     ]
    }
   ],
   "source": [
    "nmax = 50\n",
    "integers = np.arange(nmax)\n",
    "is_prime = np.ones(nmax, dtype=bool)\n",
    "is_prime[:2] = False\n",
    "for j in range(2, int(np.sqrt(nmax))+1):\n",
    "    if is_prime[j]:\n",
    "        print(integers[is_prime])\n",
    "        is_prime[j*j::j] = False\n",
    "print(integers[is_prime])"
   ]
  },
  {
   "cell_type": "markdown",
   "metadata": {},
   "source": [
    "## Axes"
   ]
  },
  {
   "cell_type": "markdown",
   "metadata": {},
   "source": [
    "Create an array and calculate the sum over all elements"
   ]
  },
  {
   "cell_type": "code",
   "execution_count": 77,
   "metadata": {
    "ExecuteTime": {
     "end_time": "2021-02-17T19:18:06.723874Z",
     "start_time": "2021-02-17T19:18:06.706768Z"
    }
   },
   "outputs": [
    {
     "data": {
      "text/plain": [
       "array([[0, 1, 2],\n",
       "       [3, 4, 5],\n",
       "       [6, 7, 8]])"
      ]
     },
     "execution_count": 77,
     "metadata": {},
     "output_type": "execute_result"
    }
   ],
   "source": [
    "a = np.arange(9).reshape(3, 3)\n",
    "a"
   ]
  },
  {
   "cell_type": "markdown",
   "metadata": {},
   "source": [
    "Now calculate the sum along axis 0 ..."
   ]
  },
  {
   "cell_type": "code",
   "execution_count": 78,
   "metadata": {
    "ExecuteTime": {
     "end_time": "2021-02-17T19:18:06.737940Z",
     "start_time": "2021-02-17T19:18:06.727703Z"
    }
   },
   "outputs": [
    {
     "data": {
      "text/plain": [
       "array([ 9, 12, 15])"
      ]
     },
     "execution_count": 78,
     "metadata": {},
     "output_type": "execute_result"
    }
   ],
   "source": [
    "np.sum(a, axis=0)"
   ]
  },
  {
   "cell_type": "markdown",
   "metadata": {},
   "source": [
    "and now along axis 1"
   ]
  },
  {
   "cell_type": "code",
   "execution_count": 79,
   "metadata": {
    "ExecuteTime": {
     "end_time": "2021-02-17T19:18:06.758398Z",
     "start_time": "2021-02-17T19:18:06.741436Z"
    }
   },
   "outputs": [
    {
     "data": {
      "text/plain": [
       "array([ 3, 12, 21])"
      ]
     },
     "execution_count": 79,
     "metadata": {},
     "output_type": "execute_result"
    }
   ],
   "source": [
    "np.sum(a, axis=1)"
   ]
  },
  {
   "cell_type": "markdown",
   "metadata": {},
   "source": [
    "Identify the axis in the following array"
   ]
  },
  {
   "cell_type": "code",
   "execution_count": 80,
   "metadata": {
    "ExecuteTime": {
     "end_time": "2021-02-17T19:18:06.779211Z",
     "start_time": "2021-02-17T19:18:06.762277Z"
    }
   },
   "outputs": [
    {
     "data": {
      "text/plain": [
       "array([[[ 0,  1,  2,  3],\n",
       "        [ 4,  5,  6,  7],\n",
       "        [ 8,  9, 10, 11]],\n",
       "\n",
       "       [[12, 13, 14, 15],\n",
       "        [16, 17, 18, 19],\n",
       "        [20, 21, 22, 23]]])"
      ]
     },
     "execution_count": 80,
     "metadata": {},
     "output_type": "execute_result"
    }
   ],
   "source": [
    "a = np.arange(24).reshape(2, 3, 4)\n",
    "a"
   ]
  },
  {
   "cell_type": "code",
   "execution_count": 81,
   "metadata": {
    "ExecuteTime": {
     "end_time": "2021-02-17T19:18:06.796846Z",
     "start_time": "2021-02-17T19:18:06.782205Z"
    }
   },
   "outputs": [
    {
     "data": {
      "text/plain": [
       "array([[12, 14, 16, 18],\n",
       "       [20, 22, 24, 26],\n",
       "       [28, 30, 32, 34]])"
      ]
     },
     "execution_count": 81,
     "metadata": {},
     "output_type": "execute_result"
    }
   ],
   "source": [
    "np.sum(a, axis=0)"
   ]
  },
  {
   "cell_type": "code",
   "execution_count": 82,
   "metadata": {
    "ExecuteTime": {
     "end_time": "2021-02-17T19:18:06.813685Z",
     "start_time": "2021-02-17T19:18:06.800334Z"
    }
   },
   "outputs": [
    {
     "data": {
      "text/plain": [
       "array([[12, 15, 18, 21],\n",
       "       [48, 51, 54, 57]])"
      ]
     },
     "execution_count": 82,
     "metadata": {},
     "output_type": "execute_result"
    }
   ],
   "source": [
    "np.sum(a, axis=1)"
   ]
  },
  {
   "cell_type": "code",
   "execution_count": 83,
   "metadata": {
    "ExecuteTime": {
     "end_time": "2021-02-17T19:18:06.841667Z",
     "start_time": "2021-02-17T19:18:06.815717Z"
    }
   },
   "outputs": [
    {
     "data": {
      "text/plain": [
       "array([[ 6, 22, 38],\n",
       "       [54, 70, 86]])"
      ]
     },
     "execution_count": 83,
     "metadata": {},
     "output_type": "execute_result"
    }
   ],
   "source": [
    "np.sum(a, axis=2)"
   ]
  },
  {
   "cell_type": "markdown",
   "metadata": {},
   "source": [
    "## Axes in more than two dimensions"
   ]
  },
  {
   "cell_type": "markdown",
   "metadata": {},
   "source": [
    "Create a three-dimensional array"
   ]
  },
  {
   "cell_type": "code",
   "execution_count": 84,
   "metadata": {
    "ExecuteTime": {
     "end_time": "2021-02-17T19:18:06.856627Z",
     "start_time": "2021-02-17T19:18:06.845547Z"
    }
   },
   "outputs": [],
   "source": [
    "a = np.arange(24).reshape(2, 3, 4)"
   ]
  },
  {
   "cell_type": "markdown",
   "metadata": {},
   "source": [
    "Produce a two-dimensional array by cutting along axis 0 ..."
   ]
  },
  {
   "cell_type": "code",
   "execution_count": 85,
   "metadata": {
    "ExecuteTime": {
     "end_time": "2021-02-17T19:18:06.869915Z",
     "start_time": "2021-02-17T19:18:06.859318Z"
    }
   },
   "outputs": [
    {
     "data": {
      "text/plain": [
       "array([[ 0,  1,  2,  3],\n",
       "       [ 4,  5,  6,  7],\n",
       "       [ 8,  9, 10, 11]])"
      ]
     },
     "execution_count": 85,
     "metadata": {},
     "output_type": "execute_result"
    }
   ],
   "source": [
    "a[0, :, :]"
   ]
  },
  {
   "cell_type": "markdown",
   "metadata": {},
   "source": [
    "and axis 1 ..."
   ]
  },
  {
   "cell_type": "code",
   "execution_count": 86,
   "metadata": {
    "ExecuteTime": {
     "end_time": "2021-02-17T19:18:06.882070Z",
     "start_time": "2021-02-17T19:18:06.873612Z"
    }
   },
   "outputs": [
    {
     "data": {
      "text/plain": [
       "array([[ 0,  1,  2,  3],\n",
       "       [12, 13, 14, 15]])"
      ]
     },
     "execution_count": 86,
     "metadata": {},
     "output_type": "execute_result"
    }
   ],
   "source": [
    "a[:, 0, :]"
   ]
  },
  {
   "cell_type": "markdown",
   "metadata": {},
   "source": [
    "and axis 2"
   ]
  },
  {
   "cell_type": "code",
   "execution_count": 87,
   "metadata": {
    "ExecuteTime": {
     "end_time": "2021-02-17T19:18:06.897670Z",
     "start_time": "2021-02-17T19:18:06.886731Z"
    }
   },
   "outputs": [
    {
     "data": {
      "text/plain": [
       "array([[ 0,  4,  8],\n",
       "       [12, 16, 20]])"
      ]
     },
     "execution_count": 87,
     "metadata": {},
     "output_type": "execute_result"
    }
   ],
   "source": [
    "a[:, :, 0]"
   ]
  },
  {
   "cell_type": "markdown",
   "metadata": {},
   "source": [
    "What do you get by simply using the index `[0]`?"
   ]
  },
  {
   "cell_type": "code",
   "execution_count": 88,
   "metadata": {
    "ExecuteTime": {
     "end_time": "2021-02-17T19:18:06.919128Z",
     "start_time": "2021-02-17T19:18:06.899696Z"
    }
   },
   "outputs": [
    {
     "data": {
      "text/plain": [
       "array([[ 0,  1,  2,  3],\n",
       "       [ 4,  5,  6,  7],\n",
       "       [ 8,  9, 10, 11]])"
      ]
     },
     "execution_count": 88,
     "metadata": {},
     "output_type": "execute_result"
    }
   ],
   "source": [
    "a[0]"
   ]
  },
  {
   "cell_type": "markdown",
   "metadata": {},
   "source": [
    "What do you get by using `[..., 0]`?"
   ]
  },
  {
   "cell_type": "code",
   "execution_count": 89,
   "metadata": {
    "ExecuteTime": {
     "end_time": "2021-02-17T19:18:06.944086Z",
     "start_time": "2021-02-17T19:18:06.921126Z"
    }
   },
   "outputs": [
    {
     "data": {
      "text/plain": [
       "array([[ 0,  4,  8],\n",
       "       [12, 16, 20]])"
      ]
     },
     "execution_count": 89,
     "metadata": {},
     "output_type": "execute_result"
    }
   ],
   "source": [
    "a[..., 0]"
   ]
  },
  {
   "cell_type": "markdown",
   "metadata": {},
   "source": [
    "## Exploring numerical operations"
   ]
  },
  {
   "cell_type": "code",
   "execution_count": 90,
   "metadata": {
    "ExecuteTime": {
     "end_time": "2021-02-17T19:18:06.972674Z",
     "start_time": "2021-02-17T19:18:06.948039Z"
    }
   },
   "outputs": [
    {
     "data": {
      "text/plain": [
       "(array([0, 1, 2, 3]), array([4, 5, 6, 7]))"
      ]
     },
     "execution_count": 90,
     "metadata": {},
     "output_type": "execute_result"
    }
   ],
   "source": [
    "a = np.arange(4)\n",
    "b = np.arange(4, 8)\n",
    "a, b"
   ]
  },
  {
   "cell_type": "code",
   "execution_count": 91,
   "metadata": {
    "ExecuteTime": {
     "end_time": "2021-02-17T19:18:06.994784Z",
     "start_time": "2021-02-17T19:18:06.972674Z"
    }
   },
   "outputs": [
    {
     "data": {
      "text/plain": [
       "array([ 4,  6,  8, 10])"
      ]
     },
     "execution_count": 91,
     "metadata": {},
     "output_type": "execute_result"
    }
   ],
   "source": [
    "a+b"
   ]
  },
  {
   "cell_type": "code",
   "execution_count": 92,
   "metadata": {
    "ExecuteTime": {
     "end_time": "2021-02-17T19:18:07.014514Z",
     "start_time": "2021-02-17T19:18:06.997870Z"
    }
   },
   "outputs": [
    {
     "data": {
      "text/plain": [
       "array([ 0,  5, 12, 21])"
      ]
     },
     "execution_count": 92,
     "metadata": {},
     "output_type": "execute_result"
    }
   ],
   "source": [
    "a*b"
   ]
  },
  {
   "cell_type": "markdown",
   "metadata": {},
   "source": [
    "Operations are elementwise. Check this by multiplying two 2d array..."
   ]
  },
  {
   "cell_type": "code",
   "execution_count": 93,
   "metadata": {
    "ExecuteTime": {
     "end_time": "2021-02-17T19:18:07.040276Z",
     "start_time": "2021-02-17T19:18:07.014514Z"
    }
   },
   "outputs": [
    {
     "data": {
      "text/plain": [
       "(array([[0, 1],\n",
       "        [2, 3]]),\n",
       " array([[4, 5],\n",
       "        [6, 7]]))"
      ]
     },
     "execution_count": 93,
     "metadata": {},
     "output_type": "execute_result"
    }
   ],
   "source": [
    "a = np.arange(4).reshape(2, 2)\n",
    "b = np.arange(4, 8).reshape(2, 2)\n",
    "a, b"
   ]
  },
  {
   "cell_type": "code",
   "execution_count": 94,
   "metadata": {
    "ExecuteTime": {
     "end_time": "2021-02-17T19:18:07.059408Z",
     "start_time": "2021-02-17T19:18:07.040276Z"
    }
   },
   "outputs": [
    {
     "data": {
      "text/plain": [
       "array([[ 0,  5],\n",
       "       [12, 21]])"
      ]
     },
     "execution_count": 94,
     "metadata": {},
     "output_type": "execute_result"
    }
   ],
   "source": [
    "a*b"
   ]
  },
  {
   "cell_type": "markdown",
   "metadata": {},
   "source": [
    "... and now do a real matrix multiplication"
   ]
  },
  {
   "cell_type": "code",
   "execution_count": 95,
   "metadata": {
    "ExecuteTime": {
     "end_time": "2021-02-17T19:18:07.080087Z",
     "start_time": "2021-02-17T19:18:07.059408Z"
    }
   },
   "outputs": [
    {
     "data": {
      "text/plain": [
       "array([[ 6,  7],\n",
       "       [26, 31]])"
      ]
     },
     "execution_count": 95,
     "metadata": {},
     "output_type": "execute_result"
    }
   ],
   "source": [
    "np.dot(a, b)"
   ]
  },
  {
   "cell_type": "code",
   "execution_count": 96,
   "metadata": {
    "ExecuteTime": {
     "end_time": "2021-02-17T19:18:07.098846Z",
     "start_time": "2021-02-17T19:18:07.082124Z"
    }
   },
   "outputs": [
    {
     "data": {
      "text/plain": [
       "array([[ 6,  7],\n",
       "       [26, 31]])"
      ]
     },
     "execution_count": 96,
     "metadata": {},
     "output_type": "execute_result"
    }
   ],
   "source": [
    "a.dot(b)"
   ]
  },
  {
   "cell_type": "code",
   "execution_count": 97,
   "metadata": {
    "ExecuteTime": {
     "end_time": "2021-02-17T19:18:07.113310Z",
     "start_time": "2021-02-17T19:18:07.098846Z"
    }
   },
   "outputs": [
    {
     "data": {
      "text/plain": [
       "array([[ 6,  7],\n",
       "       [26, 31]])"
      ]
     },
     "execution_count": 97,
     "metadata": {},
     "output_type": "execute_result"
    }
   ],
   "source": [
    "a @ b"
   ]
  },
  {
   "cell_type": "markdown",
   "metadata": {},
   "source": [
    "## Application: Random walk"
   ]
  },
  {
   "cell_type": "code",
   "execution_count": 98,
   "metadata": {
    "ExecuteTime": {
     "end_time": "2021-02-17T19:18:07.465677Z",
     "start_time": "2021-02-17T19:18:07.117359Z"
    }
   },
   "outputs": [
    {
     "data": {
      "text/plain": [
       "(-217.41033223521637,\n",
       " 87.53866141198328,\n",
       " -179.47699769264767,\n",
       " 112.60636590494994)"
      ]
     },
     "execution_count": 98,
     "metadata": {},
     "output_type": "execute_result"
    },
    {
     "data": {
      "image/png": "[encoded data removed]",
      "text/plain": [
       "<Figure size 432x288 with 1 Axes>"
      ]
     },
     "metadata": {
      "needs_background": "light"
     },
     "output_type": "display_data"
    }
   ],
   "source": [
    "length_of_walk = 10000\n",
    "realizations = 5\n",
    "angles = 2*np.pi*np.random.rand(length_of_walk, realizations)\n",
    "\n",
    "x = np.cumsum(np.cos(angles), axis=0)\n",
    "y = np.cumsum(np.sin(angles), axis=0)\n",
    "\n",
    "plt.plot(x, y)\n",
    "plt.axis('scaled')"
   ]
  },
  {
   "cell_type": "code",
   "execution_count": 99,
   "metadata": {
    "ExecuteTime": {
     "end_time": "2021-02-17T19:18:07.740988Z",
     "start_time": "2021-02-17T19:18:07.468400Z"
    }
   },
   "outputs": [
    {
     "data": {
      "text/plain": [
       "[<matplotlib.lines.Line2D at 0x18a800bd310>,\n",
       " <matplotlib.lines.Line2D at 0x18a800bd3d0>,\n",
       " <matplotlib.lines.Line2D at 0x18a800bd490>,\n",
       " <matplotlib.lines.Line2D at 0x18a800bd550>,\n",
       " <matplotlib.lines.Line2D at 0x18a800bd610>]"
      ]
     },
     "execution_count": 99,
     "metadata": {},
     "output_type": "execute_result"
    },
    {
     "data": {
      "image/png": "[encoded data removed]",
      "text/plain": [
       "<Figure size 432x288 with 1 Axes>"
      ]
     },
     "metadata": {
      "needs_background": "light"
     },
     "output_type": "display_data"
    }
   ],
   "source": [
    "plt.plot(np.hypot(x, y))"
   ]
  },
  {
   "cell_type": "code",
   "execution_count": 100,
   "metadata": {
    "ExecuteTime": {
     "end_time": "2021-02-17T19:18:07.989503Z",
     "start_time": "2021-02-17T19:18:07.740988Z"
    }
   },
   "outputs": [
    {
     "data": {
      "text/plain": [
       "(-499.95000000000005, 10498.95, -759.3098207194138, 15967.506235107689)"
      ]
     },
     "execution_count": 100,
     "metadata": {},
     "output_type": "execute_result"
    },
    {
     "data": {
      "image/png": "[encoded data removed]",
      "text/plain": [
       "<Figure size 432x288 with 1 Axes>"
      ]
     },
     "metadata": {
      "needs_background": "light"
     },
     "output_type": "display_data"
    }
   ],
   "source": [
    "plt.plot(np.mean(x**2+y**2, axis=1))\n",
    "plt.axis('scaled')"
   ]
  },
  {
   "cell_type": "markdown",
   "metadata": {},
   "source": [
    "## Let's check the speed"
   ]
  },
  {
   "cell_type": "code",
   "execution_count": 101,
   "metadata": {
    "ExecuteTime": {
     "end_time": "2021-02-17T19:18:09.929520Z",
     "start_time": "2021-02-17T19:18:07.991835Z"
    }
   },
   "outputs": [
    {
     "name": "stdout",
     "output_type": "stream",
     "text": [
      "2.3 ms ± 95 µs per loop (mean ± std. dev. of 7 runs, 100 loops each)\n"
     ]
    }
   ],
   "source": [
    "%%timeit a = np.arange(1000000)\n",
    "a**2"
   ]
  },
  {
   "cell_type": "code",
   "execution_count": 102,
   "metadata": {
    "ExecuteTime": {
     "end_time": "2021-02-17T19:18:12.703670Z",
     "start_time": "2021-02-17T19:18:09.932867Z"
    },
    "scrolled": true
   },
   "outputs": [
    {
     "name": "stdout",
     "output_type": "stream",
     "text": [
      "343 ms ± 23.3 ms per loop (mean ± std. dev. of 7 runs, 1 loop each)\n"
     ]
    }
   ],
   "source": [
    "%%timeit xvals = range(1000000)\n",
    "[xval**2 for xval in xvals]"
   ]
  },
  {
   "cell_type": "code",
   "execution_count": 103,
   "metadata": {
    "ExecuteTime": {
     "end_time": "2021-02-17T19:18:23.374236Z",
     "start_time": "2021-02-17T19:18:12.707166Z"
    }
   },
   "outputs": [
    {
     "name": "stdout",
     "output_type": "stream",
     "text": [
      "1.29 ms ± 209 µs per loop (mean ± std. dev. of 7 runs, 1000 loops each)\n"
     ]
    }
   ],
   "source": [
    "%%timeit a = np.arange(100000)\n",
    "np.sin(a)"
   ]
  },
  {
   "cell_type": "code",
   "execution_count": 104,
   "metadata": {
    "ExecuteTime": {
     "end_time": "2021-02-17T19:18:25.325122Z",
     "start_time": "2021-02-17T19:18:23.374236Z"
    }
   },
   "outputs": [
    {
     "name": "stdout",
     "output_type": "stream",
     "text": [
      "24.1 ms ± 3.77 ms per loop (mean ± std. dev. of 7 runs, 10 loops each)\n"
     ]
    }
   ],
   "source": [
    "%%timeit import math; xvals = range(100000)\n",
    "[math.sin(xval) for xval in xvals]"
   ]
  },
  {
   "cell_type": "markdown",
   "metadata": {},
   "source": [
    "## Broadcasting"
   ]
  },
  {
   "cell_type": "code",
   "execution_count": 105,
   "metadata": {
    "ExecuteTime": {
     "end_time": "2021-02-17T19:18:25.340287Z",
     "start_time": "2021-02-17T19:18:25.327117Z"
    }
   },
   "outputs": [
    {
     "data": {
      "text/plain": [
       "array([[ 0,  1,  2,  3],\n",
       "       [ 4,  5,  6,  7],\n",
       "       [ 8,  9, 10, 11]])"
      ]
     },
     "execution_count": 105,
     "metadata": {},
     "output_type": "execute_result"
    }
   ],
   "source": [
    "a = np.arange(12).reshape(3, 4)\n",
    "a"
   ]
  },
  {
   "cell_type": "code",
   "execution_count": 106,
   "metadata": {
    "ExecuteTime": {
     "end_time": "2021-02-17T19:18:25.407056Z",
     "start_time": "2021-02-17T19:18:25.343127Z"
    }
   },
   "outputs": [
    {
     "data": {
      "text/plain": [
       "array([[ 1,  2,  3,  4],\n",
       "       [ 5,  6,  7,  8],\n",
       "       [ 9, 10, 11, 12]])"
      ]
     },
     "execution_count": 106,
     "metadata": {},
     "output_type": "execute_result"
    }
   ],
   "source": [
    "a+1"
   ]
  },
  {
   "cell_type": "code",
   "execution_count": 107,
   "metadata": {
    "ExecuteTime": {
     "end_time": "2021-02-17T19:18:25.426468Z",
     "start_time": "2021-02-17T19:18:25.410501Z"
    }
   },
   "outputs": [
    {
     "data": {
      "text/plain": [
       "array([[ 0,  2,  4,  6],\n",
       "       [ 4,  6,  8, 10],\n",
       "       [ 8, 10, 12, 14]])"
      ]
     },
     "execution_count": 107,
     "metadata": {},
     "output_type": "execute_result"
    }
   ],
   "source": [
    "a+np.arange(4)"
   ]
  },
  {
   "cell_type": "code",
   "execution_count": 108,
   "metadata": {
    "ExecuteTime": {
     "end_time": "2021-02-17T19:18:25.861366Z",
     "start_time": "2021-02-17T19:18:25.429459Z"
    }
   },
   "outputs": [
    {
     "ename": "ValueError",
     "evalue": "operands could not be broadcast together with shapes (3,4) (3,) ",
     "output_type": "error",
     "traceback": [
      "\u001b[1;31m---------------------------------------------------------------------------\u001b[0m",
      "\u001b[1;31mValueError\u001b[0m                                Traceback (most recent call last)",
      "\u001b[1;32m<ipython-input-108-bc7a7cb5390a>\u001b[0m in \u001b[0;36m<module>\u001b[1;34m\u001b[0m\n\u001b[1;32m----> 1\u001b[1;33m \u001b[0ma\u001b[0m\u001b[1;33m+\u001b[0m\u001b[0mnp\u001b[0m\u001b[1;33m.\u001b[0m\u001b[0marange\u001b[0m\u001b[1;33m(\u001b[0m\u001b[1;36m3\u001b[0m\u001b[1;33m)\u001b[0m \u001b[1;31m#this will trow an error because the dimensions don't fit\u001b[0m\u001b[1;33m\u001b[0m\u001b[1;33m\u001b[0m\u001b[0m\n\u001b[0m",
      "\u001b[1;31mValueError\u001b[0m: operands could not be broadcast together with shapes (3,4) (3,) "
     ]
    }
   ],
   "source": [
    "a+np.arange(3) #this will trow an error because the dimensions don't fit"
   ]
  },
  {
   "cell_type": "code",
   "execution_count": null,
   "metadata": {
    "ExecuteTime": {
     "end_time": "2021-02-17T19:18:25.861366Z",
     "start_time": "2021-02-17T19:17:54.539Z"
    }
   },
   "outputs": [],
   "source": [
    "np.arange(3)"
   ]
  },
  {
   "cell_type": "code",
   "execution_count": null,
   "metadata": {
    "ExecuteTime": {
     "end_time": "2021-02-17T19:18:25.861366Z",
     "start_time": "2021-02-17T19:17:54.549Z"
    }
   },
   "outputs": [],
   "source": [
    "np.arange(3).reshape(3, 1) # after adding a dummy axes, we can now make our addintion"
   ]
  },
  {
   "cell_type": "code",
   "execution_count": null,
   "metadata": {
    "ExecuteTime": {
     "end_time": "2021-02-17T19:18:25.868208Z",
     "start_time": "2021-02-17T19:17:54.557Z"
    }
   },
   "outputs": [],
   "source": [
    "a+np.arange(3).reshape(3, 1)"
   ]
  },
  {
   "cell_type": "code",
   "execution_count": null,
   "metadata": {
    "ExecuteTime": {
     "end_time": "2021-02-17T19:18:25.869397Z",
     "start_time": "2021-02-17T19:17:54.563Z"
    }
   },
   "outputs": [],
   "source": [
    "%%timeit a = np.arange(10000).reshape(100, 100); b = np.ones((100, 100))\n",
    "a+b"
   ]
  },
  {
   "cell_type": "code",
   "execution_count": null,
   "metadata": {
    "ExecuteTime": {
     "end_time": "2021-02-17T19:18:25.871161Z",
     "start_time": "2021-02-17T19:17:54.569Z"
    }
   },
   "outputs": [],
   "source": [
    "%%timeit a = np.arange(10000).reshape(100, 100)\n",
    "a+1"
   ]
  },
  {
   "cell_type": "markdown",
   "metadata": {},
   "source": [
    "Create a multiplication table for the numbers from 1 to 10 starting from two appropriately chosen 1d arrays."
   ]
  },
  {
   "cell_type": "code",
   "execution_count": null,
   "metadata": {
    "ExecuteTime": {
     "end_time": "2021-02-17T19:18:25.873767Z",
     "start_time": "2021-02-17T19:17:54.577Z"
    }
   },
   "outputs": [],
   "source": [
    "np.arange(1, 11)*np.arange(1, 11).reshape(10, 1)"
   ]
  },
  {
   "cell_type": "markdown",
   "metadata": {},
   "source": [
    "As an alternative to `reshape` one can add additional axes with `newaxes`:"
   ]
  },
  {
   "cell_type": "code",
   "execution_count": null,
   "metadata": {
    "ExecuteTime": {
     "end_time": "2021-02-17T19:18:25.875341Z",
     "start_time": "2021-02-17T19:17:54.586Z"
    }
   },
   "outputs": [],
   "source": [
    "a = np.arange(5)\n",
    "b = a[:, np.newaxis]"
   ]
  },
  {
   "cell_type": "markdown",
   "metadata": {},
   "source": [
    "Check the shapes."
   ]
  },
  {
   "cell_type": "code",
   "execution_count": null,
   "metadata": {
    "ExecuteTime": {
     "end_time": "2021-02-17T19:18:25.876338Z",
     "start_time": "2021-02-17T19:17:54.595Z"
    }
   },
   "outputs": [],
   "source": [
    "a.shape, b.shape"
   ]
  },
  {
   "cell_type": "markdown",
   "metadata": {},
   "source": [
    "## Functions of two variables"
   ]
  },
  {
   "cell_type": "code",
   "execution_count": null,
   "metadata": {
    "ExecuteTime": {
     "end_time": "2021-02-17T19:18:25.878507Z",
     "start_time": "2021-02-17T19:17:54.604Z"
    }
   },
   "outputs": [],
   "source": [
    "x = np.linspace(-40, 40, 200)\n",
    "y = x[:, np.newaxis]\n",
    "z = np.sin(np.hypot(x-10, y))+np.sin(np.hypot(x+10, y))\n",
    "plt.imshow(z, cmap='viridis')"
   ]
  },
  {
   "cell_type": "code",
   "execution_count": null,
   "metadata": {
    "ExecuteTime": {
     "end_time": "2021-02-17T19:18:25.879505Z",
     "start_time": "2021-02-17T19:17:54.610Z"
    }
   },
   "outputs": [],
   "source": [
    "x, y = np.mgrid[-10:10:0.1, -10:10:0.1]"
   ]
  },
  {
   "cell_type": "code",
   "execution_count": null,
   "metadata": {
    "ExecuteTime": {
     "end_time": "2021-02-17T19:18:25.881850Z",
     "start_time": "2021-02-17T19:17:54.617Z"
    }
   },
   "outputs": [],
   "source": [
    "plt.imshow(x)\n",
    "plt.colorbar()\n",
    "plt.show()"
   ]
  },
  {
   "cell_type": "code",
   "execution_count": null,
   "metadata": {
    "ExecuteTime": {
     "end_time": "2021-02-17T19:18:25.884131Z",
     "start_time": "2021-02-17T19:17:54.624Z"
    }
   },
   "outputs": [],
   "source": [
    "plt.imshow(y)\n",
    "plt.colorbar()\n",
    "plt.show()"
   ]
  },
  {
   "cell_type": "code",
   "execution_count": null,
   "metadata": {
    "ExecuteTime": {
     "end_time": "2021-02-17T19:18:25.885126Z",
     "start_time": "2021-02-17T19:17:54.631Z"
    }
   },
   "outputs": [],
   "source": [
    "plt.imshow(x*y)\n",
    "plt.colorbar()\n",
    "plt.show()"
   ]
  },
  {
   "cell_type": "code",
   "execution_count": null,
   "metadata": {
    "ExecuteTime": {
     "end_time": "2021-02-17T19:18:25.887534Z",
     "start_time": "2021-02-17T19:17:54.638Z"
    }
   },
   "outputs": [],
   "source": [
    "plt.imshow(np.sin(x*y))"
   ]
  },
  {
   "cell_type": "code",
   "execution_count": null,
   "metadata": {
    "ExecuteTime": {
     "end_time": "2021-02-17T19:18:25.889039Z",
     "start_time": "2021-02-17T19:17:54.645Z"
    }
   },
   "outputs": [],
   "source": [
    "x, y = np.mgrid[-10:10:50j, -10:10:50j]"
   ]
  },
  {
   "cell_type": "code",
   "execution_count": null,
   "metadata": {
    "ExecuteTime": {
     "end_time": "2021-02-17T19:18:25.891137Z",
     "start_time": "2021-02-17T19:17:54.651Z"
    }
   },
   "outputs": [],
   "source": [
    "x"
   ]
  },
  {
   "cell_type": "code",
   "execution_count": null,
   "metadata": {
    "ExecuteTime": {
     "end_time": "2021-02-17T19:18:25.893363Z",
     "start_time": "2021-02-17T19:17:54.658Z"
    }
   },
   "outputs": [],
   "source": [
    "y"
   ]
  },
  {
   "cell_type": "code",
   "execution_count": null,
   "metadata": {
    "ExecuteTime": {
     "end_time": "2021-02-17T19:18:25.895110Z",
     "start_time": "2021-02-17T19:17:54.665Z"
    }
   },
   "outputs": [],
   "source": [
    "plt.imshow(np.arctan2(x, y))"
   ]
  },
  {
   "cell_type": "markdown",
   "metadata": {},
   "source": [
    "It is natural to use broadcasting. Check out what happens when you replace `mgrid` by `ogrid`."
   ]
  },
  {
   "cell_type": "code",
   "execution_count": null,
   "metadata": {
    "ExecuteTime": {
     "end_time": "2021-02-17T19:18:25.898038Z",
     "start_time": "2021-02-17T19:17:54.673Z"
    }
   },
   "outputs": [],
   "source": [
    "x, y = np.ogrid[-10:10:0.1, -10:10:0.1]"
   ]
  },
  {
   "cell_type": "code",
   "execution_count": null,
   "metadata": {
    "ExecuteTime": {
     "end_time": "2021-02-17T19:18:25.900221Z",
     "start_time": "2021-02-17T19:17:54.679Z"
    }
   },
   "outputs": [],
   "source": [
    "x"
   ]
  },
  {
   "cell_type": "code",
   "execution_count": null,
   "metadata": {
    "ExecuteTime": {
     "end_time": "2021-02-17T19:18:25.902226Z",
     "start_time": "2021-02-17T19:17:54.686Z"
    }
   },
   "outputs": [],
   "source": [
    "y"
   ]
  },
  {
   "cell_type": "code",
   "execution_count": null,
   "metadata": {
    "ExecuteTime": {
     "end_time": "2021-02-17T19:18:25.904665Z",
     "start_time": "2021-02-17T19:17:54.693Z"
    },
    "scrolled": true
   },
   "outputs": [],
   "source": [
    "plt.imshow(np.sin(x*y))"
   ]
  },
  {
   "cell_type": "code",
   "execution_count": null,
   "metadata": {
    "ExecuteTime": {
     "end_time": "2021-02-17T19:18:25.906990Z",
     "start_time": "2021-02-17T19:17:54.699Z"
    }
   },
   "outputs": [],
   "source": [
    "x, y = np.ogrid[-10:10:50j, -10:10:50j]"
   ]
  },
  {
   "cell_type": "code",
   "execution_count": null,
   "metadata": {
    "ExecuteTime": {
     "end_time": "2021-02-17T19:18:25.909315Z",
     "start_time": "2021-02-17T19:17:54.706Z"
    }
   },
   "outputs": [],
   "source": [
    "x"
   ]
  },
  {
   "cell_type": "code",
   "execution_count": null,
   "metadata": {
    "ExecuteTime": {
     "end_time": "2021-02-17T19:18:25.911435Z",
     "start_time": "2021-02-17T19:17:54.714Z"
    }
   },
   "outputs": [],
   "source": [
    "y"
   ]
  },
  {
   "cell_type": "code",
   "execution_count": null,
   "metadata": {
    "ExecuteTime": {
     "end_time": "2021-02-17T19:18:25.913006Z",
     "start_time": "2021-02-17T19:17:54.721Z"
    },
    "scrolled": true
   },
   "outputs": [],
   "source": [
    "plt.imshow(np.arctan2(x, y))\n",
    "plt.colorbar()"
   ]
  },
  {
   "cell_type": "markdown",
   "metadata": {},
   "source": [
    "## Application: Mandelbrot set"
   ]
  },
  {
   "cell_type": "code",
   "execution_count": null,
   "metadata": {
    "ExecuteTime": {
     "end_time": "2021-02-17T19:18:25.915864Z",
     "start_time": "2021-02-17T19:17:54.729Z"
    }
   },
   "outputs": [],
   "source": [
    "npts = 300\n",
    "y, x = np.ogrid[-1.5:1.5:300j, -2:1:300j]\n",
    "c = x+1j*y\n",
    "z = c\n",
    "for n in range(50):\n",
    "    z = z**2+c\n",
    "imdata = (np.abs(z) < 50)\n",
    "print(imdata.shape)\n",
    "plt.imshow(imdata, cmap='gray')"
   ]
  },
  {
   "cell_type": "markdown",
   "metadata": {},
   "source": [
    "## Application: π from random numbers"
   ]
  },
  {
   "cell_type": "markdown",
   "metadata": {},
   "source": [
    "Create an array of random numbers and determine the fraction of points with distance from the origin smaller than one. Determine an approximation for π."
   ]
  },
  {
   "cell_type": "code",
   "execution_count": null,
   "metadata": {
    "ExecuteTime": {
     "end_time": "2021-02-17T19:18:25.918007Z",
     "start_time": "2021-02-17T19:17:54.742Z"
    }
   },
   "outputs": [],
   "source": [
    "npts = 100000\n",
    "pts = np.random.rand(2*npts).reshape(2, -1)\n",
    "4*np.count_nonzero(np.hypot(pts[0], pts[1]) < 1)/npts"
   ]
  },
  {
   "cell_type": "markdown",
   "metadata": {
    "collapsed": true
   },
   "source": [
    "## Linear Algebra in NumPy"
   ]
  },
  {
   "cell_type": "code",
   "execution_count": null,
   "metadata": {
    "ExecuteTime": {
     "end_time": "2021-02-17T19:18:25.920311Z",
     "start_time": "2021-02-17T19:17:54.750Z"
    }
   },
   "outputs": [],
   "source": [
    "import numpy.linalg as LA"
   ]
  },
  {
   "cell_type": "code",
   "execution_count": null,
   "metadata": {
    "ExecuteTime": {
     "end_time": "2021-02-17T19:18:25.925293Z",
     "start_time": "2021-02-17T19:17:54.756Z"
    }
   },
   "outputs": [],
   "source": [
    "a = np.arange(4).reshape(2, 2)\n",
    "eigenvalues, eigenvectors = LA.eig(a)\n",
    "eigenvalues"
   ]
  },
  {
   "cell_type": "code",
   "execution_count": null,
   "metadata": {
    "ExecuteTime": {
     "end_time": "2021-02-17T19:18:25.927289Z",
     "start_time": "2021-02-17T19:17:54.762Z"
    }
   },
   "outputs": [],
   "source": [
    "eigenvectors"
   ]
  },
  {
   "cell_type": "markdown",
   "metadata": {},
   "source": [
    "Try out `eigvals` and other methods offered by `linalg` which your are interested in"
   ]
  },
  {
   "cell_type": "code",
   "execution_count": null,
   "metadata": {},
   "outputs": [],
   "source": []
  },
  {
   "cell_type": "code",
   "execution_count": null,
   "metadata": {},
   "outputs": [],
   "source": []
  },
  {
   "cell_type": "code",
   "execution_count": null,
   "metadata": {},
   "outputs": [],
   "source": []
  },
  {
   "cell_type": "markdown",
   "metadata": {},
   "source": [
    "Determine the eigenvalue larger than one appearing in the Fibonacci problem. Verify the result by calculating the ratio of successive Fibonacci numbers. Do you recognize the result?"
   ]
  },
  {
   "cell_type": "code",
   "execution_count": null,
   "metadata": {
    "ExecuteTime": {
     "end_time": "2021-02-17T19:18:25.929477Z",
     "start_time": "2021-02-17T19:17:54.829Z"
    }
   },
   "outputs": [],
   "source": [
    "LA.eigvals(np.array([[1, 1], [1, 0]]))"
   ]
  },
  {
   "cell_type": "code",
   "execution_count": null,
   "metadata": {
    "ExecuteTime": {
     "end_time": "2021-02-17T19:18:25.932486Z",
     "start_time": "2021-02-17T19:17:54.835Z"
    }
   },
   "outputs": [],
   "source": [
    "fnp1, fn = 1, 1\n",
    "for n in range(20):\n",
    "    fnp1, fn = fnp1+fn, fnp1\n",
    "    print(fnp1/fn)"
   ]
  },
  {
   "cell_type": "markdown",
   "metadata": {},
   "source": [
    "## Application: Brownian motion"
   ]
  },
  {
   "cell_type": "markdown",
   "metadata": {},
   "source": [
    "1. Simulate several trajectories for a one-dimensional\n",
    "Brownian motion  \n",
    "Hint: np.random.choice\n",
    "2. Plot the mean distance from the origin as a function\n",
    "of time\n",
    "3. Plot the variance of the trajectories as a function of\n",
    "time\n"
   ]
  },
  {
   "cell_type": "code",
   "execution_count": null,
   "metadata": {
    "ExecuteTime": {
     "end_time": "2021-02-17T19:18:25.933549Z",
     "start_time": "2021-02-17T19:17:54.845Z"
    }
   },
   "outputs": [],
   "source": [
    "stories = 10\n",
    "length = 1000\n",
    "jumps = np.random.choice(np.array([-1, 1]), (stories, length))\n",
    "positions = np.cumsum(jumps, axis=1)"
   ]
  },
  {
   "cell_type": "code",
   "execution_count": null,
   "metadata": {
    "ExecuteTime": {
     "end_time": "2021-02-17T19:18:25.936179Z",
     "start_time": "2021-02-17T19:17:54.851Z"
    }
   },
   "outputs": [],
   "source": [
    "plt.plot(positions.T)"
   ]
  },
  {
   "cell_type": "code",
   "execution_count": null,
   "metadata": {
    "ExecuteTime": {
     "end_time": "2021-02-17T19:18:25.937767Z",
     "start_time": "2021-02-17T19:17:54.857Z"
    }
   },
   "outputs": [],
   "source": [
    "plt.plot(np.mean(positions, axis=0))"
   ]
  },
  {
   "cell_type": "code",
   "execution_count": null,
   "metadata": {
    "ExecuteTime": {
     "end_time": "2021-02-17T19:18:25.940038Z",
     "start_time": "2021-02-17T19:17:54.863Z"
    }
   },
   "outputs": [],
   "source": [
    "plt.plot(np.var(positions, axis=0))"
   ]
  },
  {
   "cell_type": "markdown",
   "metadata": {},
   "source": [
    "## Application: identify entry closest to ½"
   ]
  },
  {
   "cell_type": "markdown",
   "metadata": {},
   "source": [
    "Create a 2d array containing random numbers and generate a vector containing for each row the entry closest to one-half."
   ]
  },
  {
   "cell_type": "code",
   "execution_count": null,
   "metadata": {
    "ExecuteTime": {
     "end_time": "2021-02-17T19:18:25.942901Z",
     "start_time": "2021-02-17T19:17:54.873Z"
    }
   },
   "outputs": [],
   "source": [
    "a = np.random.rand(20).reshape(4, 5)\n",
    "a"
   ]
  },
  {
   "cell_type": "code",
   "execution_count": null,
   "metadata": {
    "ExecuteTime": {
     "end_time": "2021-02-17T19:18:25.944982Z",
     "start_time": "2021-02-17T19:17:54.879Z"
    }
   },
   "outputs": [],
   "source": [
    "a[np.arange(4), np.argsort(np.abs(a-0.5), axis=1)[:, 0]]"
   ]
  },
  {
   "cell_type": "markdown",
   "metadata": {},
   "source": [
    "## Polynomials"
   ]
  },
  {
   "cell_type": "code",
   "execution_count": null,
   "metadata": {
    "ExecuteTime": {
     "end_time": "2021-02-17T19:18:25.948714Z",
     "start_time": "2021-02-17T19:17:54.887Z"
    }
   },
   "outputs": [],
   "source": [
    "from numpy.polynomial import polynomial as P"
   ]
  },
  {
   "cell_type": "markdown",
   "metadata": {},
   "source": [
    "Powers increase from left to right (index corresponds to power)"
   ]
  },
  {
   "cell_type": "code",
   "execution_count": null,
   "metadata": {
    "ExecuteTime": {
     "end_time": "2021-02-17T19:18:25.951214Z",
     "start_time": "2021-02-17T19:17:54.894Z"
    },
    "scrolled": true
   },
   "outputs": [],
   "source": [
    "p1 = P.Polynomial([1, 2])"
   ]
  },
  {
   "cell_type": "code",
   "execution_count": null,
   "metadata": {
    "ExecuteTime": {
     "end_time": "2021-02-17T19:18:25.953308Z",
     "start_time": "2021-02-17T19:17:54.900Z"
    }
   },
   "outputs": [],
   "source": [
    "p1"
   ]
  },
  {
   "cell_type": "code",
   "execution_count": null,
   "metadata": {
    "ExecuteTime": {
     "end_time": "2021-02-17T19:18:25.955465Z",
     "start_time": "2021-02-17T19:17:54.907Z"
    }
   },
   "outputs": [],
   "source": [
    "p1.degree()"
   ]
  },
  {
   "cell_type": "code",
   "execution_count": null,
   "metadata": {
    "ExecuteTime": {
     "end_time": "2021-02-17T19:18:25.957437Z",
     "start_time": "2021-02-17T19:17:54.913Z"
    }
   },
   "outputs": [],
   "source": [
    "p1.roots()"
   ]
  },
  {
   "cell_type": "code",
   "execution_count": null,
   "metadata": {
    "ExecuteTime": {
     "end_time": "2021-02-17T19:18:25.959612Z",
     "start_time": "2021-02-17T19:17:54.919Z"
    },
    "scrolled": true
   },
   "outputs": [],
   "source": [
    "p4 = P.Polynomial([24, -50, 35, -10, 1])"
   ]
  },
  {
   "cell_type": "code",
   "execution_count": null,
   "metadata": {
    "ExecuteTime": {
     "end_time": "2021-02-17T19:18:25.961809Z",
     "start_time": "2021-02-17T19:17:54.925Z"
    }
   },
   "outputs": [],
   "source": [
    "p4.degree()"
   ]
  },
  {
   "cell_type": "code",
   "execution_count": null,
   "metadata": {
    "ExecuteTime": {
     "end_time": "2021-02-17T19:18:25.963798Z",
     "start_time": "2021-02-17T19:17:54.931Z"
    }
   },
   "outputs": [],
   "source": [
    "p4.roots()"
   ]
  },
  {
   "cell_type": "code",
   "execution_count": null,
   "metadata": {
    "ExecuteTime": {
     "end_time": "2021-02-17T19:18:25.965857Z",
     "start_time": "2021-02-17T19:17:54.938Z"
    }
   },
   "outputs": [],
   "source": [
    "p4.deriv()"
   ]
  },
  {
   "cell_type": "code",
   "execution_count": null,
   "metadata": {
    "ExecuteTime": {
     "end_time": "2021-02-17T19:18:25.968911Z",
     "start_time": "2021-02-17T19:17:54.944Z"
    }
   },
   "outputs": [],
   "source": [
    "p4.integ()"
   ]
  },
  {
   "cell_type": "code",
   "execution_count": null,
   "metadata": {
    "ExecuteTime": {
     "end_time": "2021-02-17T19:18:25.970794Z",
     "start_time": "2021-02-17T19:17:54.950Z"
    }
   },
   "outputs": [],
   "source": [
    "P.polydiv(p4.coef, p1.coef)"
   ]
  },
  {
   "cell_type": "markdown",
   "metadata": {},
   "source": [
    "## Application: polynomial fit"
   ]
  },
  {
   "cell_type": "code",
   "execution_count": null,
   "metadata": {
    "ExecuteTime": {
     "end_time": "2021-02-17T19:18:25.973429Z",
     "start_time": "2021-02-17T19:17:54.958Z"
    }
   },
   "outputs": [],
   "source": [
    "x = np.linspace(0, np.pi, 100)\n",
    "y = np.sin(x)+0.2*np.random.rand(100)\n",
    "plt.plot(x, y, 'o')\n",
    "fit = P.Polynomial(P.polyfit(x, y, 2))\n",
    "plt.plot(x, fit(x))"
   ]
  },
  {
   "cell_type": "markdown",
   "metadata": {},
   "source": [
    "## Application: image manipulation"
   ]
  },
  {
   "cell_type": "code",
   "execution_count": null,
   "metadata": {
    "ExecuteTime": {
     "end_time": "2021-02-17T19:18:25.975426Z",
     "start_time": "2021-02-17T19:17:54.966Z"
    }
   },
   "outputs": [],
   "source": [
    "from scipy import misc\n",
    "face = misc.face(gray=True)\n",
    "face"
   ]
  },
  {
   "cell_type": "code",
   "execution_count": null,
   "metadata": {
    "ExecuteTime": {
     "end_time": "2021-02-17T19:18:25.978572Z",
     "start_time": "2021-02-17T19:17:54.972Z"
    }
   },
   "outputs": [],
   "source": [
    "plt.imshow(face, cmap=plt.cm.gray)"
   ]
  },
  {
   "cell_type": "markdown",
   "metadata": {},
   "source": [
    "Modify this image, e.g. convert it to a black and white image, put a black frame, change the contrast, ..."
   ]
  },
  {
   "cell_type": "code",
   "execution_count": null,
   "metadata": {
    "ExecuteTime": {
     "end_time": "2021-02-17T19:18:25.980991Z",
     "start_time": "2021-02-17T19:17:54.981Z"
    }
   },
   "outputs": [],
   "source": [
    "plt.imshow(face > 128, cmap=plt.cm.gray)"
   ]
  },
  {
   "cell_type": "code",
   "execution_count": null,
   "metadata": {
    "ExecuteTime": {
     "end_time": "2021-02-17T19:18:25.982392Z",
     "start_time": "2021-02-17T19:17:54.987Z"
    }
   },
   "outputs": [],
   "source": [
    "framedface = np.zeros_like(face)\n",
    "framedface[30:-31, 30:-31] = face[30:-31, 30:-31]\n",
    "plt.imshow(framedface, cmap=plt.cm.gray)"
   ]
  },
  {
   "cell_type": "code",
   "execution_count": null,
   "metadata": {
    "ExecuteTime": {
     "end_time": "2021-02-17T19:18:25.984565Z",
     "start_time": "2021-02-17T19:17:54.993Z"
    }
   },
   "outputs": [],
   "source": [
    "plt.imshow(255*(face/255)**1.5, cmap=plt.cm.gray)"
   ]
  },
  {
   "cell_type": "code",
   "execution_count": null,
   "metadata": {
    "ExecuteTime": {
     "end_time": "2021-02-17T19:18:25.986353Z",
     "start_time": "2021-02-17T19:17:55.000Z"
    }
   },
   "outputs": [],
   "source": [
    "sy, sx = face.shape\n",
    "y, x = np.ogrid[:sy, :sx]\n",
    "centerx, centery = 660, 300\n",
    "mask = ((y - centery)**2 + (x - centerx)**2) > 230**2\n",
    "face[mask] = 0\n",
    "plt.imshow(face, cmap=plt.cm.gray)"
   ]
  },
  {
   "cell_type": "markdown",
   "metadata": {},
   "source": [
    "# Pandas\n",
    "### The main data type in padnas is DataFrame. A DataFrame is a 2D data structures with potentialy different data types in each column. Each column is a Series object, with index and associated values. Let's first import pandas then create a simple Data Frame by hand \n",
    "Hardcoded Dataframes\n",
    "Hardcoded data frames can be constructed by providing a hash of columns and their values.\n"
   ]
  },
  {
   "cell_type": "code",
   "execution_count": null,
   "metadata": {
    "ExecuteTime": {
     "end_time": "2021-02-17T19:18:25.988962Z",
     "start_time": "2021-02-17T19:17:55.009Z"
    }
   },
   "outputs": [],
   "source": [
    "import pandas as pd"
   ]
  },
  {
   "cell_type": "code",
   "execution_count": null,
   "metadata": {
    "ExecuteTime": {
     "end_time": "2021-02-17T19:18:25.989959Z",
     "start_time": "2021-02-17T19:17:55.015Z"
    }
   },
   "outputs": [],
   "source": [
    "# Most often you're going to read data from a csv file\n",
    "df_from_csv = pd.read_csv('path_to_csv', sep=';')"
   ]
  },
  {
   "cell_type": "code",
   "execution_count": null,
   "metadata": {
    "ExecuteTime": {
     "end_time": "2021-02-17T19:18:25.994903Z",
     "start_time": "2021-02-17T19:17:55.022Z"
    }
   },
   "outputs": [],
   "source": [
    "# pandas provides support tp read from other type of files as well, just press tab for autocomplete after pd.read\n",
    "pd.read"
   ]
  },
  {
   "cell_type": "code",
   "execution_count": null,
   "metadata": {
    "ExecuteTime": {
     "end_time": "2021-02-17T19:18:25.997150Z",
     "start_time": "2021-02-17T19:17:55.028Z"
    }
   },
   "outputs": [],
   "source": [
    "df = pd.DataFrame({\n",
    "   'col1': ['Item0', 'Item0', 'Item1', 'Item1', 'Item2', 'Item2', 'Item3', 'Item3', 'Item0', 'Item1', 'Item1', 'Item2', 'Item2', 'Item3', 'Item3'],\n",
    "   'col2': ['Gold', 'Bronze', 'Gold', 'Silver', 'Gold', 'Bronze', 'Gold', 'Silver', 'Gold', 'Bronze', 'Gold', 'Silver', np.nan, np.nan, np.nan],\n",
    "   'col3': [1, 2, 2, 4, 5, 3, 4, 5, 0, 0.2, 4, 5, -1.5, 0.4, 9]\n",
    "})"
   ]
  },
  {
   "cell_type": "markdown",
   "metadata": {},
   "source": [
    "### As you can see, pandas is more flexible then numpy, because it can handle missing values denoted as NoN and can cantain diferent types of values in its columns.\n",
    "***Note : pandas is build on top of numpy and is an extension of it, using many of the funcitons nummpy has and if you know a funciton from numpy, there's a big chance the same function is also in pandas***"
   ]
  },
  {
   "cell_type": "markdown",
   "metadata": {},
   "source": [
    "#### Previewing data in pandas"
   ]
  },
  {
   "cell_type": "code",
   "execution_count": null,
   "metadata": {
    "ExecuteTime": {
     "end_time": "2021-02-17T19:18:25.999153Z",
     "start_time": "2021-02-17T19:17:55.038Z"
    }
   },
   "outputs": [],
   "source": [
    "n = 7\n",
    "df.head(n) # prints top n rows. Default is 10"
   ]
  },
  {
   "cell_type": "code",
   "execution_count": null,
   "metadata": {
    "ExecuteTime": {
     "end_time": "2021-02-17T19:18:26.001165Z",
     "start_time": "2021-02-17T19:17:55.045Z"
    }
   },
   "outputs": [],
   "source": [
    "df.head(10)"
   ]
  },
  {
   "cell_type": "code",
   "execution_count": null,
   "metadata": {
    "ExecuteTime": {
     "end_time": "2021-02-17T19:18:26.002607Z",
     "start_time": "2021-02-17T19:17:55.051Z"
    }
   },
   "outputs": [],
   "source": [
    "# Similar to head, but displays the last rows\n",
    "df.tail()"
   ]
  },
  {
   "cell_type": "code",
   "execution_count": null,
   "metadata": {
    "ExecuteTime": {
     "end_time": "2021-02-17T19:18:26.004809Z",
     "start_time": "2021-02-17T19:17:55.058Z"
    }
   },
   "outputs": [],
   "source": [
    "# The dimensions of the dataframe as a (rows, cols) tuple\n",
    "df.shape"
   ]
  },
  {
   "cell_type": "code",
   "execution_count": null,
   "metadata": {
    "ExecuteTime": {
     "end_time": "2021-02-17T19:18:26.007931Z",
     "start_time": "2021-02-17T19:17:55.064Z"
    }
   },
   "outputs": [],
   "source": [
    "# The number of columns. Equal to df.shape[0]\n",
    "len(df) "
   ]
  },
  {
   "cell_type": "code",
   "execution_count": null,
   "metadata": {
    "ExecuteTime": {
     "end_time": "2021-02-17T19:18:26.010627Z",
     "start_time": "2021-02-17T19:17:55.070Z"
    }
   },
   "outputs": [],
   "source": [
    "# An array of the column names\n",
    "df.columns "
   ]
  },
  {
   "cell_type": "code",
   "execution_count": null,
   "metadata": {
    "ExecuteTime": {
     "end_time": "2021-02-17T19:18:26.013769Z",
     "start_time": "2021-02-17T19:17:55.077Z"
    }
   },
   "outputs": [],
   "source": [
    "# Columns and their types\n",
    "df.dtypes"
   ]
  },
  {
   "cell_type": "code",
   "execution_count": null,
   "metadata": {
    "ExecuteTime": {
     "end_time": "2021-02-17T19:18:26.015840Z",
     "start_time": "2021-02-17T19:17:55.083Z"
    }
   },
   "outputs": [],
   "source": [
    "# Converts the frame to a two-dimensional table\n",
    "df.values"
   ]
  },
  {
   "cell_type": "code",
   "execution_count": null,
   "metadata": {
    "ExecuteTime": {
     "end_time": "2021-02-17T19:18:26.017940Z",
     "start_time": "2021-02-17T19:17:55.090Z"
    }
   },
   "outputs": [],
   "source": [
    "# Displays descriptive stats for all columns\n",
    "df.describe()"
   ]
  },
  {
   "cell_type": "code",
   "execution_count": null,
   "metadata": {
    "ExecuteTime": {
     "end_time": "2021-02-17T19:18:26.021109Z",
     "start_time": "2021-02-17T19:17:55.098Z"
    }
   },
   "outputs": [],
   "source": [
    "# Sort rows descendingly by the index\n",
    "df.sort_index(axis=0, ascending=False)"
   ]
  },
  {
   "cell_type": "code",
   "execution_count": null,
   "metadata": {
    "ExecuteTime": {
     "end_time": "2021-02-17T19:18:26.024049Z",
     "start_time": "2021-02-17T19:17:55.105Z"
    }
   },
   "outputs": [],
   "source": [
    "# We can also sort by one or multiple columns:\n",
    "df.sort_values(by=['col2', 'col1'], ascending=False)"
   ]
  },
  {
   "cell_type": "markdown",
   "metadata": {},
   "source": [
    "# Selecting and indexing"
   ]
  },
  {
   "cell_type": "code",
   "execution_count": null,
   "metadata": {
    "ExecuteTime": {
     "end_time": "2021-02-17T19:18:26.025901Z",
     "start_time": "2021-02-17T19:17:55.113Z"
    }
   },
   "outputs": [],
   "source": [
    "# Selects only the column named 'col1';\n",
    "df.col1 "
   ]
  },
  {
   "cell_type": "code",
   "execution_count": null,
   "metadata": {
    "ExecuteTime": {
     "end_time": "2021-02-17T19:18:26.027899Z",
     "start_time": "2021-02-17T19:17:55.119Z"
    }
   },
   "outputs": [],
   "source": [
    "# Same as previous\n",
    "df['col1'] "
   ]
  },
  {
   "cell_type": "code",
   "execution_count": null,
   "metadata": {
    "ExecuteTime": {
     "end_time": "2021-02-17T19:18:26.030192Z",
     "start_time": "2021-02-17T19:17:55.126Z"
    }
   },
   "outputs": [],
   "source": [
    "# Select two columns\n",
    "df[['col1', 'col2']]"
   ]
  },
  {
   "cell_type": "markdown",
   "metadata": {},
   "source": [
    "#### You can also select by absolute coordinates/position in the frame. Indices are zero based:"
   ]
  },
  {
   "cell_type": "code",
   "execution_count": null,
   "metadata": {
    "ExecuteTime": {
     "end_time": "2021-02-17T19:18:26.031981Z",
     "start_time": "2021-02-17T19:17:55.134Z"
    }
   },
   "outputs": [],
   "source": [
    "# Selects second row\n",
    "df.iloc[1]"
   ]
  },
  {
   "cell_type": "code",
   "execution_count": null,
   "metadata": {
    "ExecuteTime": {
     "end_time": "2021-02-17T19:18:26.034597Z",
     "start_time": "2021-02-17T19:17:55.141Z"
    }
   },
   "outputs": [],
   "source": [
    "# Selects rows 1-to-3\n",
    "df.iloc[1:3]"
   ]
  },
  {
   "cell_type": "code",
   "execution_count": null,
   "metadata": {
    "ExecuteTime": {
     "end_time": "2021-02-17T19:18:26.036932Z",
     "start_time": "2021-02-17T19:17:55.148Z"
    }
   },
   "outputs": [],
   "source": [
    "# First row, first column\n",
    "df.iloc[0,0]"
   ]
  },
  {
   "cell_type": "code",
   "execution_count": null,
   "metadata": {
    "ExecuteTime": {
     "end_time": "2021-02-17T19:18:26.036932Z",
     "start_time": "2021-02-17T19:17:55.155Z"
    }
   },
   "outputs": [],
   "source": [
    "# First 4 rows and first 2 columns\n",
    "df.iloc[0:4, 0:2]"
   ]
  },
  {
   "cell_type": "code",
   "execution_count": null,
   "metadata": {
    "ExecuteTime": {
     "end_time": "2021-02-17T19:18:26.041577Z",
     "start_time": "2021-02-17T19:17:55.161Z"
    }
   },
   "outputs": [],
   "source": [
    "# say you want all the rows where column col3 has a positive value\n",
    "# Produces and array, not a single value!\n",
    "df.col3 > 0"
   ]
  },
  {
   "cell_type": "code",
   "execution_count": null,
   "metadata": {
    "ExecuteTime": {
     "end_time": "2021-02-17T19:18:26.043029Z",
     "start_time": "2021-02-17T19:17:55.168Z"
    }
   },
   "outputs": [],
   "source": [
    "# now you can do binary indexing like in numpy\n",
    "df[df.col3 > 0]"
   ]
  },
  {
   "cell_type": "markdown",
   "metadata": {},
   "source": [
    "## Plotting"
   ]
  },
  {
   "cell_type": "code",
   "execution_count": null,
   "metadata": {
    "ExecuteTime": {
     "end_time": "2021-02-17T19:18:26.046055Z",
     "start_time": "2021-02-17T19:17:55.175Z"
    }
   },
   "outputs": [],
   "source": [
    "# let's create another data frame and plot it\n",
    "plot_df = pd.DataFrame({\n",
    "    'col1': [1, 3, 2, 4],\n",
    "    'col2': [3, 6, 5, 1],\n",
    "    'col3': [4, 7, 6, 2],\n",
    "})"
   ]
  },
  {
   "cell_type": "markdown",
   "metadata": {},
   "source": [
    "Pandas has a built in plotting functionality, but you can also plot it with matplotlib"
   ]
  },
  {
   "cell_type": "code",
   "execution_count": null,
   "metadata": {
    "ExecuteTime": {
     "end_time": "2021-02-17T19:18:26.047313Z",
     "start_time": "2021-02-17T19:17:55.185Z"
    }
   },
   "outputs": [],
   "source": [
    "plot_df.plot()"
   ]
  },
  {
   "cell_type": "code",
   "execution_count": null,
   "metadata": {
    "ExecuteTime": {
     "end_time": "2021-02-17T19:18:26.049686Z",
     "start_time": "2021-02-17T19:17:55.193Z"
    }
   },
   "outputs": [],
   "source": [
    "# We can also specify a column for the x-axis:\n",
    "plot_df.plot(x='col3')"
   ]
  },
  {
   "cell_type": "code",
   "execution_count": null,
   "metadata": {
    "ExecuteTime": {
     "end_time": "2021-02-17T19:18:26.051744Z",
     "start_time": "2021-02-17T19:17:55.201Z"
    }
   },
   "outputs": [],
   "source": [
    "# Use kind='hbar' for horizontal bars, and stacked=True to stack the groups\n",
    "plot_df.plot(kind='bar')"
   ]
  },
  {
   "cell_type": "code",
   "execution_count": null,
   "metadata": {
    "ExecuteTime": {
     "end_time": "2021-02-17T19:18:26.054149Z",
     "start_time": "2021-02-17T19:17:55.209Z"
    }
   },
   "outputs": [],
   "source": [
    "# Boxplots are displayed with the kind=’box’ options. Each box represents a numeric column.\n",
    "plot_df.plot(kind='box')"
   ]
  }
 ],
 "metadata": {
  "anaconda-cloud": {},
  "hide_input": false,
  "kernelspec": {
   "display_name": "Python 3",
   "language": "python",
   "name": "python3"
  },
  "language_info": {
   "codemirror_mode": {
    "name": "ipython",
    "version": 3
   },
   "file_extension": ".py",
   "mimetype": "text/x-python",
   "name": "python",
   "nbconvert_exporter": "python",
   "pygments_lexer": "ipython3",
   "version": "3.8.5"
  },
  "toc": {
   "base_numbering": 1,
   "nav_menu": {},
   "number_sections": true,
   "sideBar": true,
   "skip_h1_title": false,
   "title_cell": "Table of Contents",
   "title_sidebar": "Contents",
   "toc_cell": false,
   "toc_position": {},
   "toc_section_display": true,
   "toc_window_display": false
  }
 },
 "nbformat": 4,
 "nbformat_minor": 1
}
